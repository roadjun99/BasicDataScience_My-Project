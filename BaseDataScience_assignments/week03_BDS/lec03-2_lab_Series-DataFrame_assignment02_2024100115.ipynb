{
  "metadata": {
    "kernelspec": {
      "name": "python",
      "display_name": "Python (Pyodide)",
      "language": "python"
    },
    "language_info": {
      "codemirror_mode": {
        "name": "python",
        "version": 3
      },
      "file_extension": ".py",
      "mimetype": "text/x-python",
      "name": "python",
      "nbconvert_exporter": "python",
      "pygments_lexer": "ipython3",
      "version": "3.8"
    }
  },
  "nbformat_minor": 4,
  "nbformat": 4,
  "cells": [
    {
      "cell_type": "markdown",
      "source": "## 기초데이터과학 (01분반) \n\n## Programming assignment 02",
      "metadata": {}
    },
    {
      "cell_type": "markdown",
      "source": "### 1. Pandas Series를 활용하여 결측치를 찾고 합산, 평균을 구하시오.",
      "metadata": {}
    },
    {
      "cell_type": "code",
      "source": "import pandas as pd\n\n# Series 객체를 생성하기 위해 주어진 데이터\nd = [100, 200, None, 150, None, 300, 250]\ni = ['A', 'B', 'C', 'D', 'E', 'F', 'G']",
      "metadata": {
        "trusted": true
      },
      "outputs": [],
      "execution_count": 1
    },
    {
      "cell_type": "code",
      "source": "# d를 value로 i를 index로 하는 Series 객체 생성\ndata = pd.Series(d, index=i)\nprint(data)",
      "metadata": {
        "trusted": true
      },
      "outputs": [
        {
          "name": "stdout",
          "output_type": "stream",
          "text": "A    100.0\nB    200.0\nC      NaN\nD    150.0\nE      NaN\nF    300.0\nG    250.0\ndtype: float64\n"
        }
      ],
      "execution_count": 19
    },
    {
      "cell_type": "markdown",
      "source": "#### 1-1. 위에서 생성한 Series 객체에서 결측치가 있는 값들을 출력하시오.",
      "metadata": {}
    },
    {
      "cell_type": "code",
      "source": "# 주어진 Series 중 결측치가 있는 값들을 찾고 출력\ndata_Null=data[data.isnull()]\nprint(data_Null)",
      "metadata": {
        "trusted": true
      },
      "outputs": [
        {
          "name": "stdout",
          "output_type": "stream",
          "text": "C   NaN\nE   NaN\ndtype: float64\n"
        }
      ],
      "execution_count": 33
    },
    {
      "cell_type": "markdown",
      "source": "#### 1-2. 위에서 생성한 Series 객체에서 결측치가 아닌 값들을 출력하시오.",
      "metadata": {}
    },
    {
      "cell_type": "code",
      "source": "# 주어진 Series 중 결측치가 없는 값들을 찾고 출력\ndata_Not_Null=data[data.notnull()]\nprint(data_Not_Null)",
      "metadata": {
        "trusted": true
      },
      "outputs": [
        {
          "name": "stdout",
          "output_type": "stream",
          "text": "A    100.0\nB    200.0\nD    150.0\nF    300.0\nG    250.0\ndtype: float64\n"
        }
      ],
      "execution_count": 34
    },
    {
      "cell_type": "markdown",
      "source": "#### 1-3. 위에서 생성한 Series 객체에서 결측치가 있는 값의 개수를 구하고 출력하시오.",
      "metadata": {}
    },
    {
      "cell_type": "code",
      "source": "# 결측치가 있는 값의 개수 구하고 출력\ndata_num_Null=data.isnull().sum()\nprint(data_num_Null)",
      "metadata": {
        "trusted": true
      },
      "outputs": [
        {
          "name": "stdout",
          "output_type": "stream",
          "text": "2\n"
        }
      ],
      "execution_count": 42
    },
    {
      "cell_type": "markdown",
      "source": "#### 1-4. 위에서 생성한 Series 객체에서 결측치가 아닌 값들의 평균을 구하고 출력하시오.",
      "metadata": {}
    },
    {
      "cell_type": "code",
      "source": "# 결측치가 없는 값들의 평균을 구하고 출력\ndata_num_mean=data_Not_Null.mean()\nprint(data_num_mean)",
      "metadata": {
        "trusted": true
      },
      "outputs": [
        {
          "name": "stdout",
          "output_type": "stream",
          "text": "200.0\n"
        }
      ],
      "execution_count": 43
    },
    {
      "cell_type": "markdown",
      "source": "### 2. 다음과 같이 주어진 상품 데이터를 이용하여 아래 문제에 맞게 코드를 작성하시오. ",
      "metadata": {}
    },
    {
      "cell_type": "code",
      "source": "import pandas as pd\n\n# 주어진 데이터를 이용하여 데이터 프레임 객체를 생성하고 출력\ndata = {\n    'Product': ['A', 'B', 'C', 'D', 'E', 'F', 'G', 'H', 'I', 'J'],\n    'Price': [100, 200, 150, 300, 250, 130, 120, 180, 220, 270],\n    'Quantity': [10, 5, 8, 6, 9, 15, 12, 7, 10, 8],\n    'Category': ['Electronics', 'Clothing', 'Electronics', 'Electronics', \\\n                 'Clothing', 'Electronics', 'Clothing', 'Electronics', \\\n                 'Clothing', 'Clothing']\n}\ndf = pd.DataFrame(data)\nprint(\"Default:\")\nprint(df)\nprint()",
      "metadata": {},
      "outputs": [
        {
          "name": "stdout",
          "output_type": "stream",
          "text": "Default:\n,  Product  Price  Quantity     Category\n,0       A    100        10  Electronics\n,1       B    200         5     Clothing\n,2       C    150         8  Electronics\n,3       D    300         6  Electronics\n,4       E    250         9     Clothing\n,5       F    130        15  Electronics\n,6       G    120        12     Clothing\n,7       H    180         7  Electronics\n,8       I    220        10     Clothing\n,9       J    270         8     Clothing\n,\n"
        }
      ],
      "execution_count": 2
    },
    {
      "cell_type": "markdown",
      "source": "#### 2-1. 위에서 생성한 DataFrame 객체의 행 인덱스를 'A', 'B', 'C', 'D', 'E', 'F', 'G', 'H', 'I', 'J'로 설정하여 출력하시오.",
      "metadata": {}
    },
    {
      "cell_type": "code",
      "source": "# DataFrame의 행 인덱스를 'A', 'B', 'C', 'D', 'E', 'F', 'G', 'H', 'I', 'J'로 설정\n# Product 변수(열)의 값이 A, B, ... J 이므로 이 값을 이용\nimport pandas as pd\n# DataFrame 객체의 사본 생성\ndf = {\n    'Product': ['A', 'B', 'C', 'D', 'E', 'F', 'G', 'H', 'I', 'J'],\n    'Price': [100, 200, 150, 300, 250, 130, 120, 180, 220, 270],\n    'Quantity': [10, 5, 8, 6, 9, 15, 12, 7, 10, 8],\n    'Category': ['Electronics', 'Clothing', 'Electronics', 'Electronics', \\\n                 'Clothing', 'Electronics', 'Clothing', 'Electronics', \\\n                 'Clothing', 'Clothing']\n}\ndf_2=pd.DataFrame(df.copy())\n\n# df_new 객체의 행 인덱스를 Product 변수의 값으로 설정\n# 변수 이름이 함께 추출되지 않도록 pandas.DataFrame.to_numpy 함수 활용\ndf_2.index=df_2['Product'].to_numpy()\n\n# DataFrame 출력\nprint(df_2)\n",
      "metadata": {
        "trusted": true
      },
      "outputs": [
        {
          "name": "stdout",
          "output_type": "stream",
          "text": "  Product  Price  Quantity     Category\nA       A    100        10  Electronics\nB       B    200         5     Clothing\nC       C    150         8  Electronics\nD       D    300         6  Electronics\nE       E    250         9     Clothing\nF       F    130        15  Electronics\nG       G    120        12     Clothing\nH       H    180         7  Electronics\nI       I    220        10     Clothing\nJ       J    270         8     Clothing\n"
        }
      ],
      "execution_count": 50
    },
    {
      "cell_type": "markdown",
      "source": "#### 2-2. 2-1의 DataFrame 객체의 Product 변수의 값을 아래 주어진 리스트를 이용하여 변경하여 출력하시오.",
      "metadata": {}
    },
    {
      "cell_type": "code",
      "source": "import numpy as np\nd = ['Laptop', 'Jacket', 'Smartphone', 'Headphones', 'Sweater', \\\n     'Tablet', 'Scarf', 'Camera', 'Jeans', 'Hat']\n\n# DataFrame의 'Product' 변수의 값을 위의 리스트 d를 이용하여 변경\narr1=np.array(d)\ndf_2['Product']=arr1\n\n# DataFrame 출력\nprint(df_2)\n",
      "metadata": {
        "trusted": true
      },
      "outputs": [
        {
          "name": "stdout",
          "output_type": "stream",
          "text": "      Product  Price  Quantity     Category\nA      Laptop    100        10  Electronics\nB      Jacket    200         5     Clothing\nC  Smartphone    150         8  Electronics\nD  Headphones    300         6  Electronics\nE     Sweater    250         9     Clothing\nF      Tablet    130        15  Electronics\nG       Scarf    120        12     Clothing\nH      Camera    180         7  Electronics\nI       Jeans    220        10     Clothing\nJ         Hat    270         8     Clothing\n"
        }
      ],
      "execution_count": 52
    },
    {
      "cell_type": "markdown",
      "source": "#### 2-3. 2-2의 DataFrame 객체에서 열의 순서를 Product, Category, Price, Quantity 순서로 재설정하여 출력하시오.",
      "metadata": {}
    },
    {
      "cell_type": "code",
      "source": "# DataFrame 열의 순서를 Product, Category, Price, Quantity 순서로 재설정\ndf_2=pd.DataFrame(df_2,columns=['Product','Category','Price','Quantity'])\n\n# DataFrame 출력\nprint(df_2)",
      "metadata": {
        "trusted": true
      },
      "outputs": [
        {
          "name": "stdout",
          "output_type": "stream",
          "text": "      Product     Category  Price  Quantity\nA      Laptop  Electronics    100        10\nB      Jacket     Clothing    200         5\nC  Smartphone  Electronics    150         8\nD  Headphones  Electronics    300         6\nE     Sweater     Clothing    250         9\nF      Tablet  Electronics    130        15\nG       Scarf     Clothing    120        12\nH      Camera  Electronics    180         7\nI       Jeans     Clothing    220        10\nJ         Hat     Clothing    270         8\n"
        }
      ],
      "execution_count": 53
    },
    {
      "cell_type": "markdown",
      "source": "#### 2-4. 2-3의 DataFrame의 요약 통계량을 출력하시오.",
      "metadata": {}
    },
    {
      "cell_type": "code",
      "source": "# 요약 통계량 출력\nprint(df_2.describe())",
      "metadata": {
        "trusted": true
      },
      "outputs": [
        {
          "name": "stdout",
          "output_type": "stream",
          "text": "            Price  Quantity\ncount   10.000000  10.00000\nmean   192.000000   9.00000\nstd     67.790527   2.94392\nmin    100.000000   5.00000\n25%    135.000000   7.25000\n50%    190.000000   8.50000\n75%    242.500000  10.00000\nmax    300.000000  15.00000\n"
        }
      ],
      "execution_count": 54
    },
    {
      "cell_type": "markdown",
      "source": "#### 2-5. 2-3의 DataFrame에서 Price 변수와 Quantity 변수 값을 곱한 값을 P*Q이라는 파생 변수를 만들어 추가하고 출력하시오.",
      "metadata": {}
    },
    {
      "cell_type": "code",
      "source": "# 파생 변수 만들어 추가하기\ndf_2['P*Q']=df_2['Price']*df_2['Quantity']\n\n# DataFrame 출력\nprint(df_2)",
      "metadata": {
        "trusted": true
      },
      "outputs": [
        {
          "name": "stdout",
          "output_type": "stream",
          "text": "      Product     Category  Price  Quantity   P*Q\nA      Laptop  Electronics    100        10  1000\nB      Jacket     Clothing    200         5  1000\nC  Smartphone  Electronics    150         8  1200\nD  Headphones  Electronics    300         6  1800\nE     Sweater     Clothing    250         9  2250\nF      Tablet  Electronics    130        15  1950\nG       Scarf     Clothing    120        12  1440\nH      Camera  Electronics    180         7  1260\nI       Jeans     Clothing    220        10  2200\nJ         Hat     Clothing    270         8  2160\n"
        }
      ],
      "execution_count": 55
    },
    {
      "cell_type": "markdown",
      "source": "### 3. 학생들의 점수가 담긴 DataFrame을 생성하고, 각 학생들의 총점과 평균 점수를 계산하여 새로운 열로 추가하시오.",
      "metadata": {}
    },
    {
      "cell_type": "code",
      "source": "import pandas as pd\nimport numpy as np\n\n# 주어진 데이터를 이용하여 데이터 프레임 객체를 생성하고 출력\nscores_data = {\n    'korean': [87, 70, 95, 85, 100, 78, 82],\n    'english': [90, 85, 87, 88, 76, 91, 84],\n    'math': [85, 79, 92, 86, 89, 95, 87],\n    'science': [88, 79, 85, 86, 95, 100, 92],\n    'history': [92, 81, 87, 90, 91, 89, 94],\n    'CSE': [95, 89, 94, 90, 100, 93, 88],\n    'AI': [87, 78, 88, 92, 85, 99, 95]\n}\ndf_scores = pd.DataFrame(scores_data, index=['Alice', 'Bob', 'Charlie', 'David', 'Mike', 'Emma', 'Sophia'])\nprint(\"원본 데이터:\")\nprint(df_scores)",
      "metadata": {
        "trusted": true
      },
      "outputs": [
        {
          "name": "stdout",
          "output_type": "stream",
          "text": "원본 데이터:\n         korean  english  math  science  history  CSE  AI\nAlice        87       90    85       88       92   95  87\nBob          70       85    79       79       81   89  78\nCharlie      95       87    92       85       87   94  88\nDavid        85       88    86       86       90   90  92\nMike        100       76    89       95       91  100  85\nEmma         78       91    95      100       89   93  99\nSophia       82       84    87       92       94   88  95\n"
        }
      ],
      "execution_count": 2
    },
    {
      "cell_type": "markdown",
      "source": "#### 3-1. 각 학생의 총점을 total 열로 추가하고, 평균을 average 열로 추가하시오.",
      "metadata": {}
    },
    {
      "cell_type": "code",
      "source": "# 총점과 평균 점수 추가\ndf_scores_2=df_scores.copy()\ndf_scores_2=pd.DataFrame(df_scores_2)\ndf_scores_2['total']=np.array(df_scores.sum(1))\ndf_scores_2['average']=np.array(df_scores.mean(1))\n\n\n# 결과 출력\nprint(df_scores_2)\n",
      "metadata": {
        "trusted": true
      },
      "outputs": [
        {
          "name": "stdout",
          "output_type": "stream",
          "text": "         korean  english  math  science  history  CSE  AI  total    average\nAlice        87       90    85       88       92   95  87    624  89.142857\nBob          70       85    79       79       81   89  78    561  80.142857\nCharlie      95       87    92       85       87   94  88    628  89.714286\nDavid        85       88    86       86       90   90  92    617  88.142857\nMike        100       76    89       95       91  100  85    636  90.857143\nEmma         78       91    95      100       89   93  99    645  92.142857\nSophia       82       84    87       92       94   88  95    622  88.857143\n"
        }
      ],
      "execution_count": 6
    },
    {
      "cell_type": "markdown",
      "source": "#### 3-2. 데이터 정보를 확인하시오.",
      "metadata": {}
    },
    {
      "cell_type": "code",
      "source": "# 요약 통계량 출력\nprint(df_scores_2.describe())\n\n# 변수 속성 출력\nprint(df_scores_2.info())\n",
      "metadata": {
        "trusted": true
      },
      "outputs": [
        {
          "name": "stdout",
          "output_type": "stream",
          "text": "           korean    english       math     science    history         CSE  \\\ncount    7.000000   7.000000   7.000000    7.000000   7.000000    7.000000   \nmean    85.285714  85.857143  87.571429   89.285714  89.142857   92.714286   \nstd     10.094789   5.014265   5.159365    6.969321   4.220133    4.151879   \nmin     70.000000  76.000000  79.000000   79.000000  81.000000   88.000000   \n25%     80.000000  84.500000  85.500000   85.500000  88.000000   89.500000   \n50%     85.000000  87.000000  87.000000   88.000000  90.000000   93.000000   \n75%     91.000000  89.000000  90.500000   93.500000  91.500000   94.500000   \nmax    100.000000  91.000000  95.000000  100.000000  94.000000  100.000000   \n\n              AI       total    average  \ncount   7.000000    7.000000   7.000000  \nmean   89.142857  619.000000  88.428571  \nstd     6.914443   27.227437   3.889634  \nmin    78.000000  561.000000  80.142857  \n25%    86.000000  619.500000  88.500000  \n50%    88.000000  624.000000  89.142857  \n75%    93.500000  632.000000  90.285714  \nmax    99.000000  645.000000  92.142857  \n<class 'pandas.core.frame.DataFrame'>\nIndex: 7 entries, Alice to Sophia\nData columns (total 9 columns):\n #   Column   Non-Null Count  Dtype  \n---  ------   --------------  -----  \n 0   korean   7 non-null      int64  \n 1   english  7 non-null      int64  \n 2   math     7 non-null      int64  \n 3   science  7 non-null      int64  \n 4   history  7 non-null      int64  \n 5   CSE      7 non-null      int64  \n 6   AI       7 non-null      int64  \n 7   total    7 non-null      int64  \n 8   average  7 non-null      float64\ndtypes: float64(1), int64(8)\nmemory usage: 692.0+ bytes\nNone\n"
        }
      ],
      "execution_count": 7
    },
    {
      "cell_type": "markdown",
      "source": "#### 3-3. 평균 점수가 90점 이상인 학생들의 데이터만 추출하시오.",
      "metadata": {}
    },
    {
      "cell_type": "code",
      "source": "df_scores_over90=df_scores_2[df_scores_2['average']>=90]\nprint(df_scores_over90)",
      "metadata": {
        "trusted": true
      },
      "outputs": [
        {
          "name": "stdout",
          "output_type": "stream",
          "text": "      korean  english  math  science  history  CSE  AI  total    average\nMike     100       76    89       95       91  100  85    636  90.857143\nEmma      78       91    95      100       89   93  99    645  92.142857\n"
        }
      ],
      "execution_count": 9
    },
    {
      "cell_type": "markdown",
      "source": "#### 3-4. 가장 낮은 점수를 가진 학생을 찾으시오.",
      "metadata": {}
    },
    {
      "cell_type": "code",
      "source": "# 가장 낮은 점수를 가진 학생 index 추출\ndf_sc_index_min=df_scores_2['average'].argmin()\n#df_sc_index_min2=df_scores_2['average'].idxmin()\n\n# 가장 낮은 점수를 가진 학생 추출\ndf_sc_min=df_scores_2['average'].iloc[[df_sc_index_min]]\n#df_sc_min2=df_scores_2['average'].loc[[df_sc_index_min2]]\n\n# 결과 출력\nprint(df_scores_2.iloc[[df_sc_index_min]])\n#print(df_scores_2.loc[[df_sc_index_min2]])\n\n# 풀이2)\n# df_sc_index_min=df_scores_2.index[df_scores_2['average'].argmin()]\n# df_sc_min=df_scores_2['average'].min()\n# print(df_scores_2[df_scores_2['average']==df_sc_min])",
      "metadata": {
        "trusted": true
      },
      "outputs": [
        {
          "name": "stdout",
          "output_type": "stream",
          "text": "     korean  english  math  science  history  CSE  AI  total    average\nBob      70       85    79       79       81   89  78    561  80.142857\n"
        }
      ],
      "execution_count": 29
    },
    {
      "cell_type": "markdown",
      "source": "### 4. 직원들의 정보가 담긴 데이터프레임을 생성하고, 여러 조건에 따라 보너스를 계산하시오.",
      "metadata": {}
    },
    {
      "cell_type": "code",
      "source": "# 직원 데이터\nemployee_data = {\n    'name': ['Alice', 'Bob', 'Charlie', 'David', 'Eve'],\n    'dept': ['Sales', 'IT', 'Sales', 'HR', 'IT'],\n    'years': [7, 3, 2, 10, 6],\n    'salary_usd': [60000, 52000, 48000, 75000, 65000]\n}\ndf_emp = pd.DataFrame(employee_data)\nprint(\"원본 직원 데이터:\")\nprint(df_emp)",
      "metadata": {
        "trusted": true
      },
      "outputs": [
        {
          "name": "stdout",
          "output_type": "stream",
          "text": "원본 직원 데이터:\n      name   dept  years  salary_usd\n0    Alice  Sales      7       60000\n1      Bob     IT      3       52000\n2  Charlie  Sales      2       48000\n3    David     HR     10       75000\n4      Eve     IT      6       65000\n"
        }
      ],
      "execution_count": 18
    },
    {
      "cell_type": "markdown",
      "source": "#### 4-1. 열 이름을 'dept' -> 'Department', 'years' -> 'Years_of_Service', 'salary_usd' -> 'Salary'로 변경하시오.",
      "metadata": {}
    },
    {
      "cell_type": "code",
      "source": "# 각 열 이름 변경\ndf_emp_2=df_emp.copy()\ndf_emp_2=df_emp_2.rename(columns={'dept':'Department','years':'Years_of_Service','salary_usd':'Salary'})\n\n# 결과 출력\nprint(df_emp_2)\n",
      "metadata": {
        "trusted": true
      },
      "outputs": [
        {
          "name": "stdout",
          "output_type": "stream",
          "text": "      name Department  Years_of_Service  Salary\n0    Alice      Sales                 7   60000\n1      Bob         IT                 3   52000\n2  Charlie      Sales                 2   48000\n3    David         HR                10   75000\n4      Eve         IT                 6   65000\n"
        }
      ],
      "execution_count": 20
    },
    {
      "cell_type": "markdown",
      "source": "#### 4-2. 새로운 Bonus 열에 주어진 조건에 따라 보너스를 계산하시오.\n1. 기본 보너스: 연봉(Salary)의 5%\n2. 근속 인센티브: 근속년수(Years_of_Service) * 100 $",
      "metadata": {}
    },
    {
      "cell_type": "code",
      "source": "# 새로운 Bonus열에 주어진 조건에 따라 보너스 계산\n# 기본 보너스 + 근속 인센티브\ndf_emp_2['Bonus']=df_emp_2['Salary']*0.05+df_emp_2['Years_of_Service']*100\n\n# 결과 출력\nprint(df_emp_2)",
      "metadata": {
        "trusted": true
      },
      "outputs": [
        {
          "name": "stdout",
          "output_type": "stream",
          "text": "      name Department  Years_of_Service  Salary   Bonus\n0    Alice      Sales                 7   60000  3700.0\n1      Bob         IT                 3   52000  2900.0\n2  Charlie      Sales                 2   48000  2600.0\n3    David         HR                10   75000  4750.0\n4      Eve         IT                 6   65000  3850.0\n"
        }
      ],
      "execution_count": 21
    },
    {
      "cell_type": "markdown",
      "source": "#### 4-3. Bonus 통계를 구하시오.",
      "metadata": {}
    },
    {
      "cell_type": "code",
      "source": "# 보너스의 평균, 최대, 최소 계산\ndf_emp_2_average=df_emp_2['Bonus'].mean()\ndf_emp_2_max=df_emp_2['Bonus'].max()\ndf_emp_2_min=df_emp_2['Bonus'].min()\n\n# 결과 출력\nprint(\"평균: \",df_emp_2_average)\nprint(\"최대: \",df_emp_2_max)\nprint(\"최소: \",df_emp_2_min)",
      "metadata": {
        "trusted": true
      },
      "outputs": [
        {
          "name": "stdout",
          "output_type": "stream",
          "text": "평균:  3560.0\n최대:  4750.0\n최소:  2600.0\n"
        }
      ],
      "execution_count": 24
    },
    {
      "cell_type": "markdown",
      "source": "### 5. 자율 문제\n- 새로 DataFrame 객체로 데이터를 생성하여 자신이 알아보고 싶은 것을 자유롭게 정하고 데이터 처리한 결과를 보이시오.\n  - 서브 문제 3개",
      "metadata": {}
    },
    {
      "cell_type": "code",
      "source": "import pandas as pd\n\n# 카페 판매 데이터 생성\ncafe_data = {\n    'Date': ['2025-09-18', '2025-09-18', '2025-09-18', '2025-09-18', '2025-09-19', \n             '2025-09-19', '2025-09-19', '2025-09-19', '2025-09-20', '2025-09-20', \n             '2025-09-20', '2025-09-20', '2025-09-20'],\n    'MenuItem': ['Americano', 'Latte', 'Cheese Cake', 'Muffin', 'Americano', \n                 'Green Tea', 'Latte', 'Cheese Cake', 'Americano', 'Latte', \n                 'Muffin', 'Green Tea', 'Cheese Cake'],\n    'Category': ['Coffee', 'Coffee', 'Dessert', 'Dessert', 'Coffee', \n                 'Tea', 'Coffee', 'Dessert', 'Coffee', 'Coffee', \n                 'Dessert', 'Tea', 'Dessert'],\n    'Price': [4500, 5000, 6500, 4000, 4500, \n              4800, 5000, 6500, 4500, 5000, \n              4000, 4800, 6500],\n    'Quantity': [5, 3, 2, 4, 6, 3, 5, 3, 7, 4, 2, 4, 1]\n}\n\n# 데이터프레임 생성\ndf_cafe = pd.DataFrame(cafe_data)\n\n# 생성된 데이터프레임 확인\nprint(\"--- 카페 판매 데이터 ---\")\nprint(df_cafe)",
      "metadata": {
        "trusted": true
      },
      "outputs": [
        {
          "name": "stdout",
          "output_type": "stream",
          "text": "--- 카페 판매 데이터 ---\n          Date     MenuItem Category  Price  Quantity\n0   2025-09-18    Americano   Coffee   4500         5\n1   2025-09-18        Latte   Coffee   5000         3\n2   2025-09-18  Cheese Cake  Dessert   6500         2\n3   2025-09-18       Muffin  Dessert   4000         4\n4   2025-09-19    Americano   Coffee   4500         6\n5   2025-09-19    Green Tea      Tea   4800         3\n6   2025-09-19        Latte   Coffee   5000         5\n7   2025-09-19  Cheese Cake  Dessert   6500         3\n8   2025-09-20    Americano   Coffee   4500         7\n9   2025-09-20        Latte   Coffee   5000         4\n10  2025-09-20       Muffin  Dessert   4000         2\n11  2025-09-20    Green Tea      Tea   4800         4\n12  2025-09-20  Cheese Cake  Dessert   6500         1\n"
        }
      ],
      "execution_count": 25
    },
    {
      "cell_type": "markdown",
      "source": "### 5-1. Price와 Quantity를 곱해서 'Total_Sales'라는 새로운 열을 추가하시오.",
      "metadata": {}
    },
    {
      "cell_type": "code",
      "source": "# 5-1. 일일 총 매출 계산하기\n# 복사\ndf_cafe_01=df_cafe.copy()\ndf_cafe_01['Total_Sales']=df_cafe_01['Price']*df_cafe_01['Quantity']\n# 출력\nprint(df_cafe_01)",
      "metadata": {
        "trusted": true
      },
      "outputs": [
        {
          "name": "stdout",
          "output_type": "stream",
          "text": "          Date     MenuItem Category  Price  Quantity  Total_Sales\n0   2025-09-18    Americano   Coffee   4500         5        22500\n1   2025-09-18        Latte   Coffee   5000         3        15000\n2   2025-09-18  Cheese Cake  Dessert   6500         2        13000\n3   2025-09-18       Muffin  Dessert   4000         4        16000\n4   2025-09-19    Americano   Coffee   4500         6        27000\n5   2025-09-19    Green Tea      Tea   4800         3        14400\n6   2025-09-19        Latte   Coffee   5000         5        25000\n7   2025-09-19  Cheese Cake  Dessert   6500         3        19500\n8   2025-09-20    Americano   Coffee   4500         7        31500\n9   2025-09-20        Latte   Coffee   5000         4        20000\n10  2025-09-20       Muffin  Dessert   4000         2         8000\n11  2025-09-20    Green Tea      Tea   4800         4        19200\n12  2025-09-20  Cheese Cake  Dessert   6500         1         6500\n"
        }
      ],
      "execution_count": 26
    },
    {
      "cell_type": "markdown",
      "source": "### 5-2. 메뉴 아이템(MenuItem)별로 총 판매 수량(Quantity)을 계산해서 어떤 메뉴가 가장 많이 팔렸는지 확인하시오.",
      "metadata": {}
    },
    {
      "cell_type": "code",
      "source": "# 5-2. 최애 매뉴\n# 판매 수량 최댓값 찾기\ndf_cafe_01_MaxQuan=df_cafe_01['Quantity'].argmax()\n# 출력\nprint(df_cafe_01.iloc[[df_cafe_01_MaxQuan]])",
      "metadata": {
        "trusted": true
      },
      "outputs": [
        {
          "name": "stdout",
          "output_type": "stream",
          "text": "         Date   MenuItem Category  Price  Quantity  Total_Sales\n8  2025-09-20  Americano   Coffee   4500         7        31500\n"
        }
      ],
      "execution_count": 30
    },
    {
      "cell_type": "markdown",
      "source": "### 5-3. 카테고리(Category)별로 가장 적은 매출을 올린 메뉴를 출력하시오.",
      "metadata": {}
    },
    {
      "cell_type": "code",
      "source": "# 5-3. 효자 상품\n# 매출 최솟값 찾기\ndf_cafe_01_MinToSales=df_cafe_01['Total_Sales'].idxmin()\n# 출력\nprint(df_cafe_01.loc[[df_cafe_01_MinToSales]])",
      "metadata": {
        "trusted": true
      },
      "outputs": [
        {
          "name": "stdout",
          "output_type": "stream",
          "text": "          Date     MenuItem Category  Price  Quantity  Total_Sales\n12  2025-09-20  Cheese Cake  Dessert   6500         1         6500\n"
        }
      ],
      "execution_count": 31
    },
    {
      "cell_type": "code",
      "source": "",
      "metadata": {
        "trusted": true
      },
      "outputs": [],
      "execution_count": null
    }
  ]
}