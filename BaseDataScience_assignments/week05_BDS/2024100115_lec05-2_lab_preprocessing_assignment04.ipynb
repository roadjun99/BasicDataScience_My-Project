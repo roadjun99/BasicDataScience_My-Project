{
 "cells": [
  {
   "cell_type": "markdown",
   "metadata": {},
   "source": [
    "## 기초데이터과학 (01분반) \n",
    "\n",
    "## Programming assignment 04"
   ]
  },
  {
   "cell_type": "markdown",
   "metadata": {},
   "source": [
    "### 1. 미국의 아기 이름 데이터로 아래 문제에 맞게 코드를 작성하세요."
   ]
  },
  {
   "cell_type": "code",
   "metadata": {
    "ExecuteTime": {
     "end_time": "2025-10-01T02:40:01.641250Z",
     "start_time": "2025-10-01T02:39:58.895284Z"
    }
   },
   "source": [
    "import pandas as pd\n",
    "\n",
    "# 주어진 데이터 생성\n",
    "df = pd.read_csv('https://raw.githubusercontent.com/guipsamora/pandas_exercises/master/06_Stats/US_Baby_Names/US_Baby_Names_right.csv')"
   ],
   "outputs": [],
   "execution_count": 3
  },
  {
   "cell_type": "markdown",
   "metadata": {},
   "source": [
    "#### 1-1. 2014년도에 태어난 여자 아이('F')의 데이터만 추출하여 전체 수와 앞 5개 행을 출력하세요."
   ]
  },
  {
   "cell_type": "code",
   "metadata": {
    "ExecuteTime": {
     "end_time": "2025-10-01T02:48:41.342209Z",
     "start_time": "2025-10-01T02:48:41.294049Z"
    }
   },
   "source": [
    "# 2014년 여자 아이 데이터 추출\n",
    "df_copy=df.copy()\n",
    "df_c_number=df_copy.query('Year==2014&Gender==\"F\"')\n",
    "df_cn_sum=df_c_number['Gender'].count()\n",
    "\n",
    "# 전체 수 출력\n",
    "print(\"전체 수:\\n\",df_cn_sum)\n",
    "\n",
    "# 앞 5개 행 출력\n",
    "print(df_c_number.head())"
   ],
   "outputs": [
    {
     "name": "stdout",
     "output_type": "stream",
     "text": [
      "전체 수:\n",
      " 51030\n",
      "      Unnamed: 0     Id      Name  Year Gender State  Count\n",
      "2173       13522  13523      Emma  2014      F    AK     50\n",
      "2174       13523  13524    Olivia  2014      F    AK     47\n",
      "2175       13524  13525    Sophia  2014      F    AK     43\n",
      "2176       13525  13526    Aurora  2014      F    AK     35\n",
      "2177       13526  13527  Isabella  2014      F    AK     33\n"
     ]
    }
   ],
   "execution_count": 8
  },
  {
   "cell_type": "markdown",
   "metadata": {},
   "source": [
    "#### 1-2. 이름으로 데이터를 오름차순 정렬하고, 연도는 내림차순 정렬하세요. 이후 정렬 순서를 바꿔보세요."
   ]
  },
  {
   "cell_type": "code",
   "metadata": {
    "ExecuteTime": {
     "end_time": "2025-10-01T02:55:36.798500Z",
     "start_time": "2025-10-01T02:55:36.479066Z"
    }
   },
   "source": [
    "# 이름은 오름차순 정렬, 연도는 내림차순 정렬\n",
    "df_copy_ascend=df_copy.sort_values(['Name','Year'],ascending=[True,False])\n",
    "\n",
    "# 결과 출력\n",
    "print(df_copy_ascend)\n",
    "\n",
    "# 이름은 내림차순 정렬, 연도는 오름차순 정렬\n",
    "df_ascend_2=df_copy.sort_values(['Name','Year'],ascending=[False,True])\n",
    "\n",
    "# 결과 출력\n",
    "print(df_ascend_2)"
   ],
   "outputs": [
    {
     "name": "stdout",
     "output_type": "stream",
     "text": [
      "        Unnamed: 0       Id    Name  Year Gender State  Count\n",
      "695768     3867935  3867936   Aaban  2014      M    NY      6\n",
      "693699     3865866  3865867   Aaban  2013      M    NY      6\n",
      "138678      709855   709856   Aadan  2014      M    CA      5\n",
      "123846      695023   695024   Aadan  2009      M    CA      6\n",
      "120728      691905   691906   Aadan  2008      M    CA      7\n",
      "...            ...      ...     ...   ...    ...   ...    ...\n",
      "867512     4919547  4919548  Zyriah  2009      F    TX      5\n",
      "862166     4914201  4914202  Zyriah  2008      F    TX     10\n",
      "235986     1238450  1238451  Zyriah  2007      F    GA      5\n",
      "858842     4910877  4910878  Zyriah  2007      F    TX      8\n",
      "855869     4907904  4907905  Zyriah  2006      F    TX      6\n",
      "\n",
      "[1016395 rows x 7 columns]\n",
      "        Unnamed: 0       Id    Name  Year Gender State  Count\n",
      "855869     4907904  4907905  Zyriah  2006      F    TX      6\n",
      "235986     1238450  1238451  Zyriah  2007      F    GA      5\n",
      "858842     4910877  4910878  Zyriah  2007      F    TX      8\n",
      "862166     4914201  4914202  Zyriah  2008      F    TX     10\n",
      "867512     4919547  4919548  Zyriah  2009      F    TX      5\n",
      "...            ...      ...     ...   ...    ...   ...    ...\n",
      "897674     5061278  5061279   Aadan  2008      M    TX      5\n",
      "123846      695023   695024   Aadan  2009      M    CA      6\n",
      "138678      709855   709856   Aadan  2014      M    CA      5\n",
      "693699     3865866  3865867   Aaban  2013      M    NY      6\n",
      "695768     3867935  3867936   Aaban  2014      M    NY      6\n",
      "\n",
      "[1016395 rows x 7 columns]\n"
     ]
    }
   ],
   "execution_count": 11
  },
  {
   "cell_type": "markdown",
   "metadata": {},
   "source": [
    "#### 1-3. 2010년에 태어난 남아 중 출생아 수가 1,000명 이상인 이름들을 찾아 수가 많은 순서로 정렬하세요."
   ]
  },
  {
   "cell_type": "code",
   "metadata": {
    "ExecuteTime": {
     "end_time": "2025-10-01T03:02:26.503651Z",
     "start_time": "2025-10-01T03:02:26.479409Z"
    }
   },
   "source": [
    "# 2010년에 태어난 남아 이름 중 출생수가 1000이상인 행 추출\n",
    "df_over1000=df_copy.query('Count>=1000&Gender==\"M\"&Year==2010')\n",
    "\n",
    "# 출생아 수가 많은 순서로 정렬\n",
    "df_ov1000_ascend=df_over1000.sort_values('Count',ascending=False)\n",
    "\n",
    "# 결과 출력\n",
    "print(df_ov1000_ascend)"
   ],
   "outputs": [
    {
     "name": "stdout",
     "output_type": "stream",
     "text": [
      "        Unnamed: 0       Id       Name  Year Gender State  Count\n",
      "124544      695721   695722      Jacob  2010      M    CA   3347\n",
      "124545      695722   695723     Daniel  2010      M    CA   3131\n",
      "124546      695723   695724    Anthony  2010      M    CA   2858\n",
      "124547      695724   695725  Alexander  2010      M    CA   2601\n",
      "124548      695725   695726      Angel  2010      M    CA   2534\n",
      "...            ...      ...        ...   ...    ...   ...    ...\n",
      "124591      695768   695769     Justin  2010      M    CA   1023\n",
      "124592      695769   695770       Liam  2010      M    CA   1020\n",
      "219613     1148697  1148698  Alexander  2010      M    FL   1020\n",
      "900630     5064234  5064235     Samuel  2010      M    TX   1020\n",
      "900631     5064235  5064236      Mason  2010      M    TX   1002\n",
      "\n",
      "[104 rows x 7 columns]\n"
     ]
    }
   ],
   "execution_count": 15
  },
  {
   "cell_type": "markdown",
   "metadata": {},
   "source": [
    "#### 1-4. 연도별 출생 인구 수를 성별로 구분하여 총합을 구하세요."
   ]
  },
  {
   "cell_type": "code",
   "metadata": {
    "ExecuteTime": {
     "end_time": "2025-10-01T03:23:10.009905Z",
     "start_time": "2025-10-01T03:23:09.951353Z"
    }
   },
   "source": [
    "# 연도별 성별 그룹화\n",
    "df_GenderPerYear=df_copy.groupby(['Year','Gender']).agg(Count=('Count','sum'))\n",
    "\n",
    "# 출생수 총합 계산\n",
    "total_GPY=df_GenderPerYear['Count']\n",
    "# 결과 출력\n",
    "print(total_GPY)\n",
    "\n",
    "# 이거 Series임('[]' 하나 빼기). 4주차 강의 참고"
   ],
   "outputs": [
    {
     "name": "stdout",
     "output_type": "stream",
     "text": [
      "Year  Gender\n",
      "2004  F         1523496\n",
      "      M         1770488\n",
      "2005  F         1528165\n",
      "      M         1777150\n",
      "2006  F         1564886\n",
      "      M         1822851\n",
      "2007  F         1576648\n",
      "      M         1835769\n",
      "2008  F         1544411\n",
      "      M         1795907\n",
      "2009  F         1493172\n",
      "      M         1738944\n",
      "2010  F         1439346\n",
      "      M         1677202\n",
      "2011  F         1422539\n",
      "      M         1656606\n",
      "2012  F         1422020\n",
      "      M         1651838\n",
      "2013  F         1419351\n",
      "      M         1647092\n",
      "2014  F         1446259\n",
      "      M         1667352\n",
      "Name: Count, dtype: int64\n"
     ]
    }
   ],
   "execution_count": 30
  },
  {
   "cell_type": "markdown",
   "metadata": {},
   "source": [
    "#### 1-5. 1-4에서 구한 연도별 성별 출생 인구 수를 이용하여 여아, 남아 비율을 구하세요."
   ]
  },
  {
   "cell_type": "code",
   "execution_count": 5,
   "metadata": {},
   "outputs": [
    {
     "name": "stdout",
     "output_type": "stream",
     "text": [
      "여아: \n",
      "Year\n",
      "2004    46.250862\n",
      "2005    46.233566\n",
      "2006    46.192665\n",
      "2007    46.203263\n",
      "2008    46.235448\n",
      "2009    46.197971\n",
      "2010    46.183983\n",
      "2011    46.199156\n",
      "2012    46.261734\n",
      "2013    46.286561\n",
      "2014    46.449573\n",
      "Name: Count, dtype: float64\n",
      "남아: \n",
      "Year\n",
      "2004    53.749138\n",
      "2005    53.766434\n",
      "2006    53.807335\n",
      "2007    53.796737\n",
      "2008    53.764552\n",
      "2009    53.802029\n",
      "2010    53.816017\n",
      "2011    53.800844\n",
      "2012    53.738266\n",
      "2013    53.713439\n",
      "2014    53.550427\n",
      "Name: Count, dtype: float64\n"
     ]
    }
   ],
   "source": [
    "# 1-4에서 구한 연도별 성별 출생수 합계 데이터를 이용하여 여아 비율 계산\n",
    "# 여아/(남+여), loc[]\n",
    "\n",
    "# 1-4에서 구한 연도별 성별 출생수 합계 데이터를 이용하여 남아 비율 계산\n",
    "\n",
    "\n",
    "# 결과 출력\n",
    "\n",
    "\n",
    "\n"
   ]
  },
  {
   "cell_type": "markdown",
   "metadata": {},
   "source": [
    "### 2. 타이타닉 승객 정보 데이터로 아래 문제에 맞게 코드를 작성하세요."
   ]
  },
  {
   "cell_type": "code",
   "metadata": {
    "ExecuteTime": {
     "end_time": "2025-10-01T03:47:46.458638Z",
     "start_time": "2025-10-01T03:47:46.040211Z"
    }
   },
   "source": [
    "import pandas as pd\n",
    "\n",
    "# 주어진 데이터 생성\n",
    "df = pd.read_csv('https://raw.githubusercontent.com/datasciencedojo/datasets/master/titanic.csv')\n",
    "print(df.head())"
   ],
   "outputs": [
    {
     "name": "stdout",
     "output_type": "stream",
     "text": [
      "   PassengerId  Survived  Pclass  \\\n",
      "0            1         0       3   \n",
      "1            2         1       1   \n",
      "2            3         1       3   \n",
      "3            4         1       1   \n",
      "4            5         0       3   \n",
      "\n",
      "                                                Name     Sex   Age  SibSp  \\\n",
      "0                            Braund, Mr. Owen Harris    male  22.0      1   \n",
      "1  Cumings, Mrs. John Bradley (Florence Briggs Th...  female  38.0      1   \n",
      "2                             Heikkinen, Miss. Laina  female  26.0      0   \n",
      "3       Futrelle, Mrs. Jacques Heath (Lily May Peel)  female  35.0      1   \n",
      "4                           Allen, Mr. William Henry    male  35.0      0   \n",
      "\n",
      "   Parch            Ticket     Fare Cabin Embarked  \n",
      "0      0         A/5 21171   7.2500   NaN        S  \n",
      "1      0          PC 17599  71.2833   C85        C  \n",
      "2      0  STON/O2. 3101282   7.9250   NaN        S  \n",
      "3      0            113803  53.1000  C123        S  \n",
      "4      0            373450   8.0500   NaN        S  \n"
     ]
    }
   ],
   "execution_count": 31
  },
  {
   "cell_type": "markdown",
   "metadata": {},
   "source": [
    "#### 2-1. 파생변수 추가: SibSp(형제자매/배우자 수)와 Parch(부모/자녀 수)를 더하고, 본인을 포함한 FamilySize 열을 추가하세요."
   ]
  },
  {
   "cell_type": "code",
   "metadata": {
    "ExecuteTime": {
     "end_time": "2025-10-01T04:01:33.310543Z",
     "start_time": "2025-10-01T04:01:33.306191Z"
    }
   },
   "source": [
    "# SibSp(형제자매/배우자 수)와 Parch(부모/자녀 수)를 더하고, 본인을 포함한 FamilySize 열을 추가\n",
    "\n",
    "\n",
    "# 결과 출력(사용한 열과 FamilySize 열만 출력)\n"
   ],
   "outputs": [],
   "execution_count": 32
  },
  {
   "cell_type": "markdown",
   "metadata": {},
   "source": [
    "#### 2-2. 파생변수 추가: Age(나이)가 20세 미만이면 Child, 이상이면 Adult값을 갖는 AgeGroup 열을 추가하세요."
   ]
  },
  {
   "cell_type": "code",
   "metadata": {
    "ExecuteTime": {
     "end_time": "2025-10-01T04:01:33.349465Z",
     "start_time": "2025-10-01T04:01:33.345832Z"
    }
   },
   "source": [
    "import numpy as np\n",
    "\n",
    "# AgeGroup 열 추가\n",
    "\n",
    "\n",
    "# 결과 출력(사용한 열과 AgeGroup 열만 출력)\n"
   ],
   "outputs": [],
   "execution_count": 33
  },
  {
   "cell_type": "markdown",
   "metadata": {},
   "source": [
    "#### 2-3. 객실 등급(Pclass)별 생존율을 계산하세요 (agg()를 활용하여 Survival_rate 컬럼 변수에 계산 결과 추가)."
   ]
  },
  {
   "cell_type": "code",
   "metadata": {
    "ExecuteTime": {
     "end_time": "2025-10-01T04:01:33.370807Z",
     "start_time": "2025-10-01T04:01:33.367057Z"
    }
   },
   "source": [
    "# 등급별 생존율 계산\n",
    "# Survived 컬럼이 0 또는 1의 값을 가지고 있고 이것이 생존여부를 나타냄. 0: 사망, 1: 생존\n",
    "\n",
    "\n",
    "# 결과 출력\n"
   ],
   "outputs": [],
   "execution_count": 34
  },
  {
   "cell_type": "markdown",
   "metadata": {},
   "source": [
    "#### 2-4. 객실 등급 및 성별에 따른 평균 나이와 생존율을 구하세요."
   ]
  },
  {
   "cell_type": "code",
   "metadata": {
    "ExecuteTime": {
     "end_time": "2025-10-01T04:01:33.397442Z",
     "start_time": "2025-10-01T04:01:33.393803Z"
    }
   },
   "source": [
    "# 객실 등급과 성별로 그룹화\n",
    "\n",
    "\n",
    "# Mean_age에는 평균 나이, Survival_rate에는 평균 생존율을 계산하여 할당\n",
    "\n",
    "\n",
    "# 결과 출력\n"
   ],
   "outputs": [],
   "execution_count": 35
  },
  {
   "cell_type": "markdown",
   "metadata": {},
   "source": [
    "### 3. 와인 품질 데이터로 아래 문제에 맞게 코드를 작성하세요."
   ]
  },
  {
   "cell_type": "code",
   "metadata": {
    "ExecuteTime": {
     "end_time": "2025-10-01T04:01:36.225208Z",
     "start_time": "2025-10-01T04:01:33.411836Z"
    }
   },
   "source": [
    "import pandas as pd\n",
    "import seaborn as sns\n",
    "import numpy as np\n",
    "\n",
    "# 주어진 데이터 생성\n",
    "df = pd.read_csv('https://archive.ics.uci.edu/ml/machine-learning-databases/wine-quality/winequality-red.csv', sep=';')\n",
    "\n",
    "print(df.head())"
   ],
   "outputs": [
    {
     "name": "stdout",
     "output_type": "stream",
     "text": [
      "   fixed acidity  volatile acidity  citric acid  residual sugar  chlorides  \\\n",
      "0            7.4              0.70         0.00             1.9      0.076   \n",
      "1            7.8              0.88         0.00             2.6      0.098   \n",
      "2            7.8              0.76         0.04             2.3      0.092   \n",
      "3           11.2              0.28         0.56             1.9      0.075   \n",
      "4            7.4              0.70         0.00             1.9      0.076   \n",
      "\n",
      "   free sulfur dioxide  total sulfur dioxide  density    pH  sulphates  \\\n",
      "0                 11.0                  34.0   0.9978  3.51       0.56   \n",
      "1                 25.0                  67.0   0.9968  3.20       0.68   \n",
      "2                 15.0                  54.0   0.9970  3.26       0.65   \n",
      "3                 17.0                  60.0   0.9980  3.16       0.58   \n",
      "4                 11.0                  34.0   0.9978  3.51       0.56   \n",
      "\n",
      "   alcohol  quality  \n",
      "0      9.4        5  \n",
      "1      9.8        5  \n",
      "2      9.8        5  \n",
      "3      9.8        6  \n",
      "4      9.4        5  \n"
     ]
    }
   ],
   "execution_count": 36
  },
  {
   "cell_type": "markdown",
   "metadata": {},
   "source": [
    "#### 3-1. 와인 품질 등급 변수(quality_label) 변수를 생성하세요."
   ]
  },
  {
   "cell_type": "code",
   "metadata": {
    "ExecuteTime": {
     "end_time": "2025-10-01T04:01:36.267580Z",
     "start_time": "2025-10-01T04:01:36.264060Z"
    }
   },
   "source": [
    "# 와인 품질 등급 변수(quality_label) 변수 생성하여 high 또는 low 값 할당\n",
    "# quality 값이 6보다 크면 high, 그렇지 않으면 low \n",
    "\n",
    "\n",
    "# 결과 출력(quality와 quality_label 열만 출력)\n"
   ],
   "outputs": [],
   "execution_count": 37
  },
  {
   "cell_type": "markdown",
   "metadata": {},
   "source": [
    "#### 3-2. 품질 등급(quality_label)별 화학 성분(alcohol, pH)의 평균을 비교해보세요."
   ]
  },
  {
   "cell_type": "code",
   "metadata": {
    "ExecuteTime": {
     "end_time": "2025-10-01T04:01:36.282572Z",
     "start_time": "2025-10-01T04:01:36.279532Z"
    }
   },
   "source": [
    "# 품질 등급으로 그룹화(quality_label 활용)\n",
    "\n",
    "\n",
    "# 각 그룹의 알코올 도수(alcohol)와 산성도(pH)의 평균 계산\n",
    "\n",
    "\n",
    "# 결과 출력\n"
   ],
   "outputs": [],
   "execution_count": 38
  },
  {
   "cell_type": "markdown",
   "metadata": {},
   "source": [
    "#### 3-3. 12도 이상의 와인들에 대한 분석을 진행하시오(품질 등급으로 나누어 성분 비교)."
   ]
  },
  {
   "cell_type": "code",
   "metadata": {
    "ExecuteTime": {
     "end_time": "2025-10-01T04:01:36.299012Z",
     "start_time": "2025-10-01T04:01:36.295910Z"
    }
   },
   "source": [
    "# 알코올 도수가 12도 이상인 와인을 품질 등급으로 그룹화\n",
    "\n",
    "\n",
    "# 각 그룹의 fixed acidity(고정된 산도)와 volatile acidity(휘발성 산도)의 평균 계산\n",
    "\n",
    "\n",
    "\n",
    "# 결과 출력\n"
   ],
   "outputs": [],
   "execution_count": 39
  },
  {
   "cell_type": "markdown",
   "metadata": {},
   "source": [
    "### 4. 타이타닉 승객 정보 데이터로 아래 문제에 맞게 코드를 작성하세요."
   ]
  },
  {
   "cell_type": "code",
   "metadata": {
    "ExecuteTime": {
     "end_time": "2025-10-01T04:01:38.145675Z",
     "start_time": "2025-10-01T04:01:36.310959Z"
    }
   },
   "source": [
    "import pandas as pd\n",
    "\n",
    "# 주어진 데이터 생성\n",
    "df = pd.read_csv('https://raw.githubusercontent.com/datasciencedojo/datasets/master/titanic.csv')"
   ],
   "outputs": [],
   "execution_count": 40
  },
  {
   "cell_type": "markdown",
   "metadata": {},
   "source": [
    "#### 4-1. 주어진 조건에 따라 데이터를 세로로 합쳐보세요.\n",
    "- 1등석 승객과 3등석 승객 데이터로 분리하고, 분리된 데이터를 세로로 합치기"
   ]
  },
  {
   "cell_type": "code",
   "metadata": {
    "ExecuteTime": {
     "end_time": "2025-10-01T04:01:38.208399Z",
     "start_time": "2025-10-01T04:01:38.204897Z"
    }
   },
   "source": [
    "# 1등석 승객 데이터 추출\n",
    "\n",
    "\n",
    "# 3등석 승객 데이터 추출\n",
    "\n",
    "\n",
    "# 1등석과 3등석 승객 데이터 세로로 합치기\n",
    "\n",
    "\n",
    "# 결과 출력(처음 2개 행과 마지막 2개 행)\n"
   ],
   "outputs": [],
   "execution_count": 41
  },
  {
   "cell_type": "markdown",
   "metadata": {},
   "source": [
    "#### 4-2. 주어진 조건에 따라 데이터를 가로로 합쳐보세요.\n",
    "- 생성된 가상의 데이터(만족도)를 일부 승객에 대해서만 합치기"
   ]
  },
  {
   "cell_type": "code",
   "metadata": {
    "ExecuteTime": {
     "end_time": "2025-10-01T04:01:38.243617Z",
     "start_time": "2025-10-01T04:01:38.223936Z"
    }
   },
   "source": [
    "# 가상의 만족도 데이터 생성\n",
    "satisfaction_data = pd.DataFrame({\n",
    "    'PassengerId': [1, 2, 3, 5, 7],\n",
    "    'Satisfaction': ['Good', 'Excellent', 'Good', 'Bad', 'Excellent']\n",
    "})\n",
    "\n",
    "# PassengerId를 기준으로 데이터 가로로 합치기\n",
    "\n",
    "\n",
    "# 결과 출력(처음 5개 행)\n"
   ],
   "outputs": [],
   "execution_count": 42
  },
  {
   "cell_type": "markdown",
   "metadata": {},
   "source": [
    "#### 4-3. 특정 행과 열을 추출해보세요.(loc, iloc 사용)"
   ]
  },
  {
   "cell_type": "code",
   "metadata": {
    "ExecuteTime": {
     "end_time": "2025-10-01T04:01:38.257974Z",
     "start_time": "2025-10-01T04:01:38.251498Z"
    }
   },
   "source": [
    "# 4-1의 결과에서 1등석 승객 중 처음 3개 행과 3등석 승객 중 마지막 3개 행 추출하여 결합\n",
    "\n",
    "\n",
    "# 결과 출력\n",
    "\n",
    "\n",
    "# 4-2의 결과에서 추가된 처음 2개 열과 마지막 열을 추출하고, 초기 5개 행만 선택\n",
    "\n",
    "\n",
    "# 결과 출력\n",
    "\n"
   ],
   "outputs": [],
   "execution_count": 43
  },
  {
   "cell_type": "markdown",
   "metadata": {},
   "source": [
    "### 5. 자율 문제\n",
    "- 1번 ~ 4번 문제의 데이터 중 하나를 선정하여 5주차까지 학습한 내용을 적용하여 데이터 처리한 결과를 보이시오.\n",
    "  - 서브 문제 3개"
   ]
  },
  {
   "cell_type": "markdown",
   "metadata": {},
   "source": [
    "#### 5-1. (문제 기술)"
   ]
  },
  {
   "cell_type": "code",
   "metadata": {
    "ExecuteTime": {
     "end_time": "2025-10-01T04:01:38.270278Z",
     "start_time": "2025-10-01T04:01:38.267528Z"
    }
   },
   "source": [],
   "outputs": [],
   "execution_count": null
  },
  {
   "cell_type": "markdown",
   "metadata": {},
   "source": [
    "#### 5-2. (문제 기술)"
   ]
  },
  {
   "cell_type": "code",
   "metadata": {
    "ExecuteTime": {
     "end_time": "2025-10-01T04:01:38.291899Z",
     "start_time": "2025-10-01T04:01:38.288345Z"
    }
   },
   "source": [],
   "outputs": [],
   "execution_count": null
  },
  {
   "cell_type": "markdown",
   "metadata": {},
   "source": [
    "#### 5-3. (문제 기술) "
   ]
  },
  {
   "cell_type": "code",
   "metadata": {
    "ExecuteTime": {
     "end_time": "2025-10-01T04:01:38.313737Z",
     "start_time": "2025-10-01T04:01:38.310235Z"
    }
   },
   "source": [],
   "outputs": [],
   "execution_count": null
  }
 ],
 "metadata": {
  "kernelspec": {
   "display_name": "Python 3 (ipykernel)",
   "language": "python",
   "name": "python3"
  },
  "language_info": {
   "codemirror_mode": {
    "name": "ipython",
    "version": 3
   },
   "file_extension": ".py",
   "mimetype": "text/x-python",
   "name": "python",
   "nbconvert_exporter": "python",
   "pygments_lexer": "ipython3",
   "version": "3.13.5"
  }
 },
 "nbformat": 4,
 "nbformat_minor": 4
}
