{
 "cells": [
  {
   "cell_type": "markdown",
   "metadata": {},
   "source": [
    "### 기초데이터과학 (01분반) \n",
    "\n",
    "## Programming assignment 03"
   ]
  },
  {
   "cell_type": "markdown",
   "metadata": {},
   "source": [
    "### 1. 다음에 주어진 미국의 아기 이름 데이터로 아래 문제에 맞게 코드를 작성하시오. "
   ]
  },
  {
   "cell_type": "code",
   "execution_count": 1,
   "metadata": {
    "ExecuteTime": {
     "end_time": "2025-09-24T01:31:47.362186Z",
     "start_time": "2025-09-24T01:31:37.830624Z"
    }
   },
   "outputs": [],
   "source": [
    "import pandas as pd\n",
    "\n",
    "# 주어진 데이터 생성\n",
    "df = pd.read_csv('https://raw.githubusercontent.com/guipsamora/pandas_exercises/master/06_Stats/US_Baby_Names/US_Baby_Names_right.csv')"
   ]
  },
  {
   "cell_type": "markdown",
   "metadata": {},
   "source": [
    "#### 1-1. 위에서 생성한 DataFrame 객체의 앞 3개 행을 출력하시오."
   ]
  },
  {
   "cell_type": "code",
   "execution_count": 2,
   "metadata": {
    "ExecuteTime": {
     "end_time": "2025-09-24T01:31:57.145892Z",
     "start_time": "2025-09-24T01:31:57.136098Z"
    }
   },
   "outputs": [
    {
     "name": "stdout",
     "output_type": "stream",
     "text": [
      "   Unnamed: 0     Id     Name  Year Gender State  Count\n",
      "0       11349  11350     Emma  2004      F    AK     62\n",
      "1       11350  11351  Madison  2004      F    AK     48\n",
      "2       11351  11352   Hannah  2004      F    AK     46\n"
     ]
    }
   ],
   "source": [
    "# Data 형태 확인\n",
    "# DataFrame의 앞 3개 행을 출력\n",
    "df02=df.loc[:2]\n",
    "print(df02)\n",
    "## 인덱스에 문자열을 할당해도 가능한가요?"
   ]
  },
  {
   "cell_type": "markdown",
   "metadata": {},
   "source": [
    "#### 1-2. DataFrame 객체의 앞 행과 열 개수를 출력하시오."
   ]
  },
  {
   "cell_type": "code",
   "execution_count": 3,
   "metadata": {
    "ExecuteTime": {
     "end_time": "2025-09-24T02:44:58.433339Z",
     "start_time": "2025-09-24T02:44:58.421592Z"
    }
   },
   "outputs": [
    {
     "name": "stdout",
     "output_type": "stream",
     "text": [
      "행과 열 개수:\n",
      " (1016395, 7)\n"
     ]
    }
   ],
   "source": [
    "# DataFrame의 행과 열 개수를 출력\n",
    "print(\"행과 열 개수:\\n\",df.shape)\n"
   ]
  },
  {
   "cell_type": "markdown",
   "metadata": {},
   "source": [
    "#### 1-3. DataFrame 객체에서 State가 'AK'이고, Count가 50 이상인 데이터를 추출하여 출력하시오."
   ]
  },
  {
   "cell_type": "code",
   "execution_count": 4,
   "metadata": {
    "ExecuteTime": {
     "end_time": "2025-09-24T02:50:10.998732Z",
     "start_time": "2025-09-24T02:50:10.919894Z"
    }
   },
   "outputs": [
    {
     "name": "stdout",
     "output_type": "stream",
     "text": [
      "      Unnamed: 0     Id       Name  Year Gender State  Count\n",
      "0          11349  11350       Emma  2004      F    AK     62\n",
      "204        11553  11554    Madison  2005      F    AK     53\n",
      "639        11988  11989   Isabella  2007      F    AK     52\n",
      "838        12187  12188       Emma  2008      F    AK     51\n",
      "1063       12412  12413   Isabella  2009      F    AK     57\n",
      "1275       12624  12625     Sophia  2010      F    AK     60\n",
      "1276       12625  12626       Emma  2010      F    AK     51\n",
      "1277       12626  12627   Isabella  2010      F    AK     51\n",
      "1497       12846  12847     Olivia  2011      F    AK     60\n",
      "1498       12847  12848       Emma  2011      F    AK     56\n",
      "1499       12848  12849   Isabella  2011      F    AK     50\n",
      "1732       13081  13082       Emma  2012      F    AK     57\n",
      "1733       13082  13083     Sophia  2012      F    AK     56\n",
      "1948       13297  13298       Emma  2013      F    AK     57\n",
      "1949       13298  13299     Sophia  2013      F    AK     50\n",
      "2173       13522  13523       Emma  2014      F    AK     50\n",
      "2404       24076  24077      Ethan  2004      M    AK     65\n",
      "2405       24077  24078     Joseph  2004      M    AK     63\n",
      "2406       24078  24079      James  2004      M    AK     59\n",
      "2407       24079  24080      Jacob  2004      M    AK     54\n",
      "2408       24080  24081     Samuel  2004      M    AK     54\n",
      "2409       24081  24082      Tyler  2004      M    AK     54\n",
      "2610       24282  24283      Ethan  2005      M    AK     63\n",
      "2611       24283  24284      Jacob  2005      M    AK     58\n",
      "2612       24284  24285     Joshua  2005      M    AK     55\n",
      "2613       24285  24286    Michael  2005      M    AK     52\n",
      "2826       24498  24499      James  2006      M    AK     67\n",
      "2827       24499  24500      Jacob  2006      M    AK     55\n",
      "2828       24500  24501    Michael  2006      M    AK     55\n",
      "2829       24501  24502     Andrew  2006      M    AK     52\n",
      "2830       24502  24503      Ethan  2006      M    AK     52\n",
      "2831       24503  24504      Logan  2006      M    AK     51\n",
      "3043       24715  24716      Aiden  2007      M    AK     58\n",
      "3044       24716  24717      Ethan  2007      M    AK     53\n",
      "3045       24717  24718      Logan  2007      M    AK     53\n",
      "3046       24718  24719  Alexander  2007      M    AK     52\n",
      "3047       24719  24720    Michael  2007      M    AK     52\n",
      "3270       24942  24943      James  2008      M    AK     67\n",
      "3271       24943  24944      Jacob  2008      M    AK     60\n",
      "3272       24944  24945    Michael  2008      M    AK     58\n",
      "3273       24945  24946      Ethan  2008      M    AK     53\n",
      "3274       24946  24947      Tyler  2008      M    AK     50\n",
      "3507       25179  25180    Michael  2009      M    AK     58\n",
      "3508       25180  25181      Ethan  2009      M    AK     57\n",
      "3744       25416  25417    William  2010      M    AK     57\n",
      "3745       25417  25418      James  2010      M    AK     51\n",
      "3746       25418  25419    Michael  2010      M    AK     51\n",
      "3747       25419  25420      Logan  2010      M    AK     50\n",
      "3984       25656  25657      Mason  2011      M    AK     58\n",
      "3985       25657  25658      James  2011      M    AK     52\n",
      "3986       25658  25659    William  2011      M    AK     52\n",
      "4224       25896  25897      James  2012      M    AK     52\n",
      "4476       26148  26149       Liam  2013      M    AK     63\n",
      "4731       26403  26404       Liam  2014      M    AK     65\n",
      "4732       26404  26405      James  2014      M    AK     53\n"
     ]
    }
   ],
   "source": [
    "# State가 'AK'이고, Count가 50 이상인 데이터를 추출\n",
    "df03=df.query('State==\"AK\" & Count>=50')\n",
    "\n",
    "# 추출한 데이터 출력\n",
    "print(df03)"
   ]
  },
  {
   "cell_type": "markdown",
   "metadata": {},
   "source": [
    "#### 1-4. 1-3에서 추출한 데이터에서 Gender가 'F'인 데이터를 추출하여 출력하시오."
   ]
  },
  {
   "cell_type": "code",
   "execution_count": 5,
   "metadata": {
    "ExecuteTime": {
     "end_time": "2025-09-24T03:11:29.258763Z",
     "start_time": "2025-09-24T03:11:29.234526Z"
    }
   },
   "outputs": [
    {
     "name": "stdout",
     "output_type": "stream",
     "text": [
      "      Unnamed: 0     Id      Name  Year Gender State  Count\n",
      "0          11349  11350      Emma  2004      F    AK     62\n",
      "204        11553  11554   Madison  2005      F    AK     53\n",
      "639        11988  11989  Isabella  2007      F    AK     52\n",
      "838        12187  12188      Emma  2008      F    AK     51\n",
      "1063       12412  12413  Isabella  2009      F    AK     57\n",
      "1275       12624  12625    Sophia  2010      F    AK     60\n",
      "1276       12625  12626      Emma  2010      F    AK     51\n",
      "1277       12626  12627  Isabella  2010      F    AK     51\n",
      "1497       12846  12847    Olivia  2011      F    AK     60\n",
      "1498       12847  12848      Emma  2011      F    AK     56\n",
      "1499       12848  12849  Isabella  2011      F    AK     50\n",
      "1732       13081  13082      Emma  2012      F    AK     57\n",
      "1733       13082  13083    Sophia  2012      F    AK     56\n",
      "1948       13297  13298      Emma  2013      F    AK     57\n",
      "1949       13298  13299    Sophia  2013      F    AK     50\n",
      "2173       13522  13523      Emma  2014      F    AK     50\n"
     ]
    }
   ],
   "source": [
    "# 그 중 Gender가 'F'인 데이터를 추출\n",
    "df03_2=df03.query('Gender==\"F\"')\n",
    "\n",
    "# 추출한 데이터 출력\n",
    "print(df03_2)"
   ]
  },
  {
   "cell_type": "markdown",
   "metadata": {},
   "source": [
    "#### 1-5. 1-4에서 추출한 데이터에서 Count 기준으로 내림차순 정렬하여 출력하시오."
   ]
  },
  {
   "cell_type": "code",
   "execution_count": 6,
   "metadata": {
    "ExecuteTime": {
     "end_time": "2025-09-24T03:17:32.652305Z",
     "start_time": "2025-09-24T03:17:32.631739Z"
    }
   },
   "outputs": [
    {
     "name": "stdout",
     "output_type": "stream",
     "text": [
      "      Unnamed: 0     Id      Name  Year Gender State  Count\n",
      "0          11349  11350      Emma  2004      F    AK     62\n",
      "1275       12624  12625    Sophia  2010      F    AK     60\n",
      "1497       12846  12847    Olivia  2011      F    AK     60\n",
      "1063       12412  12413  Isabella  2009      F    AK     57\n",
      "1732       13081  13082      Emma  2012      F    AK     57\n",
      "1948       13297  13298      Emma  2013      F    AK     57\n",
      "1498       12847  12848      Emma  2011      F    AK     56\n",
      "1733       13082  13083    Sophia  2012      F    AK     56\n",
      "204        11553  11554   Madison  2005      F    AK     53\n",
      "639        11988  11989  Isabella  2007      F    AK     52\n",
      "838        12187  12188      Emma  2008      F    AK     51\n",
      "1276       12625  12626      Emma  2010      F    AK     51\n",
      "1277       12626  12627  Isabella  2010      F    AK     51\n",
      "1499       12848  12849  Isabella  2011      F    AK     50\n",
      "1949       13298  13299    Sophia  2013      F    AK     50\n",
      "2173       13522  13523      Emma  2014      F    AK     50\n"
     ]
    }
   ],
   "source": [
    "# 추출한 데이터를 Count 기준으로 내림차순 정렬\n",
    "df03_2_sorted=df03_2.sort_values('Count',ascending=False)\n",
    "\n",
    "# 정렬된 데이터 출력\n",
    "print(df03_2_sorted)"
   ]
  },
  {
   "cell_type": "markdown",
   "metadata": {},
   "source": [
    "#### 1-6. 1-5에서 정렬한 데이터에서 Name과 Count 열만 추출하여 출력하시오."
   ]
  },
  {
   "cell_type": "code",
   "execution_count": 7,
   "metadata": {
    "ExecuteTime": {
     "end_time": "2025-09-24T03:19:07.179241Z",
     "start_time": "2025-09-24T03:19:07.161685Z"
    }
   },
   "outputs": [
    {
     "name": "stdout",
     "output_type": "stream",
     "text": [
      "          Name  Count\n",
      "0         Emma     62\n",
      "1275    Sophia     60\n",
      "1497    Olivia     60\n",
      "1063  Isabella     57\n",
      "1732      Emma     57\n",
      "1948      Emma     57\n",
      "1498      Emma     56\n",
      "1733    Sophia     56\n",
      "204    Madison     53\n",
      "639   Isabella     52\n",
      "838       Emma     51\n",
      "1276      Emma     51\n",
      "1277  Isabella     51\n",
      "1499  Isabella     50\n",
      "1949    Sophia     50\n",
      "2173      Emma     50\n"
     ]
    }
   ],
   "source": [
    "# 'Name'과 'Count' 열만 추출\n",
    "df03_2_sorted_NameCount=df03_2_sorted[['Name','Count']]\n",
    "\n",
    "# 추출한 데이터 출력\n",
    "print(df03_2_sorted_NameCount)"
   ]
  },
  {
   "cell_type": "markdown",
   "metadata": {},
   "source": [
    "### 2. 미국의 아기 이름 데이터로 동일한 State와 Name을 가진 중복된 데이터를 제거하고 Count를 기준으로 내림차순 정렬하시오."
   ]
  },
  {
   "cell_type": "code",
   "execution_count": 8,
   "metadata": {
    "ExecuteTime": {
     "end_time": "2025-09-24T03:19:32.461157Z",
     "start_time": "2025-09-24T03:19:28.946700Z"
    }
   },
   "outputs": [],
   "source": [
    "import pandas as pd\n",
    "\n",
    "# 주어진 데이터 생성\n",
    "df = pd.read_csv('https://raw.githubusercontent.com/guipsamora/pandas_exercises/master/06_Stats/US_Baby_Names/US_Baby_Names_right.csv')"
   ]
  },
  {
   "cell_type": "markdown",
   "metadata": {},
   "source": [
    "#### 2-1. Name 변수의 값이 Emma인 데이터를 출력하시오."
   ]
  },
  {
   "cell_type": "code",
   "execution_count": 9,
   "metadata": {
    "ExecuteTime": {
     "end_time": "2025-09-24T03:21:02.175071Z",
     "start_time": "2025-09-24T03:21:02.121340Z"
    }
   },
   "outputs": [
    {
     "name": "stdout",
     "output_type": "stream",
     "text": [
      "         Unnamed: 0       Id  Name  Year Gender State  Count\n",
      "0             11349    11350  Emma  2004      F    AK     62\n",
      "205           11554    11555  Emma  2005      F    AK     49\n",
      "418           11767    11768  Emma  2006      F    AK     49\n",
      "644           11993    11994  Emma  2007      F    AK     41\n",
      "838           12187    12188  Emma  2008      F    AK     51\n",
      "...             ...      ...   ...   ...    ...   ...    ...\n",
      "1013854     5633487  5633488  Emma  2010      F    WY     23\n",
      "1013983     5633616  5633617  Emma  2011      F    WY     43\n",
      "1014104     5633737  5633738  Emma  2012      F    WY     40\n",
      "1014222     5633855  5633856  Emma  2013      F    WY     30\n",
      "1014362     5633995  5633996  Emma  2014      F    WY     32\n",
      "\n",
      "[566 rows x 7 columns]\n"
     ]
    }
   ],
   "source": [
    "# 데이터 중복 체크하기\n",
    "# 'Name' 속성이 'Emma'인 데이터 추출\n",
    "df_Emma=df.query('Name==\"Emma\"')\n",
    "\n",
    "# 추출한 데이터 출력\n",
    "print(df_Emma)"
   ]
  },
  {
   "cell_type": "markdown",
   "metadata": {},
   "source": [
    "#### 2-2. State 별로 중복된 Name을 제거하고 출력하시오."
   ]
  },
  {
   "cell_type": "code",
   "execution_count": 10,
   "metadata": {
    "ExecuteTime": {
     "end_time": "2025-09-24T03:36:10.062148Z",
     "start_time": "2025-09-24T03:36:08.949612Z"
    }
   },
   "outputs": [
    {
     "name": "stdout",
     "output_type": "stream",
     "text": [
      "         Unnamed: 0       Id       Name  Year Gender State  Count\n",
      "0             11349    11350       Emma  2004      F    AK     62\n",
      "3331          25003    25004    Timothy  2008      M    AK     19\n",
      "3330          25002    25003      Jason  2008      M    AK     19\n",
      "3329          25001    25002   Nicholas  2008      M    AK     20\n",
      "3328          25000    25001  Nathaniel  2008      M    AK     20\n",
      "...             ...      ...        ...   ...    ...   ...    ...\n",
      "1014100     5633733  5633734     Phoebe  2011      F    WY      5\n",
      "1014170     5633803  5633804      Quinn  2012      F    WY      7\n",
      "1014175     5633808  5633809     Averie  2012      F    WY      6\n",
      "1014176     5633809  5633810    Bristol  2012      F    WY      6\n",
      "1016394     5647425  5647426     Waylon  2014      M    WY      5\n",
      "\n",
      "[167628 rows x 7 columns]\n"
     ]
    }
   ],
   "source": [
    "# State 별로 중복된 Name 제거\n",
    "# pandas.DataFrame.drop_duplicates 함수 활용. drop_duplicates 함수 이용 방법은 찾아볼 것\n",
    "df_copy_name=df.copy()\n",
    "df_Namesort=df_copy_name.sort_values('State')\n",
    "df_NameDel=df_Namesort.drop_duplicates(subset=['State','Name'])\n",
    "\n",
    "# 중복 제거된 데이터 출력\n",
    "print(df_NameDel)"
   ]
  },
  {
   "cell_type": "markdown",
   "metadata": {},
   "source": [
    "#### 2-3. 위에서 중복 제거된 데이터를 Count 값을 기준으로 내림차순 정렬하고 여기서 State, Name, Count 변수 값만 추출하여 출력하시오."
   ]
  },
  {
   "cell_type": "code",
   "execution_count": 11,
   "metadata": {
    "ExecuteTime": {
     "end_time": "2025-09-24T03:42:52.746159Z",
     "start_time": "2025-09-24T03:42:52.684276Z"
    }
   },
   "outputs": [
    {
     "name": "stdout",
     "output_type": "stream",
     "text": [
      "        State     Name  Count\n",
      "112872     CA   Daniel   3826\n",
      "112873     CA  Anthony   3774\n",
      "112874     CA    Angel   3687\n",
      "112875     CA    Jacob   3197\n",
      "103432     CA   Sophia   3162\n",
      "...       ...      ...    ...\n",
      "1014219    WY  Scarlet      5\n",
      "1013950    WY      Ali      5\n",
      "1013975    WY   London      5\n",
      "1013974    WY   Leslie      5\n",
      "1013973    WY    Leila      5\n",
      "\n",
      "[167628 rows x 3 columns]\n"
     ]
    }
   ],
   "source": [
    "# Count 기준으로 내림차순 정렬\n",
    "df_NameDel_2=df_NameDel.sort_values('Count',ascending=False)\n",
    "df_NameDel_3=df_NameDel_2[['State','Name','Count']]\n",
    "# 'State', 'Name', 'Count' 변수(열)만 추출하여 출력\n",
    "print(df_NameDel_3)"
   ]
  },
  {
   "cell_type": "markdown",
   "metadata": {},
   "source": [
    "### 3. 치폴레(chipotle) 판매 기록을 담고 있는 데이터를 이용하여 'Steak Burrito'와 'Chicken Bowl'의 평균 판매 가격을 계산할 수 있도록 아래 문제에 맞게 코드를 작성하시오."
   ]
  },
  {
   "cell_type": "code",
   "execution_count": 12,
   "metadata": {
    "ExecuteTime": {
     "end_time": "2025-09-24T03:43:42.274913Z",
     "start_time": "2025-09-24T03:43:41.818706Z"
    }
   },
   "outputs": [],
   "source": [
    "import pandas as pd\n",
    "\n",
    "# 주어진 데이터 생성\n",
    "chipotle_url = 'https://raw.githubusercontent.com/justmarkham/DAT8/master/data/chipotle.tsv'\n",
    "chipo = pd.read_csv(chipotle_url, sep = '\\t')"
   ]
  },
  {
   "cell_type": "code",
   "execution_count": 13,
   "metadata": {},
   "outputs": [
    {
     "name": "stdout",
     "output_type": "stream",
     "text": [
      "<class 'pandas.core.frame.DataFrame'>\n",
      "RangeIndex: 4622 entries, 0 to 4621\n",
      "Data columns (total 5 columns):\n",
      " #   Column              Non-Null Count  Dtype \n",
      "---  ------              --------------  ----- \n",
      " 0   order_id            4622 non-null   int64 \n",
      " 1   quantity            4622 non-null   int64 \n",
      " 2   item_name           4622 non-null   object\n",
      " 3   choice_description  3376 non-null   object\n",
      " 4   item_price          4622 non-null   object\n",
      "dtypes: int64(2), object(3)\n",
      "memory usage: 180.7+ KB\n"
     ]
    }
   ],
   "source": [
    "# 데이터의 변수(열) 속성 출력\n",
    "chipo.info()"
   ]
  },
  {
   "cell_type": "markdown",
   "metadata": {},
   "source": [
    "#### 3-1. 위에서 생성한 DataFrame 객체의 앞 5개 행을 출력하시오. "
   ]
  },
  {
   "cell_type": "code",
   "execution_count": 14,
   "metadata": {
    "ExecuteTime": {
     "end_time": "2025-09-24T03:46:50.757182Z",
     "start_time": "2025-09-24T03:46:50.745310Z"
    }
   },
   "outputs": [
    {
     "name": "stdout",
     "output_type": "stream",
     "text": [
      "   order_id  quantity                              item_name  \\\n",
      "0         1         1           Chips and Fresh Tomato Salsa   \n",
      "1         1         1                                   Izze   \n",
      "2         1         1                       Nantucket Nectar   \n",
      "3         1         1  Chips and Tomatillo-Green Chili Salsa   \n",
      "4         2         2                           Chicken Bowl   \n",
      "\n",
      "                                  choice_description item_price  \n",
      "0                                                NaN     $2.39   \n",
      "1                                       [Clementine]     $3.39   \n",
      "2                                            [Apple]     $3.39   \n",
      "3                                                NaN     $2.39   \n",
      "4  [Tomatillo-Red Chili Salsa (Hot), [Black Beans...    $16.98   \n"
     ]
    }
   ],
   "source": [
    "# Data 형태 확인\n",
    "# DataFrame chipo의 앞 5개 행을 출력\n",
    "print(chipo.head())\n"
   ]
  },
  {
   "cell_type": "markdown",
   "metadata": {},
   "source": [
    "#### 3-2. 위의 DataFrame에서 item_name 값이 'Steak Burrito'인 데이터와 'Chicken Bowl'인 데이터를 각각 추출하여 출력하시오."
   ]
  },
  {
   "cell_type": "code",
   "execution_count": 15,
   "metadata": {
    "ExecuteTime": {
     "end_time": "2025-09-24T03:51:25.288220Z",
     "start_time": "2025-09-24T03:51:25.261299Z"
    }
   },
   "outputs": [
    {
     "name": "stdout",
     "output_type": "stream",
     "text": [
      "      order_id  quantity      item_name  \\\n",
      "7            4         1  Steak Burrito   \n",
      "9            5         1  Steak Burrito   \n",
      "31          16         1  Steak Burrito   \n",
      "43          20         1  Steak Burrito   \n",
      "46          21         1  Steak Burrito   \n",
      "...        ...       ...            ...   \n",
      "4546      1807         1  Steak Burrito   \n",
      "4607      1829         1  Steak Burrito   \n",
      "4610      1830         1  Steak Burrito   \n",
      "4617      1833         1  Steak Burrito   \n",
      "4618      1833         1  Steak Burrito   \n",
      "\n",
      "                                     choice_description item_price  \n",
      "7     [Tomatillo Red Chili Salsa, [Fajita Vegetables...    $11.75   \n",
      "9     [Fresh Tomato Salsa, [Rice, Black Beans, Pinto...     $9.25   \n",
      "31    [[Roasted Chili Corn Salsa (Medium), Fresh Tom...     $8.99   \n",
      "43    [Fresh Tomato Salsa, [Rice, Pinto Beans, Chees...    $11.75   \n",
      "46    [Tomatillo-Red Chili Salsa (Hot), [Rice, Fajit...     $8.99   \n",
      "...                                                 ...        ...  \n",
      "4546  [Fresh Tomato Salsa, [Rice, Black Beans, Cheese]]     $9.25   \n",
      "4607  [Tomatillo Green Chili Salsa, [Rice, Cheese, S...    $11.75   \n",
      "4610  [Fresh Tomato Salsa, [Rice, Sour Cream, Cheese...    $11.75   \n",
      "4617  [Fresh Tomato Salsa, [Rice, Black Beans, Sour ...    $11.75   \n",
      "4618  [Fresh Tomato Salsa, [Rice, Sour Cream, Cheese...    $11.75   \n",
      "\n",
      "[368 rows x 5 columns]\n",
      "      order_id  quantity     item_name  \\\n",
      "4            2         2  Chicken Bowl   \n",
      "5            3         1  Chicken Bowl   \n",
      "13           7         1  Chicken Bowl   \n",
      "19          10         1  Chicken Bowl   \n",
      "26          13         1  Chicken Bowl   \n",
      "...        ...       ...           ...   \n",
      "4590      1825         1  Chicken Bowl   \n",
      "4591      1825         1  Chicken Bowl   \n",
      "4595      1826         1  Chicken Bowl   \n",
      "4599      1827         1  Chicken Bowl   \n",
      "4604      1828         1  Chicken Bowl   \n",
      "\n",
      "                                     choice_description item_price  \n",
      "4     [Tomatillo-Red Chili Salsa (Hot), [Black Beans...    $16.98   \n",
      "5     [Fresh Tomato Salsa (Mild), [Rice, Cheese, Sou...    $10.98   \n",
      "13    [Fresh Tomato Salsa, [Fajita Vegetables, Rice,...    $11.25   \n",
      "19    [Tomatillo Red Chili Salsa, [Fajita Vegetables...     $8.75   \n",
      "26    [Roasted Chili Corn Salsa (Medium), [Pinto Bea...     $8.49   \n",
      "...                                                 ...        ...  \n",
      "4590  [Roasted Chili Corn Salsa, [Rice, Black Beans,...    $11.25   \n",
      "4591  [Tomatillo Red Chili Salsa, [Rice, Black Beans...     $8.75   \n",
      "4595  [Tomatillo Green Chili Salsa, [Rice, Black Bea...     $8.75   \n",
      "4599      [Roasted Chili Corn Salsa, [Cheese, Lettuce]]     $8.75   \n",
      "4604  [Fresh Tomato Salsa, [Rice, Black Beans, Chees...     $8.75   \n",
      "\n",
      "[726 rows x 5 columns]\n"
     ]
    }
   ],
   "source": [
    "# chipo 데이터에서 item_name이 'Steak Burrito'인 데이터 추출\n",
    "chipo_ext1=chipo.query('item_name==\"Steak Burrito\"')\n",
    "\n",
    "# chipo 데이터에서 item_name이 'Chicken Bowl'인 데이터 추출\n",
    "chipo_ext2=chipo.query('item_name==\"Chicken Bowl\"')\n",
    "\n",
    "# 결과 출력\n",
    "print(chipo_ext1)\n",
    "print(chipo_ext2)\n",
    "\n"
   ]
  },
  {
   "cell_type": "markdown",
   "metadata": {},
   "source": [
    "#### 3-3. 'item_price' 값이 실수형 데이터가 아니므로 연산이 가능하도록 item_price 값에서 '$'를 제거하고 자료형을 float로 변환하여 출력하시오."
   ]
  },
  {
   "cell_type": "code",
   "execution_count": 16,
   "metadata": {
    "ExecuteTime": {
     "end_time": "2025-09-24T05:51:01.628106Z",
     "start_time": "2025-09-24T05:51:01.603016Z"
    }
   },
   "outputs": [
    {
     "name": "stdout",
     "output_type": "stream",
     "text": [
      "7       11.75\n",
      "9        9.25\n",
      "31       8.99\n",
      "43      11.75\n",
      "46       8.99\n",
      "        ...  \n",
      "4546     9.25\n",
      "4607    11.75\n",
      "4610    11.75\n",
      "4617    11.75\n",
      "4618    11.75\n",
      "Name: item_price_numeric, Length: 368, dtype: float64\n",
      "4       16.98\n",
      "5       10.98\n",
      "13      11.25\n",
      "19       8.75\n",
      "26       8.49\n",
      "        ...  \n",
      "4590    11.25\n",
      "4591     8.75\n",
      "4595     8.75\n",
      "4599     8.75\n",
      "4604     8.75\n",
      "Name: item_price_numeric, Length: 726, dtype: float64\n"
     ]
    }
   ],
   "source": [
    "# 3-2에서 추출한 'Steak Burrito' 데이터의 사본 생성\n",
    "chipo_ext1_copy=chipo_ext1.copy()\n",
    "\n",
    "# 3-2에서 추출한 'Chicken Bowl' 데이터의 사본 생성\n",
    "chipo_ext2_copy=chipo_ext2.copy()\n",
    "\n",
    "# 계산을 위해서 'item_price' 값에서 '$'를 제거하고 자료형을 float로 변환한 값을 'item_price_numeric' 변수로 추가\n",
    "# '$' 제거는 pandas.Series.str.replace 함수 활용 - '$'를 ''로 대체하는 방식\n",
    "# 자료형 변환은 pandas.DataFrame.astype 함수 활용 - astype() 함수에 원하는 자료형을 지정\n",
    "# 1. Steak Burrio 데이터 사본에 'item_price_numeric' 변수 추가\n",
    "chipo_ext1_copy['item_price_numeric']=chipo_ext1_copy['item_price'].str.replace('$','')\n",
    "chipo_ext1_copy['item_price_numeric']=chipo_ext1_copy['item_price_numeric'].astype(float)\n",
    "\n",
    "# 2. Chicken Bowl 데이터 사본에 'item_price_numeric' 변수 추가\n",
    "chipo_ext2_copy['item_price_numeric']=chipo_ext2_copy['item_price'].str.replace('$','')\n",
    "chipo_ext2_copy['item_price_numeric']=chipo_ext2_copy['item_price_numeric'].astype(float)\n",
    "\n",
    "# 'Steak Burrito' 데이터의 'item_price_numeric' 열만 출력\n",
    "print(chipo_ext1_copy['item_price_numeric'])\n",
    "\n",
    "# 'Chicken Bowl' 데이터의 'item_price_numeric' 열만 출력\n",
    "print(chipo_ext2_copy['item_price_numeric'])"
   ]
  },
  {
   "cell_type": "markdown",
   "metadata": {},
   "source": [
    "#### 3-4. 'Steak Burrito'와 'Chicken Bowl'의 총 판매 금액을 계산하여 출력하시오."
   ]
  },
  {
   "cell_type": "code",
   "execution_count": 17,
   "metadata": {
    "ExecuteTime": {
     "end_time": "2025-09-24T06:18:28.863374Z",
     "start_time": "2025-09-24T06:18:28.851316Z"
    }
   },
   "outputs": [
    {
     "name": "stdout",
     "output_type": "stream",
     "text": [
      "'Steak Burrito'의 총 판매 금액: 3851.4300000000003\n",
      "'Chicken Bowl'의 총 판매 금액: 7342.7300000000005\n"
     ]
    }
   ],
   "source": [
    "# 'Steak Burrito'의 총 판매 금액 계산\n",
    "chipo_ext1_copy_total=chipo_ext1_copy['item_price_numeric'].sum(0)\n",
    "\n",
    "# 'Chicken Bowl'의 총 판매 금액 계산\n",
    "chipo_ext2_copy_total=chipo_ext2_copy['item_price_numeric'].sum(0)\n",
    "\n",
    "# 결과 출력\n",
    "print(\"'Steak Burrito'의 총 판매 금액:\",chipo_ext1_copy_total)\n",
    "print(\"'Chicken Bowl'의 총 판매 금액:\",chipo_ext2_copy_total)\n"
   ]
  },
  {
   "cell_type": "markdown",
   "metadata": {},
   "source": [
    "#### 3-5. 'Steak Burrito'와 'Chicken Bowl'의 총 판매 수량을 계산하여 출력하시오."
   ]
  },
  {
   "cell_type": "code",
   "execution_count": 18,
   "metadata": {
    "ExecuteTime": {
     "end_time": "2025-09-24T06:21:24.321063Z",
     "start_time": "2025-09-24T06:21:24.309642Z"
    }
   },
   "outputs": [
    {
     "name": "stdout",
     "output_type": "stream",
     "text": [
      "'Steak Burrito'의 총 판매 수량: 386\n",
      "'Chicken Bowl'의 총 판매 수량: 761\n"
     ]
    }
   ],
   "source": [
    "# 'Steak Burrito'의 총 판매 수량 계산\n",
    "chipo_ext1_copy_totalQuan=chipo_ext1_copy['quantity'].sum(0)\n",
    "\n",
    "# 'Chicken Bowl'의 총 판매 수량 계산\n",
    "chipo_ext2_copy_totalQuan=chipo_ext2_copy['quantity'].sum(0)\n",
    "\n",
    "# 결과 출력\n",
    "print(\"'Steak Burrito'의 총 판매 수량:\",chipo_ext1_copy_totalQuan)\n",
    "print(\"'Chicken Bowl'의 총 판매 수량:\",chipo_ext2_copy_totalQuan)"
   ]
  },
  {
   "cell_type": "markdown",
   "metadata": {},
   "source": [
    "#### 3-6. 'Steak Burrito'와 'Chicken Bowl'의 평균 판매 가격을 계산하여 출력하시오."
   ]
  },
  {
   "cell_type": "code",
   "execution_count": 19,
   "metadata": {
    "ExecuteTime": {
     "end_time": "2025-09-24T06:28:32.018162Z",
     "start_time": "2025-09-24T06:28:32.008941Z"
    }
   },
   "outputs": [
    {
     "name": "stdout",
     "output_type": "stream",
     "text": [
      "'Steak Burrito'의 평균 판매 가격: $9.98\n",
      "'Chicken Bowl'의 평균 판매 가격: $9.65\n"
     ]
    }
   ],
   "source": [
    "# 'Steak Burrito'의 평균 가격 계산\n",
    "# 총 판매 금액을 총 판매 수량으로 나누고 round() 함수를 이용해 소수점 둘째 자리까지 구함\n",
    "chipo_ext1_copy_averagePrice=chipo_ext1_copy_total/chipo_ext1_copy_totalQuan\n",
    "averPrice1=round(chipo_ext1_copy_averagePrice,2)\n",
    "\n",
    "# 'Chicken Bowl'의 평균 가격 계산\n",
    "# 총 판매 금액을 총 판매 수량으로 나누고 round() 함수를 이용해 소수점 둘째 자리까지 구함\n",
    "chipo_ext2_copy_averagePrice=chipo_ext2_copy_total/chipo_ext2_copy_totalQuan\n",
    "averPrice2=round(chipo_ext2_copy_averagePrice,2)\n",
    "\n",
    "# 결과 출력\n",
    "print(f\"'Steak Burrito'의 평균 판매 가격: ${averPrice1}\")\n",
    "print(f\"'Chicken Bowl'의 평균 판매 가격: ${averPrice2}\")\n"
   ]
  },
  {
   "cell_type": "markdown",
   "metadata": {},
   "source": [
    "### 4. 축구 데이터(EURO 2012)로 아래 문제에 맞게 코드를 작성하시오."
   ]
  },
  {
   "cell_type": "code",
   "execution_count": 20,
   "metadata": {
    "ExecuteTime": {
     "end_time": "2025-09-24T06:41:56.352497Z",
     "start_time": "2025-09-24T06:41:55.979074Z"
    },
    "scrolled": true
   },
   "outputs": [
    {
     "name": "stdout",
     "output_type": "stream",
     "text": [
      "                   Team  Goals  Shots on target  Shots off target  \\\n",
      "0               Croatia      4               13                12   \n",
      "1        Czech Republic      4               13                18   \n",
      "2               Denmark      4               10                10   \n",
      "3               England      5               11                18   \n",
      "4                France      3               22                24   \n",
      "5               Germany     10               32                32   \n",
      "6                Greece      5                8                18   \n",
      "7                 Italy      6               34                45   \n",
      "8           Netherlands      2               12                36   \n",
      "9                Poland      2               15                23   \n",
      "10             Portugal      6               22                42   \n",
      "11  Republic of Ireland      1                7                12   \n",
      "12               Russia      5                9                31   \n",
      "13                Spain     12               42                33   \n",
      "14               Sweden      5               17                19   \n",
      "15              Ukraine      2                7                26   \n",
      "\n",
      "   Shooting Accuracy % Goals-to-shots  Total shots (inc. Blocked)  \\\n",
      "0              51.9%            16.0%                          32   \n",
      "1              41.9%            12.9%                          39   \n",
      "2              50.0%            20.0%                          27   \n",
      "3              50.0%            17.2%                          40   \n",
      "4              37.9%             6.5%                          65   \n",
      "5              47.8%            15.6%                          80   \n",
      "6              30.7%            19.2%                          32   \n",
      "7              43.0%             7.5%                         110   \n",
      "8              25.0%             4.1%                          60   \n",
      "9              39.4%             5.2%                          48   \n",
      "10             34.3%             9.3%                          82   \n",
      "11             36.8%             5.2%                          28   \n",
      "12             22.5%            12.5%                          59   \n",
      "13             55.9%            16.0%                         100   \n",
      "14             47.2%            13.8%                          39   \n",
      "15             21.2%             6.0%                          38   \n",
      "\n",
      "    Hit Woodwork  Penalty goals  Penalties not scored  ...  Saves made  \\\n",
      "0              0              0                     0  ...          13   \n",
      "1              0              0                     0  ...           9   \n",
      "2              1              0                     0  ...          10   \n",
      "3              0              0                     0  ...          22   \n",
      "4              1              0                     0  ...           6   \n",
      "5              2              1                     0  ...          10   \n",
      "6              1              1                     1  ...          13   \n",
      "7              2              0                     0  ...          20   \n",
      "8              2              0                     0  ...          12   \n",
      "9              0              0                     0  ...           6   \n",
      "10             6              0                     0  ...          10   \n",
      "11             0              0                     0  ...          17   \n",
      "12             2              0                     0  ...          10   \n",
      "13             0              1                     0  ...          15   \n",
      "14             3              0                     0  ...           8   \n",
      "15             0              0                     0  ...          13   \n",
      "\n",
      "    Saves-to-shots ratio  Fouls Won Fouls Conceded  Offsides  Yellow Cards  \\\n",
      "0                  81.3%         41             62         2             9   \n",
      "1                  60.1%         53             73         8             7   \n",
      "2                  66.7%         25             38         8             4   \n",
      "3                  88.1%         43             45         6             5   \n",
      "4                  54.6%         36             51         5             6   \n",
      "5                  62.6%         63             49        12             4   \n",
      "6                  65.1%         67             48        12             9   \n",
      "7                  74.1%        101             89        16            16   \n",
      "8                  70.6%         35             30         3             5   \n",
      "9                  66.7%         48             56         3             7   \n",
      "10                 71.5%         73             90        10            12   \n",
      "11                 65.4%         43             51        11             6   \n",
      "12                 77.0%         34             43         4             6   \n",
      "13                 93.8%        102             83        19            11   \n",
      "14                 61.6%         35             51         7             7   \n",
      "15                 76.5%         48             31         4             5   \n",
      "\n",
      "    Red Cards  Subs on  Subs off  Players Used  \n",
      "0           0        9         9            16  \n",
      "1           0       11        11            19  \n",
      "2           0        7         7            15  \n",
      "3           0       11        11            16  \n",
      "4           0       11        11            19  \n",
      "5           0       15        15            17  \n",
      "6           1       12        12            20  \n",
      "7           0       18        18            19  \n",
      "8           0        7         7            15  \n",
      "9           1        7         7            17  \n",
      "10          0       14        14            16  \n",
      "11          1       10        10            17  \n",
      "12          0        7         7            16  \n",
      "13          0       17        17            18  \n",
      "14          0        9         9            18  \n",
      "15          0        9         9            18  \n",
      "\n",
      "[16 rows x 35 columns]\n"
     ]
    }
   ],
   "source": [
    "import pandas as pd\n",
    "\n",
    "# 주어진 데이터 생성\n",
    "df = pd.read_csv('https://raw.githubusercontent.com/guipsamora/pandas_exercises/refs/heads/master/02_Filtering_%26_Sorting/Euro12/Euro_2012_stats_TEAM.csv')\n",
    "\n",
    "print(df)"
   ]
  },
  {
   "cell_type": "markdown",
   "metadata": {},
   "source": [
    "#### 4-1. 유로 2012 결승에 진출했던 두 팀(스페인, 이탈리아)의 데이터를 추출하시오."
   ]
  },
  {
   "cell_type": "code",
   "execution_count": 21,
   "metadata": {
    "ExecuteTime": {
     "end_time": "2025-09-24T10:48:52.181941Z",
     "start_time": "2025-09-24T10:48:52.166775Z"
    }
   },
   "outputs": [
    {
     "name": "stdout",
     "output_type": "stream",
     "text": [
      "     Team  Goals  Shots on target  Shots off target Shooting Accuracy  \\\n",
      "7   Italy      6               34                45             43.0%   \n",
      "13  Spain     12               42                33             55.9%   \n",
      "\n",
      "   % Goals-to-shots  Total shots (inc. Blocked)  Hit Woodwork  Penalty goals  \\\n",
      "7              7.5%                         110             2              0   \n",
      "13            16.0%                         100             0              1   \n",
      "\n",
      "    Penalties not scored  ...  Saves made  Saves-to-shots ratio  Fouls Won  \\\n",
      "7                      0  ...          20                 74.1%        101   \n",
      "13                     0  ...          15                 93.8%        102   \n",
      "\n",
      "   Fouls Conceded  Offsides  Yellow Cards  Red Cards  Subs on  Subs off  \\\n",
      "7              89        16            16          0       18        18   \n",
      "13             83        19            11          0       17        17   \n",
      "\n",
      "    Players Used  \n",
      "7             19  \n",
      "13            18  \n",
      "\n",
      "[2 rows x 35 columns]\n"
     ]
    }
   ],
   "source": [
    "# 스페인, 이탈리아 데이터 추출\n",
    "Euro2012_Final=df.query('Team in [\"Spain\",\"Italy\"]')\n",
    "\n",
    "# 출력\n",
    "print(Euro2012_Final)"
   ]
  },
  {
   "cell_type": "markdown",
   "metadata": {},
   "source": [
    "#### 4-2. 스페인, 이탈리아의 슛 관련 데이터를 추출하시오. (shot이 포함되어있는 열)"
   ]
  },
  {
   "cell_type": "code",
   "execution_count": 22,
   "metadata": {},
   "outputs": [
    {
     "name": "stdout",
     "output_type": "stream",
     "text": [
      "     Team  Shots on target  Shots off target % Goals-to-shots  \\\n",
      "7   Italy               34                45             7.5%   \n",
      "13  Spain               42                33            16.0%   \n",
      "\n",
      "    Total shots (inc. Blocked) Saves-to-shots ratio  \n",
      "7                          110                74.1%  \n",
      "13                         100                93.8%  \n"
     ]
    }
   ],
   "source": [
    "# 대소문자 구분 없이 shot이 포함된 열 추출\n",
    "# shot이 포함된 열 이름을 리스트로 생성\n",
    "Euro2012_Final_columns=Euro2012_Final.columns\n",
    "shot_list=[]\n",
    "for shot in Euro2012_Final_columns:\n",
    "    if 'shot' in shot.lower():\n",
    "        shot_list.append(shot)\n",
    "        \n",
    "\n",
    "# shot이 포함된 열과 'Team' 열만 추출\n",
    "Final_shot=pd.DataFrame(Euro2012_Final,columns=['Team']+shot_list)\n",
    "\n",
    "# 결과 출력\n",
    "print(Final_shot)"
   ]
  },
  {
   "cell_type": "markdown",
   "metadata": {},
   "source": [
    "#### 4-3. 가장 많이 골(Goals)을 넣은 상위 5개 팀을 유효슈팅(Shots on traget) 기준 내림차순으로 보이시오."
   ]
  },
  {
   "cell_type": "code",
   "execution_count": 23,
   "metadata": {},
   "outputs": [
    {
     "name": "stdout",
     "output_type": "stream",
     "text": [
      "        Team  Goals  Shots on target\n",
      "13     Spain     12               42\n",
      "7      Italy      6               34\n",
      "5    Germany     10               32\n",
      "10  Portugal      6               22\n",
      "14    Sweden      5               17\n"
     ]
    }
   ],
   "source": [
    "# 정렬을 통해 가장 많이 골을 넣은 상위 5개 팀 추출\n",
    "Goals_descended=df.sort_values('Goals',ascending=False)\n",
    "Goals_desc_2=Goals_descended.head()\n",
    "# 위에서 추출된 팀 데이터에서 유효슈팅 기준 내림차순으로 정렬\n",
    "Shots_Goatline=Goals_desc_2.sort_values('Shots on target',ascending=False)\n",
    "\n",
    "# 결과 출력 (아래 출력된 컬럼만 출력)\n",
    "print(Shots_Goatline[['Team','Goals','Shots on target']])"
   ]
  },
  {
   "cell_type": "markdown",
   "metadata": {},
   "source": [
    "#### 4-4. 가장 패스(Passes)가 적은 5 팀을 추출하고, 패스 정확도(Passing Accuracy) 기준 내림차순으로 보이시오."
   ]
  },
  {
   "cell_type": "code",
   "execution_count": 24,
   "metadata": {},
   "outputs": [
    {
     "name": "stdout",
     "output_type": "stream",
     "text": [
      "                   Team  Passes Passing Accuracy\n",
      "14               Sweden    1192            80.9%\n",
      "9                Poland    1059            80.4%\n",
      "0               Croatia    1076            76.9%\n",
      "6                Greece    1187            76.7%\n",
      "11  Republic of Ireland     851            71.2%\n"
     ]
    }
   ],
   "source": [
    "# 정렬을 통해 가장 패스가 적은 5팀 추출\n",
    "pass_=df.sort_values('Passes')\n",
    "pass_under=pass_.head()\n",
    "# 위에서 추출된 팀 데이터에서 패스 정확도 기준 내림차순으로 정렬\n",
    "pass_accuracy=pass_under.sort_values('Passing Accuracy',ascending=False)\n",
    "\n",
    "# 결과 출력 (아래 출력된 컬럼만 출력)\n",
    "print(pass_accuracy[['Team','Passes','Passing Accuracy']])"
   ]
  },
  {
   "cell_type": "markdown",
   "metadata": {},
   "source": [
    "#### 4-5. 전체 골키퍼 선방 비율(Saves-to-shots ratio)의 평균을 구하고, 평균 이상 팀과 평균 이하 팀을 보이시오."
   ]
  },
  {
   "cell_type": "code",
   "execution_count": 25,
   "metadata": {},
   "outputs": [
    {
     "name": "stdout",
     "output_type": "stream",
     "text": [
      "전체 골키퍼 선방 비율의 평균:  70.98124999999999\n",
      "평균 이상 팀:         Team  Saves-to-shots ratio\n",
      "0    Croatia                  81.3\n",
      "3    England                  88.1\n",
      "7      Italy                  74.1\n",
      "10  Portugal                  71.5\n",
      "12    Russia                  77.0\n",
      "13     Spain                  93.8\n",
      "15   Ukraine                  76.5\n",
      "평균 이하 팀:                    Team  Saves-to-shots ratio\n",
      "1        Czech Republic                  60.1\n",
      "2               Denmark                  66.7\n",
      "4                France                  54.6\n",
      "5               Germany                  62.6\n",
      "6                Greece                  65.1\n",
      "8           Netherlands                  70.6\n",
      "9                Poland                  66.7\n",
      "11  Republic of Ireland                  65.4\n",
      "14               Sweden                  61.6\n"
     ]
    }
   ],
   "source": [
    "# 전체 골키퍼 선방 비율의 평균 계산\n",
    "# 선방 비율 값에서 % 제거 후 float로 변환 (3-3에서 사용한 replace() 함수와 astype() 함수 사용)\n",
    "df_copy=df.copy()\n",
    "df_copy['Saves-to-shots ratio']=df_copy['Saves-to-shots ratio'].str.replace('%','')\n",
    "df_copy['Saves-to-shots ratio']=df_copy['Saves-to-shots ratio'].astype(float)\n",
    "\n",
    "# 선방 비율 평균 계산 후 출력\n",
    "df_copy_mean=df_copy['Saves-to-shots ratio'].mean()\n",
    "print(\"전체 골키퍼 선방 비율의 평균: \",df_copy_mean)\n",
    "\n",
    "# 선방 비율 평균 이상 팀과 평균 이하 팀 추출\n",
    "mean_over=df_copy[df_copy['Saves-to-shots ratio']>=df_copy_mean]\n",
    "mean_under=df_copy[df_copy['Saves-to-shots ratio']<df_copy_mean]\n",
    "\n",
    "# 결과 출력\n",
    "print(\"평균 이상 팀:\",mean_over[['Team','Saves-to-shots ratio']])\n",
    "print(\"평균 이하 팀:\",mean_under[['Team','Saves-to-shots ratio']])\n"
   ]
  },
  {
   "cell_type": "markdown",
   "metadata": {},
   "source": [
    "### 5. 자율 문제\n",
    "- 1번 ~ 4번 문제의 데이터 중 하나를 선정하여 4주차까지 학습한 내용을 적용하여 데이터 처리한 결과를 보이시오.\n",
    "\n",
    "**4번 문제의 EURO 2012 데이터를 활용하여, 4주차까지 학습한 내용을 적용해 아래 세 가지 문제를 해결하시오.**"
   ]
  },
  {
   "cell_type": "code",
   "execution_count": 1,
   "metadata": {},
   "outputs": [],
   "source": [
    "import pandas as pd\n",
    "\n",
    "df = pd.read_csv('https://raw.githubusercontent.com/guipsamora/pandas_exercises/refs/heads/master/02_Filtering_%26_Sorting/Euro12/Euro_2012_stats_TEAM.csv')"
   ]
  },
  {
   "cell_type": "markdown",
   "metadata": {},
   "source": [
    "# 5-1. 팀의 수비 거칠기 분석\n",
    "- Yellow Cards'를 5개보다 많이 받고 'Red Cards'를 1개 이상 받은 팀을 찾아서, 'Fouls Conceded'(파울 허용 횟수)가 많은 순서대로 정렬하여 'Team', 'Fouls Conceded', 'Yellow Cards', 'Red Cards' 열을 출력하시오."
   ]
  },
  {
   "cell_type": "code",
   "execution_count": 27,
   "metadata": {},
   "outputs": [
    {
     "name": "stdout",
     "output_type": "stream",
     "text": [
      "                   Team  Fouls Conceded  Yellow Cards  Red Cards\n",
      "9                Poland              56             7          1\n",
      "11  Republic of Ireland              51             6          1\n",
      "6                Greece              48             9          1\n"
     ]
    }
   ],
   "source": [
    "# 조건 필터링 (query 또는 loc), 다중 조건 정렬 (sort_values)\n",
    "df_con1=df.query('`Yellow Cards` > 5 & `Red Cards` >= 1')\n",
    "\n",
    "df_sorted1=df_con1.sort_values('Fouls Conceded',ascending=False)\n",
    "\n",
    "print(df_sorted1[['Team', 'Fouls Conceded', 'Yellow Cards', 'Red Cards']])"
   ]
  },
  {
   "cell_type": "markdown",
   "metadata": {},
   "source": [
    "# 5-2. 공격 효율성 지표 생성 및 분석\n",
    "- 'Shots per Goal' (골당 슈팅 수)이라는 새로운 파생 변수를 만드시오. 이 변수는 'Total shots (inc. Blocked)'를 'Goals'로 나누어 계산. (단, 'Goals'가 0인 경우는 분석에서 제외) 계산된 'Shots per Goal'이 가장 낮은, 즉 가장 효율적인 공격을 한 상위 5개 팀의 'Team', 'Goals', 'Total shots (inc. Blocked)', 'Shots per Goal'을 출력하시오."
   ]
  },
  {
   "cell_type": "code",
   "execution_count": 28,
   "metadata": {},
   "outputs": [
    {
     "name": "stdout",
     "output_type": "stream",
     "text": [
      "                   Team  Goals  Total shots (inc. Blocked)  Shots per Goal\n",
      "6                Greece      5                          32        6.400000\n",
      "2               Denmark      4                          27        6.750000\n",
      "14               Sweden      5                          39        7.800000\n",
      "3               England      5                          40        8.000000\n",
      "5               Germany     10                          80        8.000000\n",
      "0               Croatia      4                          32        8.000000\n",
      "13                Spain     12                         100        8.333333\n",
      "1        Czech Republic      4                          39        9.750000\n",
      "12               Russia      5                          59       11.800000\n",
      "10             Portugal      6                          82       13.666667\n",
      "7                 Italy      6                         110       18.333333\n",
      "15              Ukraine      2                          38       19.000000\n",
      "4                France      3                          65       21.666667\n",
      "9                Poland      2                          48       24.000000\n",
      "11  Republic of Ireland      1                          28       28.000000\n",
      "8           Netherlands      2                          60       30.000000\n"
     ]
    }
   ],
   "source": [
    "# 파생 변수 생성, 산술 연산, NaN 값 처리, 정렬 및 상위 데이터 추출 (sort_values, head)\n",
    "df_not_zero=df.query('Goals != 0')\n",
    "\n",
    "df_not_zero['Shots per Goal']=df_not_zero['Total shots (inc. Blocked)']/df_not_zero['Goals']\n",
    "\n",
    "df_SpG_Goatline=df_not_zero.sort_values('Shots per Goal')\n",
    "\n",
    "print(df_SpG_Goatline[['Team', 'Goals', 'Total shots (inc. Blocked)', 'Shots per Goal']])"
   ]
  },
  {
   "cell_type": "markdown",
   "metadata": {},
   "source": [
    "# 5-3. 패스 정확도에 따른 팀 분류 및 통계 분석\n",
    "- 'Passing Accuracy' 열의 '%' 기호를 제거하고 숫자(float) 형태로 변환하시오. 그 다음, 패스 정확도가 85% 이상인 팀과 미만인 팀으로 나누어 행을 이루고 각 그룹의 'Goals' 평균과 'Shooting Accuracy' 평균으로 열을 만들어 작성한 새로운 DataFrame 객체를 출력하시오."
   ]
  },
  {
   "cell_type": "code",
   "execution_count": 2,
   "metadata": {},
   "outputs": [
    {
     "name": "stdout",
     "output_type": "stream",
     "text": [
      "          Goals mean  Shooting Accuracy\n",
      "Over 85         6.75           4.083333\n",
      "Under 85       41.65          39.075000\n"
     ]
    }
   ],
   "source": [
    "# 데이터 타입 변환 (str.replace, astype), 조건에 따른 그룹화, 그룹별 통계치 계산 (groupby, agg)\n",
    "# 주의 : Jupyter Notebook 자체 문제인 듯한데, 혹시나 str 어쩌구 하면서 에러 메시지가 뜬다면 kernel 재시작 후 위에 import pandas as pd 실행한 다음에 해주시면 됩니다\n",
    "df['Passing Accuracy']=df['Passing Accuracy'].str.replace('%','')\n",
    "df['Passing Accuracy']=df['Passing Accuracy'].astype(float)\n",
    "df['Shooting Accuracy']=df['Shooting Accuracy'].str.replace('%','')\n",
    "df['Shooting Accuracy']=df['Shooting Accuracy'].astype(float)\n",
    "\n",
    "df_PassAc_over=df.loc[df['Passing Accuracy']>=85]\n",
    "df_PassAc_under=df.loc[df['Passing Accuracy']<85]\n",
    "\n",
    "Goals_mean_over=df_PassAc_over['Goals'].mean()\n",
    "Goals_mean_under=df_PassAc_under['Goals'].mean()\n",
    "Shooting_mean_over=df_PassAc_over['Shooting Accuracy'].mean()\n",
    "Shooting_mean_under=df_PassAc_under['Shooting Accuracy'].mean()\n",
    "\n",
    "new_df=pd.DataFrame({'Goals mean':[Goals_mean_over,Shooting_mean_over],'Shooting Accuracy':[Goals_mean_under,Shooting_mean_under]},index=['Over 85','Under 85'])\n",
    "print(new_df)"
   ]
  }
 ],
 "metadata": {
  "kernelspec": {
   "display_name": "Python [conda env:base] *",
   "language": "python",
   "name": "conda-base-py"
  },
  "language_info": {
   "codemirror_mode": {
    "name": "ipython",
    "version": 3
   },
   "file_extension": ".py",
   "mimetype": "text/x-python",
   "name": "python",
   "nbconvert_exporter": "python",
   "pygments_lexer": "ipython3",
   "version": "3.13.5"
  }
 },
 "nbformat": 4,
 "nbformat_minor": 4
}
