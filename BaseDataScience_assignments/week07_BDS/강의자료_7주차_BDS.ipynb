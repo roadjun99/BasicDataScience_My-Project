{
 "cells": [
  {
   "cell_type": "markdown",
   "metadata": {},
   "source": [
    "# 기초데이터과학 (01분반)\n",
    "\n",
    "## 06-1. 데이터 정제"
   ]
  },
  {
   "cell_type": "markdown",
   "metadata": {},
   "source": [
    "### Acknowledgement\n",
    "#### 이 자료는 다음 서적의 내용을 바탕으로 작성되었음\n",
    "\n",
    "- 쉽게 배우는 파이썬 데이터 분석. 이지스 퍼블리싱\n",
    "- 파이썬 라이브러리를 활용한 데이터 분석. 한빛미디어"
   ]
  },
  {
   "cell_type": "markdown",
   "metadata": {},
   "source": [
    "### 데이터 정제 (Data cleansing)\n",
    "- 데이터에 존재하는 결측값이나 이상값 등을 처리하여 데이터의 신뢰도를 높이고 데이터 분석에 사용될 수 있도록 하는 작업\n",
    "- 데이터 분석 전에 필요한 데이터 전처리 과정 중 하나"
   ]
  },
  {
   "cell_type": "markdown",
   "metadata": {},
   "source": [
    "#### 데이터 오류 원인\n",
    "- 결측값/결측치 (missing value)\n",
    "  - 데이터가 입력되지 않고 누락된 값, 비어 있는 값\n",
    "  - NaN, Na, Null, None 등으로 표현\n",
    "  - 결측치가 많으면 데이터 분석 시 함수가 적용되지 않거나 분석 결과가 왜곡되는 문제 발생\n",
    "- 잡음 (noise)\n",
    "  - 실제는 입력되지 않았지만 입력되었다고 잘못 판단된 값\n",
    "- 이상값/이상치 (outlier)\n",
    "  - 데이터의 정상 범위에서 크게 벗어난 아주 크거나 작은 값\n",
    "  - 데이터 수집 과정에서 발생하는 오류 때문에 데이터에 이상치가 포함될 수 있고 이를 그대로 분석에 사용할 경우 결과가 왜곡될 수 있음"
   ]
  },
  {
   "cell_type": "markdown",
   "metadata": {},
   "source": [
    "#### 데이터 정제 방법\n",
    "- 삭제: 정제가 필요한 데이터의 부분/전체 삭제\n",
    "- 대체: 오류 데이터를 평균, 최빈값, 중앙값 등으로 대체\n",
    "- 예측값 삽입: 회귀식 등을 이용해 예측값을 삽입"
   ]
  },
  {
   "cell_type": "markdown",
   "metadata": {},
   "source": [
    "##### 데이터 정제 시 유의점\n",
    "- 데이터 정제 후 데이터 활용 시 데이터 혹은 데이터 분석 결과에 왜곡이 발생하지 않도록 세심한 고려가 필요"
   ]
  },
  {
   "cell_type": "markdown",
   "metadata": {},
   "source": [
    "#### 결측치가 존재하는 예제 데이터 만들기\n",
    "- 결측치: numpy의 numpy.nan 이용"
   ]
  },
  {
   "cell_type": "code",
   "execution_count": 1,
   "metadata": {
    "ExecuteTime": {
     "end_time": "2025-10-14T00:47:24.045858Z",
     "start_time": "2025-10-14T00:47:24.033035Z"
    }
   },
   "outputs": [
    {
     "name": "stdout",
     "output_type": "stream",
     "text": [
      "   id  midterm  final\n",
      "0   1     60.0   70.0\n",
      "1   2     80.0   83.0\n",
      "2   3     70.0   65.0\n",
      "3   4     90.0   95.0\n",
      "4   5     85.0   80.0\n",
      "5   6      NaN   90.0\n",
      "6   7     75.0    NaN\n"
     ]
    }
   ],
   "source": [
    "# 예제 데이터 만들기\n",
    "import pandas as pd\n",
    "import numpy as np\n",
    "\n",
    "test = pd.DataFrame({'id'      : [1, 2, 3, 4, 5, 6, 7],\n",
    "                      'midterm' : [60, 80, 70, 90, 85, np.nan, 75],\n",
    "                       'final' : [70, 83, 65, 95, 80, 90, np.nan]})\n",
    "\n",
    "print(test)"
   ]
  },
  {
   "cell_type": "markdown",
   "metadata": {},
   "source": [
    "#### 결측치 존재 여부 확인하기\n",
    "- isnull(), isna(), notnull() 함수 #Series, DataFrame 모두 사용 가능"
   ]
  },
  {
   "cell_type": "code",
   "execution_count": 2,
   "metadata": {
    "ExecuteTime": {
     "end_time": "2025-10-14T00:47:24.143655Z",
     "start_time": "2025-10-14T00:47:24.135911Z"
    }
   },
   "outputs": [
    {
     "name": "stdout",
     "output_type": "stream",
     "text": [
      "      id  midterm  final\n",
      "0  False    False  False\n",
      "1  False    False  False\n",
      "2  False    False  False\n",
      "3  False    False  False\n",
      "4  False    False  False\n",
      "5  False     True  False\n",
      "6  False    False   True\n"
     ]
    }
   ],
   "source": [
    "print(test.isnull())"
   ]
  },
  {
   "cell_type": "code",
   "execution_count": 3,
   "metadata": {
    "ExecuteTime": {
     "end_time": "2025-10-14T00:47:24.264386Z",
     "start_time": "2025-10-14T00:47:24.257717Z"
    }
   },
   "outputs": [
    {
     "name": "stdout",
     "output_type": "stream",
     "text": [
      "      id  midterm  final\n",
      "0  False    False  False\n",
      "1  False    False  False\n",
      "2  False    False  False\n",
      "3  False    False  False\n",
      "4  False    False  False\n",
      "5  False     True  False\n",
      "6  False    False   True\n"
     ]
    }
   ],
   "source": [
    "print(test.isna())"
   ]
  },
  {
   "cell_type": "code",
   "execution_count": 4,
   "metadata": {
    "ExecuteTime": {
     "end_time": "2025-10-14T00:47:24.338228Z",
     "start_time": "2025-10-14T00:47:24.331639Z"
    }
   },
   "outputs": [
    {
     "name": "stdout",
     "output_type": "stream",
     "text": [
      "     id  midterm  final\n",
      "0  True     True   True\n",
      "1  True     True   True\n",
      "2  True     True   True\n",
      "3  True     True   True\n",
      "4  True     True   True\n",
      "5  True    False   True\n",
      "6  True     True  False\n"
     ]
    }
   ],
   "source": [
    "print(test.notnull())"
   ]
  },
  {
   "cell_type": "markdown",
   "metadata": {},
   "source": [
    "##### 결측치 개수 확인하기\n",
    "- sum()은 언제 합?개수?"
   ]
  },
  {
   "cell_type": "code",
   "execution_count": 5,
   "metadata": {
    "ExecuteTime": {
     "end_time": "2025-10-14T00:47:24.395132Z",
     "start_time": "2025-10-14T00:47:24.390038Z"
    }
   },
   "outputs": [
    {
     "name": "stdout",
     "output_type": "stream",
     "text": [
      "id         0\n",
      "midterm    1\n",
      "final      1\n",
      "dtype: int64\n"
     ]
    }
   ],
   "source": [
    "print(test.isnull().sum())"
   ]
  },
  {
   "cell_type": "code",
   "execution_count": 6,
   "metadata": {
    "ExecuteTime": {
     "end_time": "2025-10-14T00:47:24.471063Z",
     "start_time": "2025-10-14T00:47:24.465918Z"
    }
   },
   "outputs": [
    {
     "name": "stdout",
     "output_type": "stream",
     "text": [
      "id         0\n",
      "midterm    1\n",
      "final      1\n",
      "dtype: int64\n"
     ]
    }
   ],
   "source": [
    "print(test.isna().sum())"
   ]
  },
  {
   "cell_type": "markdown",
   "metadata": {},
   "source": [
    "##### 결측치가 있는 데이터 행 확인하기"
   ]
  },
  {
   "cell_type": "code",
   "execution_count": 7,
   "metadata": {
    "ExecuteTime": {
     "end_time": "2025-10-14T00:47:24.544661Z",
     "start_time": "2025-10-14T00:47:24.537540Z"
    }
   },
   "outputs": [
    {
     "name": "stdout",
     "output_type": "stream",
     "text": [
      "0    False\n",
      "1    False\n",
      "2    False\n",
      "3    False\n",
      "4    False\n",
      "5     True\n",
      "6    False\n",
      "Name: midterm, dtype: bool\n",
      "   id  midterm  final\n",
      "5   6      NaN   90.0\n"
     ]
    }
   ],
   "source": [
    "# 결측치 어디 있는지 파악하기\n",
    "na = test['midterm'].isna() # midterm 컬럼에서 결측치가 있는 것은 True, 그렇지 않으면 False\n",
    "print(na)\n",
    "\n",
    "missing = test[na] # 결측치 해당 부분\n",
    "print(missing)"
   ]
  },
  {
   "cell_type": "code",
   "execution_count": 8,
   "metadata": {
    "ExecuteTime": {
     "end_time": "2025-10-14T00:47:24.605930Z",
     "start_time": "2025-10-14T00:47:24.599612Z"
    }
   },
   "outputs": [
    {
     "name": "stdout",
     "output_type": "stream",
     "text": [
      "   id  midterm  final\n",
      "6   7     75.0    NaN\n"
     ]
    }
   ],
   "source": [
    "# 위와 동일한 기능\n",
    "missing = test[test['final'].isna()]\n",
    "print(missing)"
   ]
  },
  {
   "cell_type": "markdown",
   "metadata": {},
   "source": [
    "#### 결측치 제거하기\n",
    "- dropna() 함수 이용"
   ]
  },
  {
   "cell_type": "markdown",
   "metadata": {},
   "source": [
    "- pandas.DataFrame.dropna(axis=0, how='any', inplace=False, subset=None)\n",
    "  - axis=0: 결측치를 포함한 행 삭제\n",
    "  - axis=1: 결측치를 포함한 열 삭제\n",
    "  - how='any': 결측치가 하나라도 포함되면 제거\n",
    "  - how='all': 행 또는 열 모두가 결측치여야 제거\n",
    "  - inplace=True: 원본 데이터에서 결측치 삭제\n",
    "  - inplace=False: 원본은 그대로 두고 결측치가 삭제된 데이터프레임 반환\n",
    "  - subset: 결측치를 제거할 변수(열)"
   ]
  },
  {
   "cell_type": "code",
   "execution_count": 9,
   "metadata": {
    "ExecuteTime": {
     "end_time": "2025-10-14T00:47:24.666868Z",
     "start_time": "2025-10-14T00:47:24.657570Z"
    }
   },
   "outputs": [
    {
     "name": "stdout",
     "output_type": "stream",
     "text": [
      "   id  midterm  final\n",
      "0   1     60.0   70.0\n",
      "1   2     80.0   83.0\n",
      "2   3     70.0   65.0\n",
      "3   4     90.0   95.0\n",
      "4   5     85.0   80.0\n",
      "   id  midterm  final\n",
      "0   1     60.0   70.0\n",
      "1   2     80.0   83.0\n",
      "2   3     70.0   65.0\n",
      "3   4     90.0   95.0\n",
      "4   5     85.0   80.0\n",
      "5   6      NaN   90.0\n",
      "6   7     75.0    NaN\n"
     ]
    }
   ],
   "source": [
    "d = test.dropna() # 기본값이 axis=0, how='any'이므로 결측치가 하나라도 있는 행은 모두 삭제된 데이터프레임 반환\n",
    "print(d)\n",
    "print(test)"
   ]
  },
  {
   "cell_type": "code",
   "execution_count": 10,
   "metadata": {
    "ExecuteTime": {
     "end_time": "2025-10-14T00:47:24.757534Z",
     "start_time": "2025-10-14T00:47:24.749247Z"
    }
   },
   "outputs": [
    {
     "name": "stdout",
     "output_type": "stream",
     "text": [
      "   id  midterm  final\n",
      "0   1     60.0   70.0\n",
      "1   2     80.0   83.0\n",
      "2   3     70.0   65.0\n",
      "3   4     90.0   95.0\n",
      "4   5     85.0   80.0\n",
      "5   6      NaN   90.0\n",
      "6   7     75.0    NaN\n"
     ]
    }
   ],
   "source": [
    "print(test.dropna(how='all')) # axis=0, how='all'이므로 행의 모두가 결측치여야 제거되므로 행의 하나의 변수만 NaN인 행은 모두 남아 있음"
   ]
  },
  {
   "cell_type": "code",
   "execution_count": 11,
   "metadata": {
    "ExecuteTime": {
     "end_time": "2025-10-14T00:47:24.812515Z",
     "start_time": "2025-10-14T00:47:24.806466Z"
    }
   },
   "outputs": [
    {
     "name": "stdout",
     "output_type": "stream",
     "text": [
      "   id\n",
      "0   1\n",
      "1   2\n",
      "2   3\n",
      "3   4\n",
      "4   5\n",
      "5   6\n",
      "6   7\n"
     ]
    }
   ],
   "source": [
    "print(test.dropna(axis=1)) # axis=1, how='any'이므로 결측치가 하나라도 있는 열은 모두 삭제됨"
   ]
  },
  {
   "cell_type": "code",
   "execution_count": 12,
   "metadata": {
    "ExecuteTime": {
     "end_time": "2025-10-14T00:47:24.885154Z",
     "start_time": "2025-10-14T00:47:24.877262Z"
    }
   },
   "outputs": [
    {
     "name": "stdout",
     "output_type": "stream",
     "text": [
      "   id  midterm  final\n",
      "0   1     60.0   70.0\n",
      "1   2     80.0   83.0\n",
      "2   3     70.0   65.0\n",
      "3   4     90.0   95.0\n",
      "4   5     85.0   80.0\n",
      "5   6      NaN   90.0\n"
     ]
    }
   ],
   "source": [
    "print(test.dropna(subset=['final'])) # final 변수에서 결측치가 있는 행만 삭제됨"
   ]
  },
  {
   "cell_type": "code",
   "execution_count": 13,
   "metadata": {
    "ExecuteTime": {
     "end_time": "2025-10-14T00:47:24.938720Z",
     "start_time": "2025-10-14T00:47:24.930372Z"
    }
   },
   "outputs": [
    {
     "name": "stdout",
     "output_type": "stream",
     "text": [
      "   id  midterm  final\n",
      "0   1     60.0   70.0\n",
      "1   2     80.0   83.0\n",
      "2   3     70.0   65.0\n",
      "3   4     90.0   95.0\n",
      "4   5     85.0   80.0\n",
      "6   7     75.0    NaN\n"
     ]
    }
   ],
   "source": [
    "print(test.dropna(subset=['midterm'])) # midterm 변수에서 결측치가 있는 행만 삭제됨"
   ]
  },
  {
   "cell_type": "code",
   "execution_count": 14,
   "metadata": {
    "ExecuteTime": {
     "end_time": "2025-10-14T00:47:24.991245Z",
     "start_time": "2025-10-14T00:47:24.984884Z"
    }
   },
   "outputs": [
    {
     "name": "stdout",
     "output_type": "stream",
     "text": [
      "   id  midterm  final\n",
      "0   1     60.0   70.0\n",
      "1   2     80.0   83.0\n",
      "2   3     70.0   65.0\n",
      "3   4     90.0   95.0\n",
      "4   5     85.0   80.0\n"
     ]
    }
   ],
   "source": [
    "print(test.dropna(subset=['midterm', 'final'])) # midterm 변수와 final 변수에서 결측치가 있는 행 삭제"
   ]
  },
  {
   "cell_type": "markdown",
   "metadata": {},
   "source": [
    "#### 결측치 대체하기\n",
    "- 데이터가 크고 결측치가 얼마 없을 때는 결측치를 제거하고 분석하더라도 큰 무리가 없음\n",
    "- 데이터가 작고 결측치가 많을 때는 결측치를 제거하면 너무 많은 데이터가 손실되어 분석 결과가 왜곡될 수 있음\n",
    "- 이러한 문제를 보완하기 위해 결측치를 다른 값으로 채워 넣는 결측치 대체 방법을 사용함"
   ]
  },
  {
   "cell_type": "markdown",
   "metadata": {},
   "source": [
    "##### 결측치 대체 방법\n",
    "- 평균값이나 최빈값 같은 대표값을 구해 모든 결측치를 하나의 값으로 일괄 대체하는 방법\n",
    "- 통계 분석 기법으로 결측치의 예측값을 추정해 대체하는 방법"
   ]
  },
  {
   "cell_type": "markdown",
   "metadata": {},
   "source": [
    "##### 평균값으로 결측치 대체하기\n",
    "- fillna() 함수 이용"
   ]
  },
  {
   "cell_type": "code",
   "execution_count": 15,
   "metadata": {
    "ExecuteTime": {
     "end_time": "2025-10-14T00:47:25.057701Z",
     "start_time": "2025-10-14T00:47:25.050511Z"
    }
   },
   "outputs": [
    {
     "name": "stdout",
     "output_type": "stream",
     "text": [
      "   id  midterm  final\n",
      "0   1     60.0   70.0\n",
      "1   2     80.0   83.0\n",
      "2   3     70.0   65.0\n",
      "3   4     90.0   95.0\n",
      "4   5     85.0   80.0\n",
      "5   6      NaN   90.0\n",
      "6   7     75.0    NaN\n"
     ]
    }
   ],
   "source": [
    "print(test)"
   ]
  },
  {
   "cell_type": "code",
   "execution_count": 16,
   "metadata": {
    "ExecuteTime": {
     "end_time": "2025-10-14T00:47:25.117714Z",
     "start_time": "2025-10-14T00:47:25.112559Z"
    }
   },
   "outputs": [
    {
     "name": "stdout",
     "output_type": "stream",
     "text": [
      "76.66666666666667\n"
     ]
    }
   ],
   "source": [
    "# midterm 변수의 평균값 계산\n",
    "mid_mean = test['midterm'].mean() # mean(), sum() 등 수치 연산 함수는 결측치가 있으면 자동으로 제외하고 연산하는 기능이 있음\n",
    "print(mid_mean)"
   ]
  },
  {
   "cell_type": "code",
   "execution_count": 17,
   "metadata": {
    "ExecuteTime": {
     "end_time": "2025-10-14T00:47:25.199604Z",
     "start_time": "2025-10-14T00:47:25.192557Z"
    }
   },
   "outputs": [
    {
     "name": "stdout",
     "output_type": "stream",
     "text": [
      "   id  midterm  final\n",
      "0   1     60.0   70.0\n",
      "1   2     80.0   83.0\n",
      "2   3     70.0   65.0\n",
      "3   4     90.0   95.0\n",
      "4   5     85.0   80.0\n",
      "5   6     76.7   90.0\n",
      "6   7     75.0    NaN\n"
     ]
    }
   ],
   "source": [
    "# midterm 변수의 평균값인 76.7로 NaN 값을 대체\n",
    "test['midterm'] = test['midterm'].fillna(76.7) # midterm이 NaN이면 76.7로 대체\n",
    "\n",
    "print(test)"
   ]
  },
  {
   "cell_type": "code",
   "execution_count": 18,
   "metadata": {
    "ExecuteTime": {
     "end_time": "2025-10-14T00:47:25.279978Z",
     "start_time": "2025-10-14T00:47:25.274953Z"
    }
   },
   "outputs": [
    {
     "name": "stdout",
     "output_type": "stream",
     "text": [
      "0\n"
     ]
    }
   ],
   "source": [
    "print(test['midterm'].isna().sum()) # midterm 변수의 결측치 값의 개수가 0인 것을 확인할 수 있음"
   ]
  },
  {
   "cell_type": "code",
   "execution_count": 19,
   "metadata": {
    "ExecuteTime": {
     "end_time": "2025-10-14T00:47:25.334591Z",
     "start_time": "2025-10-14T00:47:25.327748Z"
    }
   },
   "outputs": [
    {
     "name": "stdout",
     "output_type": "stream",
     "text": [
      "80.5\n",
      "   id  midterm  final\n",
      "0   1     60.0   70.0\n",
      "1   2     80.0   83.0\n",
      "2   3     70.0   65.0\n",
      "3   4     90.0   95.0\n",
      "4   5     85.0   80.0\n",
      "5   6     76.7   90.0\n",
      "6   7     75.0   80.5\n"
     ]
    }
   ],
   "source": [
    "# final 변수의 결측치를 final 변수의 평균값으로 대체하기\n",
    "\n",
    "f_mean = test['final'].mean() \n",
    "print(f_mean)\n",
    "\n",
    "test['final'] = test['final'].fillna(f_mean)\n",
    "print(test)"
   ]
  },
  {
   "cell_type": "markdown",
   "metadata": {},
   "source": [
    "#### 연습문제\n",
    "- mpg 데이터에 결측치를 추가하여 결측치 확인과 제거 연습을 해보자.\n",
    "  - mpg 데이터는 미국 환경 보호국에서 공개한 데이터로 1999~2008년 미국에 출시된 자동차 234 종의 정보를 담고 있음\n"
   ]
  },
  {
   "cell_type": "code",
   "execution_count": 20,
   "metadata": {
    "ExecuteTime": {
     "end_time": "2025-10-14T00:47:25.389404Z",
     "start_time": "2025-10-14T00:47:25.379215Z"
    }
   },
   "outputs": [
    {
     "name": "stdout",
     "output_type": "stream",
     "text": [
      "  manufacturer model  displ  year  cyl       trans drv  cty  hwy fl category\n",
      "0         audi    a4    1.8  1999    4    auto(l5)   f   18   29  p  compact\n",
      "1         audi    a4    1.8  1999    4  manual(m5)   f   21   29  p  compact\n",
      "2         audi    a4    2.0  2008    4  manual(m6)   f   20   31  p  compact\n",
      "3         audi    a4    2.0  2008    4    auto(av)   f   21   30  p  compact\n",
      "4         audi    a4    2.8  1999    6    auto(l5)   f   16   26  p  compact\n"
     ]
    }
   ],
   "source": [
    "mpg = pd.read_csv('mpg.csv')\n",
    "\n",
    "print(mpg.head())"
   ]
  },
  {
   "cell_type": "code",
   "execution_count": 21,
   "metadata": {
    "ExecuteTime": {
     "end_time": "2025-10-14T00:47:25.450343Z",
     "start_time": "2025-10-14T00:47:25.446253Z"
    }
   },
   "outputs": [
    {
     "name": "stdout",
     "output_type": "stream",
     "text": [
      "manufacturer    0\n",
      "model           0\n",
      "displ           0\n",
      "year            0\n",
      "cyl             0\n",
      "trans           0\n",
      "drv             0\n",
      "cty             0\n",
      "hwy             0\n",
      "fl              0\n",
      "category        0\n",
      "dtype: int64\n"
     ]
    }
   ],
   "source": [
    "# mpg 데이터의 결측치 개수 확인\n",
    "print(mpg.isna().sum())"
   ]
  },
  {
   "cell_type": "code",
   "execution_count": 22,
   "metadata": {
    "ExecuteTime": {
     "end_time": "2025-10-14T00:47:25.517568Z",
     "start_time": "2025-10-14T00:47:25.512020Z"
    }
   },
   "outputs": [],
   "source": [
    "# 결측치 추가하기\n",
    "mpg.loc[[64, 123, 130, 152, 211], 'hwy'] = np.nan # mpg 데이터의 인덱스 64, 123, 130, 152, 211 행의 hwy 변수의 값을 NaN으로 변경"
   ]
  },
  {
   "cell_type": "code",
   "execution_count": 23,
   "metadata": {
    "ExecuteTime": {
     "end_time": "2025-10-14T00:47:25.543867Z",
     "start_time": "2025-10-14T00:47:25.535615Z"
    }
   },
   "outputs": [
    {
     "name": "stdout",
     "output_type": "stream",
     "text": [
      "    manufacturer                model  displ  year  cyl       trans drv  cty  \\\n",
      "64         dodge  ram 1500 pickup 4wd    4.7  2008    8  manual(m6)   4   12   \n",
      "123         jeep   grand cherokee 4wd    3.7  2008    6    auto(l5)   4   15   \n",
      "130   land rover          range rover    4.0  1999    8    auto(l4)   4   11   \n",
      "152       nissan       pathfinder 4wd    4.0  2008    6    auto(l5)   4   14   \n",
      "211   volkswagen                  gti    2.8  1999    6  manual(m5)   f   17   \n",
      "\n",
      "     hwy fl category  \n",
      "64   NaN  r   pickup  \n",
      "123  NaN  r      suv  \n",
      "130  NaN  p      suv  \n",
      "152  NaN  p      suv  \n",
      "211  NaN  r  compact  \n"
     ]
    }
   ],
   "source": [
    "print(mpg[mpg['hwy'].isna()])"
   ]
  },
  {
   "cell_type": "markdown",
   "metadata": {},
   "source": [
    "1. drv(구동 방식) 별로 hwy(고속도로 연비) 평균이 어떻게 다른지 알아보려고 합니다. 분석을 하기 전에 우선 두 변수에 결측치가 있는지 확인해야 합니다. drv 변수와 hwy 변수에 결측치가 몇 개 있는지 확인해보세요."
   ]
  },
  {
   "cell_type": "code",
   "execution_count": 34,
   "metadata": {
    "ExecuteTime": {
     "end_time": "2025-10-14T00:50:57.553574Z",
     "start_time": "2025-10-14T00:50:57.544970Z"
    }
   },
   "outputs": [
    {
     "name": "stdout",
     "output_type": "stream",
     "text": [
      "drv    0\n",
      "hwy    5\n",
      "dtype: int64\n"
     ]
    }
   ],
   "source": [
    "searchNan=mpg[['drv','hwy']].isna().sum()\n",
    "print(searchNan)"
   ]
  },
  {
   "cell_type": "markdown",
   "metadata": {},
   "source": [
    "2. dropna() 함수를 이용해 hwy 변수의 결측치를 제거하고, groupby() 함수와 agg() 함수를 이용하여 어떤 구동 방식(drv)이 고속도로 연비(hwy) 평균이 높은지 알아보세요."
   ]
  },
  {
   "cell_type": "code",
   "execution_count": 41,
   "metadata": {
    "ExecuteTime": {
     "end_time": "2025-10-14T01:15:39.130622Z",
     "start_time": "2025-10-14T01:15:39.118831Z"
    }
   },
   "outputs": [
    {
     "name": "stdout",
     "output_type": "stream",
     "text": [
      "       hwyMean\n",
      "drv           \n",
      "f    28.200000\n",
      "r    21.000000\n",
      "4    19.242424\n",
      "       hwyMean\n",
      "drv           \n",
      "4    19.242424\n",
      "f    28.200000\n",
      "r    21.000000\n"
     ]
    }
   ],
   "source": [
    "mpg_del_hwy=mpg.dropna(subset=['hwy'])\n",
    "mean_hwy=mpg_del_hwy.groupby('drv').agg(hwyMean=('hwy','mean')).sort_values('hwyMean',ascending=False)\n",
    "print(mean_hwy)\n",
    "# mean(), sum() 등의 함수는 결측치를 고려해서 계산하기 때문에 결측치를 제거하지 않아도 결과는 같다\n",
    "print(mpg.groupby('drv').agg(hwyMean=('hwy','mean')))"
   ]
  },
  {
   "cell_type": "markdown",
   "metadata": {},
   "source": [
    "#### 이상치 정제하기\n",
    "- 이상치 (anomaly): 정상 범위에서 크게 벗어난 값 혹은 논리적으로 존재할 수 없는 값\n",
    "- 이상치 정제 방법\n",
    "  - 이상치 확인\n",
    "  - 이상치를 결측 처리\n",
    "  - 결측치 제거 혹은 대체"
   ]
  },
  {
   "cell_type": "markdown",
   "metadata": {},
   "source": [
    "#### 이상치 제거하기 - 논리적으로 존재할 수 없는 값\n",
    "##### 존재할 수 없는 값이 존재하는 예제 데이터 만들기"
   ]
  },
  {
   "cell_type": "code",
   "execution_count": 24,
   "metadata": {
    "ExecuteTime": {
     "end_time": "2025-10-14T00:47:25.595497Z",
     "start_time": "2025-10-14T00:47:25.590279Z"
    }
   },
   "outputs": [
    {
     "name": "stdout",
     "output_type": "stream",
     "text": [
      "    id  midterm  final\n",
      "0    1       60     70\n",
      "1    2      -10     83\n",
      "2  300       70     65\n",
      "3    4       90     95\n",
      "4    5       85     80\n",
      "5    6     1000     90\n",
      "6    7       75   9000\n"
     ]
    }
   ],
   "source": [
    "# 예제 데이터 만들기\n",
    "import pandas as pd\n",
    "import numpy as np\n",
    "\n",
    "test = pd.DataFrame({'id'      : [1, 2, 300, 4, 5, 6, 7],\n",
    "                      'midterm' : [60, -10, 70, 90, 85, 1000, 75],\n",
    "                       'final' : [70, 83, 65, 95, 80, 90, 9000]})\n",
    "\n",
    "print(test)"
   ]
  },
  {
   "cell_type": "markdown",
   "metadata": {},
   "source": [
    "- 가정\n",
    "  - 학생 수가 10명이어서 id는 1부터 10까지만 존재한다.\n",
    "  - 점수는 100점 만점이고 0부터 100까지만 나올 수 있다."
   ]
  },
  {
   "cell_type": "markdown",
   "metadata": {},
   "source": [
    "##### 이상치 확인하기\n",
    "- df.value_counts() 함수를 이용해 빈도표를 만들어 확인"
   ]
  },
  {
   "cell_type": "code",
   "execution_count": 25,
   "metadata": {
    "ExecuteTime": {
     "end_time": "2025-10-14T00:47:25.636447Z",
     "start_time": "2025-10-14T00:47:25.630852Z"
    }
   },
   "outputs": [
    {
     "name": "stdout",
     "output_type": "stream",
     "text": [
      "id\n",
      "1      1\n",
      "2      1\n",
      "300    1\n",
      "4      1\n",
      "5      1\n",
      "6      1\n",
      "7      1\n",
      "Name: count, dtype: int64\n"
     ]
    }
   ],
   "source": [
    "print(test['id'].value_counts()) # id 열의 각 값의 개수를 계산"
   ]
  },
  {
   "cell_type": "code",
   "execution_count": 26,
   "metadata": {
    "ExecuteTime": {
     "end_time": "2025-10-14T00:47:25.679935Z",
     "start_time": "2025-10-14T00:47:25.673661Z"
    }
   },
   "outputs": [
    {
     "name": "stdout",
     "output_type": "stream",
     "text": [
      "id\n",
      "1      1\n",
      "2      1\n",
      "4      1\n",
      "5      1\n",
      "6      1\n",
      "7      1\n",
      "300    1\n",
      "Name: count, dtype: int64\n"
     ]
    }
   ],
   "source": [
    "print(test['id'].value_counts().sort_index()) # sort_index() 함수를 사용하면 인덱스 열을 기준으로 정렬"
   ]
  },
  {
   "cell_type": "code",
   "execution_count": 27,
   "metadata": {
    "ExecuteTime": {
     "end_time": "2025-10-14T00:47:25.723640Z",
     "start_time": "2025-10-14T00:47:25.717893Z"
    }
   },
   "outputs": [
    {
     "name": "stdout",
     "output_type": "stream",
     "text": [
      "midterm\n",
      "-10      1\n",
      " 60      1\n",
      " 70      1\n",
      " 75      1\n",
      " 85      1\n",
      " 90      1\n",
      " 1000    1\n",
      "Name: count, dtype: int64\n"
     ]
    }
   ],
   "source": [
    "print(test['midterm'].value_counts().sort_index()) # midterm 열의 각 값의 개수를 계산하고 midterm 값의 오름차순으로 정렬"
   ]
  },
  {
   "cell_type": "code",
   "execution_count": 28,
   "metadata": {
    "ExecuteTime": {
     "end_time": "2025-10-14T00:47:25.776377Z",
     "start_time": "2025-10-14T00:47:25.770700Z"
    }
   },
   "outputs": [
    {
     "name": "stdout",
     "output_type": "stream",
     "text": [
      "final\n",
      "65      1\n",
      "70      1\n",
      "80      1\n",
      "83      1\n",
      "90      1\n",
      "95      1\n",
      "9000    1\n",
      "Name: count, dtype: int64\n"
     ]
    }
   ],
   "source": [
    "print(test['final'].value_counts().sort_index()) # final 열의 각 값의 개수를 계산하고 final 값의 오름차순으로 정렬"
   ]
  },
  {
   "cell_type": "markdown",
   "metadata": {},
   "source": [
    "- 위의 결과에서 id에 존재할 수 없는 값인 300이 하나 존재하고, \n",
    "- midterm에 존재할 수 없는 -10, 1000이 하나씩 존재하고, \n",
    "- final에 존재할 수 없는 9000이 하나 존재함을 알 수 있음"
   ]
  },
  {
   "cell_type": "markdown",
   "metadata": {},
   "source": [
    "##### 결측 처리하기\n",
    "- 변수에 이상치가 들어 있음을 확인하면 이상치를 결측치로 바꿈\n",
    "- np.where() 함수를 이용하여 이상치일 경우 NaN을 값으로 할당"
   ]
  },
  {
   "cell_type": "code",
   "execution_count": 29,
   "metadata": {
    "ExecuteTime": {
     "end_time": "2025-10-14T00:47:25.826815Z",
     "start_time": "2025-10-14T00:47:25.821591Z"
    }
   },
   "outputs": [
    {
     "name": "stdout",
     "output_type": "stream",
     "text": [
      "    id  midterm  final\n",
      "0  1.0       60     70\n",
      "1  2.0      -10     83\n",
      "2  NaN       70     65\n",
      "3  4.0       90     95\n",
      "4  5.0       85     80\n",
      "5  6.0     1000     90\n",
      "6  7.0       75   9000\n"
     ]
    }
   ],
   "source": [
    "test['id'] = np.where(test['id'] == 300, np.nan, test['id']) # id 값이 300이면 nan으로 값을 할당하고 그렇지 않으면 원래 id 값을 할당\n",
    "print(test)"
   ]
  },
  {
   "cell_type": "code",
   "execution_count": 30,
   "metadata": {
    "ExecuteTime": {
     "end_time": "2025-10-14T00:47:25.864653Z",
     "start_time": "2025-10-14T00:47:25.857030Z"
    }
   },
   "outputs": [
    {
     "name": "stdout",
     "output_type": "stream",
     "text": [
      "    id  midterm  final\n",
      "0  1.0     60.0   70.0\n",
      "1  2.0      NaN   83.0\n",
      "2  NaN     70.0   65.0\n",
      "3  4.0     90.0   95.0\n",
      "4  5.0     85.0   80.0\n",
      "5  6.0      NaN   90.0\n",
      "6  7.0     75.0    NaN\n"
     ]
    }
   ],
   "source": [
    "# midterm 값이 100보다 크거나 0보다 작으면 nan 값으로 할당, 그렇지 않으면 원래 값을 할당\n",
    "test['midterm'] = np.where(test['midterm'] > 100, np.nan, test['midterm'])\n",
    "test['midterm'] = np.where(test['midterm'] < 0, np.nan, test['midterm'])\n",
    "\n",
    "# final 값이 100보다 크면 nan 값으로 할당, 그렇지 않으면 원래 값을 할당\n",
    "test['final'] = np.where(test['final'] > 100, np.nan, test['final'])\n",
    "\n",
    "print(test)"
   ]
  },
  {
   "cell_type": "markdown",
   "metadata": {},
   "source": [
    "- df.dropna() 함수를 이용하여 결측치를 제거"
   ]
  },
  {
   "cell_type": "code",
   "execution_count": 31,
   "metadata": {
    "ExecuteTime": {
     "end_time": "2025-10-14T00:47:25.943397Z",
     "start_time": "2025-10-14T00:47:25.937765Z"
    }
   },
   "outputs": [
    {
     "name": "stdout",
     "output_type": "stream",
     "text": [
      "    id  midterm  final\n",
      "0  1.0     60.0   70.0\n",
      "3  4.0     90.0   95.0\n",
      "4  5.0     85.0   80.0\n"
     ]
    }
   ],
   "source": [
    "clean_test = test.dropna() # 결측치가 하나라도 있는 행은 삭제\n",
    "\n",
    "print(clean_test)"
   ]
  },
  {
   "cell_type": "markdown",
   "metadata": {},
   "source": [
    "##### __참고__\n",
    "- np.where() 함수는 문자열 값과 NaN을 동시에 반환할 수 없음"
   ]
  },
  {
   "cell_type": "code",
   "execution_count": 43,
   "metadata": {
    "ExecuteTime": {
     "end_time": "2025-10-14T01:33:33.208575Z",
     "start_time": "2025-10-14T01:33:33.201934Z"
    }
   },
   "outputs": [
    {
     "name": "stdout",
     "output_type": "stream",
     "text": [
      "   x1\n",
      "0   1\n",
      "1   1\n",
      "2   2\n",
      "3   2\n"
     ]
    }
   ],
   "source": [
    "df = pd.DataFrame({'x1': [1, 1, 2, 2]}) # 변수 x1에 4개 값이 할당된 데이터 프레임 생성\n",
    "print(df)"
   ]
  },
  {
   "cell_type": "code",
   "execution_count": 44,
   "metadata": {
    "ExecuteTime": {
     "end_time": "2025-10-14T01:33:34.308139Z",
     "start_time": "2025-10-14T01:33:34.287163Z"
    }
   },
   "outputs": [
    {
     "ename": "DTypePromotionError",
     "evalue": "The DType <class 'numpy.dtypes.StrDType'> could not be promoted by <class 'numpy.dtypes._PyFloatDType'>. This means that no common DType exists for the given inputs. For example they cannot be stored in a single array unless the dtype is `object`. The full list of DTypes is: (<class 'numpy.dtypes.StrDType'>, <class 'numpy.dtypes._PyFloatDType'>)",
     "output_type": "error",
     "traceback": [
      "\u001b[31m---------------------------------------------------------------------------\u001b[39m",
      "\u001b[31mDTypePromotionError\u001b[39m                       Traceback (most recent call last)",
      "\u001b[36mCell\u001b[39m\u001b[36m \u001b[39m\u001b[32mIn[44]\u001b[39m\u001b[32m, line 2\u001b[39m\n\u001b[32m      1\u001b[39m \u001b[38;5;66;03m# 위 데이터 프레임에 x2 변수를 추가하는데, 그 값으로는 x1 값이 1이면 문자열 'a'를 할당하고 그렇지 않으면 NaN 할당\u001b[39;00m\n\u001b[32m----> \u001b[39m\u001b[32m2\u001b[39m df[\u001b[33m'\u001b[39m\u001b[33mx2\u001b[39m\u001b[33m'\u001b[39m] = \u001b[43mnp\u001b[49m\u001b[43m.\u001b[49m\u001b[43mwhere\u001b[49m\u001b[43m(\u001b[49m\u001b[43mdf\u001b[49m\u001b[43m[\u001b[49m\u001b[33;43m'\u001b[39;49m\u001b[33;43mx1\u001b[39;49m\u001b[33;43m'\u001b[39;49m\u001b[43m]\u001b[49m\u001b[43m \u001b[49m\u001b[43m==\u001b[49m\u001b[43m \u001b[49m\u001b[32;43m1\u001b[39;49m\u001b[43m,\u001b[49m\u001b[43m \u001b[49m\u001b[33;43m'\u001b[39;49m\u001b[33;43ma\u001b[39;49m\u001b[33;43m'\u001b[39;49m\u001b[43m,\u001b[49m\u001b[43m \u001b[49m\u001b[43mnp\u001b[49m\u001b[43m.\u001b[49m\u001b[43mnan\u001b[49m\u001b[43m)\u001b[49m \n\u001b[32m      3\u001b[39m \u001b[38;5;28mprint\u001b[39m(df)\n",
      "\u001b[31mDTypePromotionError\u001b[39m: The DType <class 'numpy.dtypes.StrDType'> could not be promoted by <class 'numpy.dtypes._PyFloatDType'>. This means that no common DType exists for the given inputs. For example they cannot be stored in a single array unless the dtype is `object`. The full list of DTypes is: (<class 'numpy.dtypes.StrDType'>, <class 'numpy.dtypes._PyFloatDType'>)"
     ]
    }
   ],
   "source": [
    "# 위 데이터 프레임에 x2 변수를 추가하는데, 그 값으로는 x1 값이 1이면 문자열 'a'를 할당하고 그렇지 않으면 NaN 할당\n",
    "df['x2'] = np.where(df['x1'] == 1, 'a', np.nan) \n",
    "print(df)"
   ]
  },
  {
   "cell_type": "code",
   "execution_count": 41,
   "metadata": {},
   "outputs": [
    {
     "name": "stdout",
     "output_type": "stream",
     "text": [
      "      x1     x2\n",
      "0  False  False\n",
      "1  False  False\n",
      "2  False  False\n",
      "3  False  False\n"
     ]
    }
   ],
   "source": [
    "print(df.isna()) # isna() 함수 결과 모두 False로 결측치가 없는 것으로 나옴. 그 이유는 np.nan을 할당했지만 문자열 'nan'이 할당되어서 그러함"
   ]
  },
  {
   "cell_type": "markdown",
   "metadata": {},
   "source": [
    "- 위와 같은 문제를 해결하는 방법\n",
    "  - np.where() 함수를 결측치로 만들 값을 우선 문자열 값으로 부여\n",
    "  - df.replace() 함수를 이용해 결측치로 만들 문자열 값을 np.nan으로 바꿈"
   ]
  },
  {
   "cell_type": "code",
   "execution_count": 42,
   "metadata": {},
   "outputs": [
    {
     "name": "stdout",
     "output_type": "stream",
     "text": [
      "   x1   x2\n",
      "0   1    a\n",
      "1   1    a\n",
      "2   2  NaN\n",
      "3   2  NaN\n"
     ]
    }
   ],
   "source": [
    "df['x2'] =np.where(df['x1'] == 1, 'a', 'etc') # x1 값이 1이면 'a', 그렇지 않으면 'etc'로 x2 변수에 할당\n",
    "\n",
    "df['x2'] = df['x2'].replace('etc', np.nan) # 'etc' 값을 np.nan으로 대체\n",
    "\n",
    "print(df)"
   ]
  },
  {
   "cell_type": "code",
   "execution_count": 43,
   "metadata": {},
   "outputs": [
    {
     "name": "stdout",
     "output_type": "stream",
     "text": [
      "      x1     x2\n",
      "0  False  False\n",
      "1  False  False\n",
      "2  False   True\n",
      "3  False   True\n"
     ]
    }
   ],
   "source": [
    "print(df.isna()) # x2에서 NaN 해당하는 값이 True로 나오는 것을 확인할 수 있음"
   ]
  },
  {
   "cell_type": "markdown",
   "metadata": {},
   "source": [
    "#### 이상치 제거하기 - 극단적인 값\n",
    "- 논리적으로 존재할 수 있지만 극단적으로 크거나 작은 값을 극단치(outlier)라고 함\n",
    "  - 예를 들어, 몸무게 변수에 200kg 이상의 값이 있다면, 존재할 가능성은 있지만 매우 드문 경우이므로 극단치라고 볼 수 있음\n",
    "  - 데이터에 극단치가 있으면 분석 결과가 왜곡될 수 있으므로 분석하기 전에 제거\n",
    "- 극단치를 제거하려면 먼저 어디까지를 정상 범위로 볼 것인지 정해야 함\n",
    "  - 쉬운 방법은 논리적으로 판단해 정하는 것. 예를 들어 성인의 몸무게가 40~150kg을 벗어나는 경우는 매우 드물다고 판단하고 이 범위를 벗어나면 극단치로 간주\n",
    "  - 두번째 방법은 통계적인 기준을 이용하는 것. 예를 들어 상하위 0.3% 또는 +3 혹은 -3 표준편차에 해당할 만큼 극단적으로 크거나 작으면 극단치로 간주"
   ]
  },
  {
   "cell_type": "markdown",
   "metadata": {},
   "source": [
    "##### 상자 그림(box plot)으로 극단치 기준 정하기\n",
    "- 상자 그림: 데이터의 분포를 직사각형의 상자 모양으로 표현한 그래프\n",
    "  - 상자 그림을 보면 데이터의 분포를 한눈에 파악하기 쉬움\n",
    "  - 상자 그림은 중심에서 멀리 떨어진 값을 점으로 표현하는데, 이를 이용해 극단치의 기준을 정할 수 있음"
   ]
  },
  {
   "cell_type": "markdown",
   "metadata": {},
   "source": [
    "![상자 그림](https://www.researchgate.net/publication/368829929/figure/fig3/AS:11431281122615330@1677468002568/Box-plot-and-probability-density-function-of-a-normal-distribution_W640.jpg)"
   ]
  },
  {
   "cell_type": "markdown",
   "metadata": {},
   "source": [
    "##### 1. 상자 그림 살펴보기\n",
    "- mpg 데이터의 hwy 변수로 상자 그림 생성"
   ]
  },
  {
   "cell_type": "code",
   "execution_count": 44,
   "metadata": {},
   "outputs": [
    {
     "data": {
      "text/plain": [
       "<Axes: ylabel='hwy'>"
      ]
     },
     "execution_count": 44,
     "metadata": {},
     "output_type": "execute_result"
    },
    {
     "data": {
      "image/png": "[encoded data removed]",
      "text/plain": [
       "<Figure size 640x480 with 1 Axes>"
      ]
     },
     "metadata": {},
     "output_type": "display_data"
    }
   ],
   "source": [
    "mpg = pd.read_csv('mpg.csv')\n",
    "\n",
    "import seaborn as sns # seaborn 패키지를 이용하여 시각화하는 것을 추후 수업에서 다룰 것임\n",
    "sns.boxplot(data = mpg, y = 'hwy')\n"
   ]
  },
  {
   "cell_type": "markdown",
   "metadata": {},
   "source": [
    "- 상자 아래 세로선 (아랫수염)\n",
    "  - 하위 0~25% 내에 해당하는 값\n",
    "- 상자 밑면 (1사분위수: Q1)\n",
    "  - 하위 25% 위치 값\n",
    "- 상자 내 굵은 선 (2사분위수: Q2)\n",
    "  - 하위 50% 위치 값 (중앙값)\n",
    "- 상자 윗면 (3사분위수: Q3)\n",
    "  - 하위 75% 위치 값\n",
    "- 상자 위 세로선 (윗수염)\n",
    "  - 하위 75~100% 내에 해당하는 값\n",
    "- 상자 밖 가로선 (극단치 경계)\n",
    "  - Q1, Q3 밖 1.5 IQR 내 최대값\n",
    "  - IQR (Inter-Quartile Range): 1사분위수와 3사분위수의 거리\n",
    "- 상자 밖 점 표식 (극단치)\n",
    "  - Q1, Q3 밖 1.5 IQR을 벗어난 값"
   ]
  },
  {
   "cell_type": "markdown",
   "metadata": {},
   "source": [
    "##### 2. 극단치 기준값 구하기\n",
    "- 1사분위수, 3사분위수 구하기\n",
    "  - df.quantile() 함수 이용"
   ]
  },
  {
   "cell_type": "code",
   "execution_count": 45,
   "metadata": {},
   "outputs": [
    {
     "name": "stdout",
     "output_type": "stream",
     "text": [
      "18.0\n"
     ]
    }
   ],
   "source": [
    "pct25 = mpg['hwy'].quantile(0.25) # 1사분위수\n",
    "print(pct25)"
   ]
  },
  {
   "cell_type": "code",
   "execution_count": 46,
   "metadata": {},
   "outputs": [
    {
     "name": "stdout",
     "output_type": "stream",
     "text": [
      "27.0\n"
     ]
    }
   ],
   "source": [
    "pct75 = mpg['hwy'].quantile(0.75) # 3사분위수\n",
    "print(pct75)"
   ]
  },
  {
   "cell_type": "markdown",
   "metadata": {},
   "source": [
    "- IQR 구하기"
   ]
  },
  {
   "cell_type": "code",
   "execution_count": 47,
   "metadata": {},
   "outputs": [
    {
     "name": "stdout",
     "output_type": "stream",
     "text": [
      "9.0\n"
     ]
    }
   ],
   "source": [
    "iqr = pct75 - pct25\n",
    "print(iqr)"
   ]
  },
  {
   "cell_type": "markdown",
   "metadata": {},
   "source": [
    "- 하한, 상한 구하기\n",
    "  - 하한: 1사분위수보다 IQR의 1.5배만큼 더 작은 값\n",
    "  - 상한: 3사분위수보다 IQR의 1.5배만큼 더 큰 값"
   ]
  },
  {
   "cell_type": "code",
   "execution_count": 48,
   "metadata": {},
   "outputs": [
    {
     "name": "stdout",
     "output_type": "stream",
     "text": [
      "4.5\n"
     ]
    }
   ],
   "source": [
    "low_limit = pct25 - 1.5 * iqr # 하한\n",
    "\n",
    "print(low_limit)"
   ]
  },
  {
   "cell_type": "code",
   "execution_count": 49,
   "metadata": {},
   "outputs": [
    {
     "name": "stdout",
     "output_type": "stream",
     "text": [
      "40.5\n"
     ]
    }
   ],
   "source": [
    "up_limit = pct75 + 1.5 * iqr # 상한\n",
    "\n",
    "print(up_limit)"
   ]
  },
  {
   "cell_type": "markdown",
   "metadata": {},
   "source": [
    "##### 3. 극단치를 결측 처리하기"
   ]
  },
  {
   "cell_type": "code",
   "execution_count": 50,
   "metadata": {},
   "outputs": [
    {
     "name": "stdout",
     "output_type": "stream",
     "text": [
      "3\n"
     ]
    }
   ],
   "source": [
    "# hwy 컬럼 값이 하한 4.5보다 작거나, 상한 40.5보다 크면 NaN 할당, 그렇지 않으면 원래 값 할당\n",
    "mpg['hwy'] = np.where((mpg['hwy'] < 4.5) | (mpg['hwy'] > 40.5), np.nan, mpg['hwy'])\n",
    "\n",
    "# 결측치 빈도 확인\n",
    "print(mpg['hwy'].isna().sum())"
   ]
  },
  {
   "cell_type": "markdown",
   "metadata": {},
   "source": [
    "##### 4. 결측치 제거하고 분석하기"
   ]
  },
  {
   "cell_type": "code",
   "execution_count": 51,
   "metadata": {},
   "outputs": [
    {
     "name": "stdout",
     "output_type": "stream",
     "text": [
      "      mean_hwy\n",
      "drv           \n",
      "4    19.174757\n",
      "f    27.728155\n",
      "r    21.000000\n"
     ]
    }
   ],
   "source": [
    "# 결측치 제거\n",
    "# drv 별 분리\n",
    "# hwy 평균 구하기\n",
    "d = mpg.dropna(subset = ['hwy']) \\\n",
    "    .groupby('drv') \\\n",
    "    .agg(mean_hwy = ('hwy', 'mean'))  \n",
    "\n",
    "print(d)"
   ]
  },
  {
   "cell_type": "code",
   "execution_count": 52,
   "metadata": {},
   "outputs": [
    {
     "name": "stdout",
     "output_type": "stream",
     "text": [
      "      mean_hwy\n",
      "drv           \n",
      "4    19.174757\n",
      "f    28.160377\n",
      "r    21.000000\n"
     ]
    }
   ],
   "source": [
    "# 결측치 제거 전 원 데이터의 경우 분석 결과 \n",
    "mpg = pd.read_csv('mpg.csv')\n",
    "d2 = mpg.groupby('drv') \\\n",
    "        .agg(mean_hwy = ('hwy', 'mean')) \n",
    "\n",
    "print(d2)"
   ]
  },
  {
   "cell_type": "markdown",
   "metadata": {},
   "source": [
    "#### 연습문제\n",
    "- mpg 데이터에 이상치를 추가하여 연습을 해보자.\n",
    "  - drv(구동 방식) 변수의 값은 4(사륜구동), f(전륜구동), r(후륜구동) 세 종류임\n",
    "  - 몇 개의 행에 존재할 수 없는 값 k를 할당하고 cty(도시 연비) 변수도 몇 개의 행에 극단적으로 크거나 작은 값을 할당하여 이상치 생성"
   ]
  },
  {
   "cell_type": "code",
   "execution_count": 53,
   "metadata": {},
   "outputs": [
    {
     "name": "stdout",
     "output_type": "stream",
     "text": [
      "            displ         year         cyl         cty         hwy\n",
      "count  234.000000   234.000000  234.000000  234.000000  234.000000\n",
      "mean     3.471795  2003.500000    5.888889   16.858974   23.440171\n",
      "std      1.291959     4.509646    1.611534    4.255946    5.954643\n",
      "min      1.600000  1999.000000    4.000000    9.000000   12.000000\n",
      "25%      2.400000  1999.000000    4.000000   14.000000   18.000000\n",
      "50%      3.300000  2003.500000    6.000000   17.000000   24.000000\n",
      "75%      4.600000  2008.000000    8.000000   19.000000   27.000000\n",
      "max      7.000000  2008.000000    8.000000   35.000000   44.000000\n"
     ]
    }
   ],
   "source": [
    "mpg = pd.read_csv('mpg.csv')\n",
    "\n",
    "print(mpg.describe())"
   ]
  },
  {
   "cell_type": "code",
   "execution_count": 54,
   "metadata": {},
   "outputs": [
    {
     "name": "stdout",
     "output_type": "stream",
     "text": [
      "   drv\n",
      "5    f\n",
      "6    f\n",
      "7    4\n",
      "8    4\n",
      "9    k\n",
      "10   4\n",
      "11   4\n",
      "12   4\n",
      "13   k\n",
      "14   4\n",
      "15   4\n"
     ]
    }
   ],
   "source": [
    "mpg.loc[[9, 13, 57, 92], 'drv'] = 'k' # 데이터의 9, 13, 57, 92 인덱스 행의 drv 변수 값을 'k'로 할당\n",
    "mpg.loc[[28, 42, 128, 202], 'cty'] = [3, 4, 39, 42] # 데이터의 28, 42, 128, 202 인덱스 행의 cty 변수 값을 3, 4, 39, 42로 할당\n",
    "\n",
    "print(mpg.loc[5:15, ['drv']])"
   ]
  },
  {
   "cell_type": "markdown",
   "metadata": {},
   "source": [
    "##### 1. drv에 이상치가 있는 확인하시오. 이상치를 결측 처리한 다음 이상치가 사라졌는지 확인하시오."
   ]
  },
  {
   "cell_type": "markdown",
   "metadata": {},
   "source": [
    "##### 2. 상자 그림을 이용해 cty에 이상치가 있는지 확인하시오. 상자 그림 기준으로 정상 범위를 벗어난 값을 결측 처리한 다음 다시 상자 그림을 만들어 이상치가 사라졌는지 확인하시오."
   ]
  },
  {
   "cell_type": "markdown",
   "metadata": {},
   "source": [
    "##### 3. 두 변수의 이상치가 결측 처리되었으면, 결측치를 제거한 다음 drv 별로 cty 평균이 어떻게 나오는지 확인하시오. "
   ]
  },
  {
   "cell_type": "code",
   "execution_count": null,
   "metadata": {},
   "outputs": [],
   "source": []
  }
 ],
 "metadata": {
  "kernelspec": {
   "display_name": "Python [conda env:base] *",
   "language": "python",
   "name": "conda-base-py"
  },
  "language_info": {
   "codemirror_mode": {
    "name": "ipython",
    "version": 3
   },
   "file_extension": ".py",
   "mimetype": "text/x-python",
   "name": "python",
   "nbconvert_exporter": "python",
   "pygments_lexer": "ipython3",
   "version": "3.13.5"
  }
 },
 "nbformat": 4,
 "nbformat_minor": 4
}
