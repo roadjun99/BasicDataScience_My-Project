{
 "cells": [
  {
   "cell_type": "markdown",
   "metadata": {},
   "source": [
    "## 기초데이터과학 (01분반) \n",
    "\n",
    "## Programming assignment 05"
   ]
  },
  {
   "cell_type": "markdown",
   "metadata": {},
   "source": [
    "### 1. 타이타닉 승객 정보 데이터로 아래 문제에 맞게 코드를 작성하세요."
   ]
  },
  {
   "cell_type": "code",
   "metadata": {
    "ExecuteTime": {
     "end_time": "2025-10-20T01:26:11.665960Z",
     "start_time": "2025-10-20T01:26:11.362016Z"
    }
   },
   "source": [
    "import pandas as pd\n",
    "\n",
    "# 주어진 데이터 생성\n",
    "df = pd.read_csv('https://raw.githubusercontent.com/datasciencedojo/datasets/master/titanic.csv')"
   ],
   "outputs": [],
   "execution_count": 1
  },
  {
   "cell_type": "markdown",
   "metadata": {},
   "source": [
    "#### 1-1. 타이타닉 데이터의 각 열의 정보를 출력하여 어떤 열에 결측치가 있는지 확인하세요."
   ]
  },
  {
   "cell_type": "code",
   "metadata": {
    "ExecuteTime": {
     "end_time": "2025-10-20T01:26:11.701929Z",
     "start_time": "2025-10-20T01:26:11.692644Z"
    }
   },
   "source": [
    "df_copy=df.copy()\n",
    "# 출력\n",
    "print(df_copy.info())"
   ],
   "outputs": [
    {
     "name": "stdout",
     "output_type": "stream",
     "text": [
      "<class 'pandas.core.frame.DataFrame'>\n",
      "RangeIndex: 891 entries, 0 to 890\n",
      "Data columns (total 12 columns):\n",
      " #   Column       Non-Null Count  Dtype  \n",
      "---  ------       --------------  -----  \n",
      " 0   PassengerId  891 non-null    int64  \n",
      " 1   Survived     891 non-null    int64  \n",
      " 2   Pclass       891 non-null    int64  \n",
      " 3   Name         891 non-null    object \n",
      " 4   Sex          891 non-null    object \n",
      " 5   Age          714 non-null    float64\n",
      " 6   SibSp        891 non-null    int64  \n",
      " 7   Parch        891 non-null    int64  \n",
      " 8   Ticket       891 non-null    object \n",
      " 9   Fare         891 non-null    float64\n",
      " 10  Cabin        204 non-null    object \n",
      " 11  Embarked     889 non-null    object \n",
      "dtypes: float64(2), int64(5), object(5)\n",
      "memory usage: 83.7+ KB\n",
      "None\n"
     ]
    }
   ],
   "execution_count": 2
  },
  {
   "cell_type": "markdown",
   "metadata": {},
   "source": [
    "#### 1-2. 나이('Age'), 객실 번호('Cabin'), 탑승 항구('Embarked') 열의 결측치 개수를 확인하세요."
   ]
  },
  {
   "cell_type": "code",
   "metadata": {
    "ExecuteTime": {
     "end_time": "2025-10-20T01:26:11.720726Z",
     "start_time": "2025-10-20T01:26:11.716008Z"
    }
   },
   "source": [
    "# 나이 결측치 개수 출력\n",
    "age_count=df_copy['Age'].isna().sum()\n",
    "print(\"나이 결측치 개수: \",age_count)\n",
    "\n",
    "# 객실 번호 결측치 개수 출력\n",
    "Cabin_count=df_copy['Cabin'].isna().sum()\n",
    "print(\"객실 번호 결측치 개수: \",Cabin_count)\n",
    "\n",
    "# 탑승 항구 결측치 개수 출력\n",
    "Embarkded_count=df_copy['Embarked'].isna().sum()\n",
    "print(\"탑승 항구 결측치 개수: \",Embarkded_count)\n"
   ],
   "outputs": [
    {
     "name": "stdout",
     "output_type": "stream",
     "text": [
      "나이 결측치 개수:  177\n",
      "객실 번호 결측치 개수:  687\n",
      "탑승 항구 결측치 개수:  2\n"
     ]
    }
   ],
   "execution_count": 3
  },
  {
   "cell_type": "markdown",
   "metadata": {},
   "source": [
    "#### 1-3. 'Age' 열에 결측치가 있는 행을 제거하세요."
   ]
  },
  {
   "cell_type": "code",
   "metadata": {
    "ExecuteTime": {
     "end_time": "2025-10-20T01:26:11.747357Z",
     "start_time": "2025-10-20T01:26:11.738374Z"
    }
   },
   "source": [
    "# Age 열의 데이터 수 출력 Age 열의 데이터 수 출력\n",
    "total_Age_count=df_copy['Age'].count() + df_copy['Age'].isna().sum()\n",
    "print(\"나이 데이터 수: \",total_Age_count)\n",
    "\n",
    "# 'Age' 열에 결측치가 있는 행을 제거하여 새로운 dataframe으로 저장\n",
    "Age_removed=df_copy.dropna(subset=['Age'])\n",
    "\n",
    "# dataframe 'Age' 열 출력\n",
    "print(Age_removed['Age'])\n"
   ],
   "outputs": [
    {
     "name": "stdout",
     "output_type": "stream",
     "text": [
      "나이 데이터 수:  891\n",
      "0      22.0\n",
      "1      38.0\n",
      "2      26.0\n",
      "3      35.0\n",
      "4      35.0\n",
      "       ... \n",
      "885    39.0\n",
      "886    27.0\n",
      "887    19.0\n",
      "889    26.0\n",
      "890    32.0\n",
      "Name: Age, Length: 714, dtype: float64\n"
     ]
    }
   ],
   "execution_count": 4
  },
  {
   "cell_type": "markdown",
   "metadata": {},
   "source": [
    "#### 1-4. 나이('Age'), 객실 번호('Cabin'), 탑승 항구('Embarked') 열에 결측치가 있는 행을 제거하세요."
   ]
  },
  {
   "cell_type": "code",
   "metadata": {
    "ExecuteTime": {
     "end_time": "2025-10-20T01:26:11.770088Z",
     "start_time": "2025-10-20T01:26:11.759929Z"
    }
   },
   "source": [
    "# 'Cabin', 'Embarked' 열에 결측치가 있는 행을 제거하여 새로운 dataframe으로 저장\n",
    "Cabin_Embarked_removed=Age_removed.dropna(subset=['Cabin','Embarked'])\n",
    "\n",
    "# 결측치가 제거된 dataframe의 정보 출력\n",
    "print(Cabin_Embarked_removed.info())\n"
   ],
   "outputs": [
    {
     "name": "stdout",
     "output_type": "stream",
     "text": [
      "<class 'pandas.core.frame.DataFrame'>\n",
      "Index: 183 entries, 1 to 889\n",
      "Data columns (total 12 columns):\n",
      " #   Column       Non-Null Count  Dtype  \n",
      "---  ------       --------------  -----  \n",
      " 0   PassengerId  183 non-null    int64  \n",
      " 1   Survived     183 non-null    int64  \n",
      " 2   Pclass       183 non-null    int64  \n",
      " 3   Name         183 non-null    object \n",
      " 4   Sex          183 non-null    object \n",
      " 5   Age          183 non-null    float64\n",
      " 6   SibSp        183 non-null    int64  \n",
      " 7   Parch        183 non-null    int64  \n",
      " 8   Ticket       183 non-null    object \n",
      " 9   Fare         183 non-null    float64\n",
      " 10  Cabin        183 non-null    object \n",
      " 11  Embarked     183 non-null    object \n",
      "dtypes: float64(2), int64(5), object(5)\n",
      "memory usage: 18.6+ KB\n",
      "None\n"
     ]
    }
   ],
   "execution_count": 5
  },
  {
   "cell_type": "markdown",
   "metadata": {},
   "source": [
    "### 2. 타이타닉 승객 정보 데이터로 아래 문제에 맞게 코드를 작성하세요."
   ]
  },
  {
   "cell_type": "markdown",
   "metadata": {},
   "source": [
    "#### 2-1. 'Age' 열의 결측치를 0으로 대체하세요."
   ]
  },
  {
   "cell_type": "code",
   "metadata": {
    "ExecuteTime": {
     "end_time": "2025-10-20T01:26:11.843431Z",
     "start_time": "2025-10-20T01:26:11.791696Z"
    }
   },
   "source": [
    "df = pd.read_csv('https://raw.githubusercontent.com/datasciencedojo/datasets/master/titanic.csv')\n",
    "\n",
    "# df를 복사하여 새로운 dataframe으로 저장\n",
    "df_copy2=df.copy()\n",
    "\n",
    "# 복사한 dataframe의 'Age'열 결측치를 0으로 대체\n",
    "df_copy2['Age']=df_copy2['Age'].fillna(0)\n",
    "\n",
    "# dataframe 'Age' 열 출력\n",
    "print(df_copy2['Age'])"
   ],
   "outputs": [
    {
     "name": "stdout",
     "output_type": "stream",
     "text": [
      "0      22.0\n",
      "1      38.0\n",
      "2      26.0\n",
      "3      35.0\n",
      "4      35.0\n",
      "       ... \n",
      "886    27.0\n",
      "887    19.0\n",
      "888     0.0\n",
      "889    26.0\n",
      "890    32.0\n",
      "Name: Age, Length: 891, dtype: float64\n"
     ]
    }
   ],
   "execution_count": 6
  },
  {
   "cell_type": "markdown",
   "metadata": {},
   "source": [
    "#### 2-2. 'Age' 열의 결측치를 이전 행의 값으로 채우세요."
   ]
  },
  {
   "cell_type": "code",
   "metadata": {
    "ExecuteTime": {
     "end_time": "2025-10-20T01:26:11.900420Z",
     "start_time": "2025-10-20T01:26:11.850435Z"
    }
   },
   "source": [
    "df = pd.read_csv('https://raw.githubusercontent.com/datasciencedojo/datasets/master/titanic.csv')\n",
    "\n",
    "# df를 복사하여 새로운 dataframe으로 저장\n",
    "df_copy2_2=df.copy()\n",
    "\n",
    "# 복사한 dataframe의 'Age'열 결측치를 이전 행의 값으로 대체\n",
    "# 이때 pandas.DataFrame.ffill 함수 활용. ffill() 기본값은 이전 행의 값으로 대체하는 것.\n",
    "df_copy2_2['Age']=df_copy2_2['Age'].ffill()\n",
    "\n",
    "# dataframe 'Age' 열 출력\n",
    "print(df_copy2_2['Age'])"
   ],
   "outputs": [
    {
     "name": "stdout",
     "output_type": "stream",
     "text": [
      "0      22.0\n",
      "1      38.0\n",
      "2      26.0\n",
      "3      35.0\n",
      "4      35.0\n",
      "       ... \n",
      "886    27.0\n",
      "887    19.0\n",
      "888    19.0\n",
      "889    26.0\n",
      "890    32.0\n",
      "Name: Age, Length: 891, dtype: float64\n"
     ]
    }
   ],
   "execution_count": 7
  },
  {
   "cell_type": "markdown",
   "metadata": {},
   "source": [
    "#### 2-3. 'Age' 열의 결측치를 평균값으로 대체하세요."
   ]
  },
  {
   "cell_type": "code",
   "metadata": {
    "ExecuteTime": {
     "end_time": "2025-10-20T01:26:11.954458Z",
     "start_time": "2025-10-20T01:26:11.908627Z"
    }
   },
   "source": [
    "df = pd.read_csv('https://raw.githubusercontent.com/datasciencedojo/datasets/master/titanic.csv')\n",
    "\n",
    "# df를 복사하여 새로운 dataframe으로 저장\n",
    "df_copy2_3=df.copy()\n",
    "\n",
    "# 복사한 dataframe의 'Age'열 결측치를 'Age' 열의 평균값으로 대체\n",
    "df_copy2_3['Age']=df_copy2_3['Age'].fillna(df_copy2_3['Age'].mean())\n",
    "\n",
    "# dataframe 'Age' 열 출력\n",
    "print(df_copy2_3['Age'])"
   ],
   "outputs": [
    {
     "name": "stdout",
     "output_type": "stream",
     "text": [
      "0      22.000000\n",
      "1      38.000000\n",
      "2      26.000000\n",
      "3      35.000000\n",
      "4      35.000000\n",
      "         ...    \n",
      "886    27.000000\n",
      "887    19.000000\n",
      "888    29.699118\n",
      "889    26.000000\n",
      "890    32.000000\n",
      "Name: Age, Length: 891, dtype: float64\n"
     ]
    }
   ],
   "execution_count": 8
  },
  {
   "cell_type": "markdown",
   "metadata": {},
   "source": [
    "#### 2-4. 'Age' 열의 결측치를 선형 보간법으로 채우세요."
   ]
  },
  {
   "cell_type": "code",
   "metadata": {
    "ExecuteTime": {
     "end_time": "2025-10-20T01:26:12.014486Z",
     "start_time": "2025-10-20T01:26:11.961238Z"
    }
   },
   "source": [
    "df = pd.read_csv('https://raw.githubusercontent.com/datasciencedojo/datasets/master/titanic.csv')\n",
    "\n",
    "# df를 복사하여 새로운 dataframe으로 저장\n",
    "df_copy2_4=df.copy()\n",
    "\n",
    "# 복사한 dataframe의 'Age'열 결측치를 선형 보간법으로 대체\n",
    "# DataFrame.interpolate() 함수 활용. interpolate() 함수는 기본이 선형 보간법이고 그 외 다른 보간법을 사용하려면 () 안에 method=~~ 쓰면 됨\n",
    "df_copy2_4['Age']=df_copy2_4['Age'].interpolate()\n",
    "\n",
    "# dataframe 'Age' 열 출력\n",
    "print(df_copy2_4['Age'])"
   ],
   "outputs": [
    {
     "name": "stdout",
     "output_type": "stream",
     "text": [
      "0      22.0\n",
      "1      38.0\n",
      "2      26.0\n",
      "3      35.0\n",
      "4      35.0\n",
      "       ... \n",
      "886    27.0\n",
      "887    19.0\n",
      "888    22.5\n",
      "889    26.0\n",
      "890    32.0\n",
      "Name: Age, Length: 891, dtype: float64\n"
     ]
    }
   ],
   "execution_count": 9
  },
  {
   "cell_type": "markdown",
   "metadata": {},
   "source": [
    "#### 2-5. 2-1부터 2-4까지 결측치를 처리한 각 dataframe에서 'Age' 열의 평균과 중앙값을 출력하세요."
   ]
  },
  {
   "cell_type": "code",
   "metadata": {
    "ExecuteTime": {
     "end_time": "2025-10-20T01:26:12.029708Z",
     "start_time": "2025-10-20T01:26:12.023798Z"
    }
   },
   "source": [
    "# 각 dataframe 'Age' 열 평균 출력\n",
    "print(\"평균(결측값 제거): \",Cabin_Embarked_removed['Age'].mean())\n",
    "print(\"평균(결측값 0): \",df_copy2['Age'].mean())\n",
    "print(\"평균(결측값 이전 값): \",df_copy2_2['Age'].mean())\n",
    "print(\"평균(결측값 평균): \",df_copy2_3['Age'].mean())\n",
    "print(\"평균(결측값 선형 보간): \",df_copy2_4['Age'].mean())\n",
    "\n",
    "# 각 dataframe 'Age' 열 중앙값 출력\n",
    "print(\"중앙값(결측값 제거): \",Cabin_Embarked_removed['Age'].median())\n",
    "print(\"중앙값(결측값 0): \",df_copy2['Age'].median())\n",
    "print(\"중앙값(결측값 이전 값): \",df_copy2_2['Age'].median())\n",
    "print(\"중앙값(결측값 평균): \",df_copy2_3['Age'].median())\n",
    "print(\"중앙값(결측값 선형 보간): \",df_copy2_4['Age'].median())\n"
   ],
   "outputs": [
    {
     "name": "stdout",
     "output_type": "stream",
     "text": [
      "평균(결측값 제거):  35.6744262295082\n",
      "평균(결측값 0):  23.79929292929293\n",
      "평균(결측값 이전 값):  29.581560044893376\n",
      "평균(결측값 평균):  29.69911764705882\n",
      "평균(결측값 선형 보간):  29.726060606060603\n",
      "중앙값(결측값 제거):  36.0\n",
      "중앙값(결측값 0):  24.0\n",
      "중앙값(결측값 이전 값):  28.0\n",
      "중앙값(결측값 평균):  29.69911764705882\n",
      "중앙값(결측값 선형 보간):  28.5\n"
     ]
    }
   ],
   "execution_count": 10
  },
  {
   "cell_type": "markdown",
   "metadata": {},
   "source": [
    "### 3. 와인 품질 데이터로 아래 문제에 맞게 코드를 작성하세요."
   ]
  },
  {
   "cell_type": "code",
   "metadata": {
    "ExecuteTime": {
     "end_time": "2025-10-20T01:26:13.580522Z",
     "start_time": "2025-10-20T01:26:12.039520Z"
    }
   },
   "source": [
    "import pandas as pd\n",
    "import seaborn as sns\n",
    "import numpy as np\n",
    "\n",
    "# 주어진 데이터 생성\n",
    "df = pd.read_csv('https://archive.ics.uci.edu/ml/machine-learning-databases/wine-quality/winequality-red.csv', sep=';')\n",
    "df_copy3=df.copy()"
   ],
   "outputs": [],
   "execution_count": 11
  },
  {
   "cell_type": "markdown",
   "metadata": {},
   "source": [
    "#### 3-1. 와인 품질 데이터의 'pH' 열의 요약 통계량을 출력하세요."
   ]
  },
  {
   "cell_type": "code",
   "metadata": {
    "ExecuteTime": {
     "end_time": "2025-10-20T01:26:13.592968Z",
     "start_time": "2025-10-20T01:26:13.587778Z"
    }
   },
   "source": [
    "# 결과 출력\n",
    "print(df_copy3['pH'].describe())"
   ],
   "outputs": [
    {
     "name": "stdout",
     "output_type": "stream",
     "text": [
      "count    1599.000000\n",
      "mean        3.311113\n",
      "std         0.154386\n",
      "min         2.740000\n",
      "25%         3.210000\n",
      "50%         3.310000\n",
      "75%         3.400000\n",
      "max         4.010000\n",
      "Name: pH, dtype: float64\n"
     ]
    }
   ],
   "execution_count": 12
  },
  {
   "cell_type": "markdown",
   "metadata": {},
   "source": [
    "#### 3-2. 와인 품질 데이터의 'pH' 열의 데이터로 상자 그림으로 그려보세요."
   ]
  },
  {
   "cell_type": "code",
   "metadata": {
    "ExecuteTime": {
     "end_time": "2025-10-20T01:26:14.544610Z",
     "start_time": "2025-10-20T01:26:13.606078Z"
    }
   },
   "source": [
    "# 'pH' column 상자 그림 그리기. 강의자료 따라서 해보기\n",
    "box_pH=sns.boxplot(data=df_copy3,y='pH')\n",
    "print(box_pH)"
   ],
   "outputs": [
    {
     "name": "stdout",
     "output_type": "stream",
     "text": [
      "Axes(0.125,0.11;0.775x0.77)\n"
     ]
    },
    {
     "data": {
      "text/plain": [
       "<Figure size 640x480 with 1 Axes>"
      ],
      "image/png": "[encoded data removed]"
     },
     "metadata": {},
     "output_type": "display_data",
     "jetTransient": {
      "display_id": null
     }
    }
   ],
   "execution_count": 13
  },
  {
   "cell_type": "markdown",
   "metadata": {},
   "source": [
    "#### 3-3. 'pH' 열의 IQR을 구하고 상한과 하한을 계산하세요."
   ]
  },
  {
   "cell_type": "code",
   "metadata": {
    "ExecuteTime": {
     "end_time": "2025-10-20T01:26:14.578234Z",
     "start_time": "2025-10-20T01:26:14.573797Z"
    }
   },
   "source": [
    "# 'pH' 열의 IQR, 상한, 하한 계산하여 변수에 저장\n",
    "pct25=df_copy3['pH'].quantile(0.25)\n",
    "pct75=df_copy3['pH'].quantile(0.75)\n",
    "iqr=pct75-pct25\n",
    "pH_min=pct25-1.5*iqr\n",
    "pH_max=pct75+1.5*iqr\n",
    "\n",
    "# 'pH' 열의 IQR, 상한, 하한 출력\n",
    "print(\"pH IQR: \",iqr)\n",
    "print(\"pH upper limit: \",pH_max)\n",
    "print(\"pH lower limit: \",pH_min)\n"
   ],
   "outputs": [
    {
     "name": "stdout",
     "output_type": "stream",
     "text": [
      "pH IQR:  0.18999999999999995\n",
      "pH upper limit:  3.6849999999999996\n",
      "pH lower limit:  2.925\n"
     ]
    }
   ],
   "execution_count": 14
  },
  {
   "cell_type": "markdown",
   "metadata": {},
   "source": [
    "#### 3-4. 'pH' 열의 극단치를 상한값 또는 하한값으로 대체하고 상한, 하한값 개수를 출력하세요."
   ]
  },
  {
   "cell_type": "code",
   "metadata": {
    "ExecuteTime": {
     "end_time": "2025-10-20T01:26:14.599162Z",
     "start_time": "2025-10-20T01:26:14.593374Z"
    }
   },
   "source": [
    "# 'pH' 열의 하한 극단치를 하한값으로 변경\n",
    "df_copy3['pH']=np.where(df_copy3['pH']<pH_min,pH_min,df_copy3['pH'])\n",
    "\n",
    "# 'pH' 열의 상한 극단치를 상한값으로 변경\n",
    "df_copy3['pH']=np.where(df_copy3['pH']>pH_max,pH_max,df_copy3['pH'])\n",
    "\n",
    "# 상한, 하한값 개수 확인\n",
    "max_count=df_copy3['pH'][df_copy3['pH']==pH_max].count()\n",
    "min_count=df_copy3['pH'][df_copy3['pH']==pH_min].count()\n",
    "\n",
    "print(\"상한값 개수: \",max_count)\n",
    "print(\"하한값 개수: \",min_count)\n"
   ],
   "outputs": [
    {
     "name": "stdout",
     "output_type": "stream",
     "text": [
      "상한값 개수:  21\n",
      "하한값 개수:  14\n"
     ]
    }
   ],
   "execution_count": 15
  },
  {
   "cell_type": "markdown",
   "metadata": {},
   "source": [
    "### 4. 아래 주어진 데이터를 이용하여 문제에 맞게 코드를 작성하세요."
   ]
  },
  {
   "cell_type": "code",
   "metadata": {
    "ExecuteTime": {
     "end_time": "2025-10-20T01:26:14.639473Z",
     "start_time": "2025-10-20T01:26:14.620388Z"
    }
   },
   "source": [
    "import pandas as pd\n",
    "import numpy as np\n",
    "\n",
    "# 데이터프레임 생성\n",
    "data = {\n",
    "    '주문번호': [101, np.nan, 102, 103, 104, 105, 106, 107, 108, 109, 110, np.nan],\n",
    "    '상품명': ['키보드', np.nan, '마우스', np.nan, '모니터', '마우스', '키보드', '마우스', np.nan, '키보드', '모니터', np.nan],\n",
    "    '수량': [1, np.nan, np.nan, 2, 1, 3, 2, np.nan, 1, 1, 1, np.nan],\n",
    "    '가격': [50000, np.nan, 25000, 15000, 200000, 25000, 50000, 25000, 200000, 50000, np.nan, np.nan],\n",
    "    '고객등급': ['Gold', np.nan, 'Silver', 'Bronze', 'Gold', np.nan, 'Silver', 'Silver', 'Gold', 'Bronze', 'Silver', np.nan]\n",
    "}\n",
    "\n",
    "df = pd.DataFrame(data)\n",
    "\n",
    "print(\"--- 원본 데이터프레임 ---\")\n",
    "print(df)"
   ],
   "outputs": [
    {
     "name": "stdout",
     "output_type": "stream",
     "text": [
      "--- 원본 데이터프레임 ---\n",
      "     주문번호  상품명   수량        가격    고객등급\n",
      "0   101.0  키보드  1.0   50000.0    Gold\n",
      "1     NaN  NaN  NaN       NaN     NaN\n",
      "2   102.0  마우스  NaN   25000.0  Silver\n",
      "3   103.0  NaN  2.0   15000.0  Bronze\n",
      "4   104.0  모니터  1.0  200000.0    Gold\n",
      "5   105.0  마우스  3.0   25000.0     NaN\n",
      "6   106.0  키보드  2.0   50000.0  Silver\n",
      "7   107.0  마우스  NaN   25000.0  Silver\n",
      "8   108.0  NaN  1.0  200000.0    Gold\n",
      "9   109.0  키보드  1.0   50000.0  Bronze\n",
      "10  110.0  모니터  1.0       NaN  Silver\n",
      "11    NaN  NaN  NaN       NaN     NaN\n"
     ]
    }
   ],
   "execution_count": 16
  },
  {
   "cell_type": "markdown",
   "metadata": {},
   "source": [
    "#### 4-1. 각 열에 있는 결측치 개수를 출력하고 모든 값이 결측치인 행을 삭제하세요."
   ]
  },
  {
   "cell_type": "code",
   "metadata": {
    "ExecuteTime": {
     "end_time": "2025-10-20T01:26:14.665166Z",
     "start_time": "2025-10-20T01:26:14.653456Z"
    }
   },
   "source": [
    "## 원본 데이터프레임의 각 열에 있는 결측치(NaN)의 개수 확인\n",
    "print(\"--- 결측치 개수 ---\")\n",
    "print(df.isnull().sum())\n",
    "\n",
    "# 원본 데이터프레임의 사본 생성\n",
    "df_cleaned = df.copy()\n",
    "\n",
    "# 사본 데이터프레임에서 모든 값이 결측치인 행 삭제\n",
    "# inplace 매개변수를 True로 하여 사본 데이터프레임을 직접 수정할 것\n",
    "df_cleaned.dropna(how='all', inplace=True)\n",
    "\n",
    "# 모든 값이 결측치인 행 삭제 후 데이터프레임 출력\n",
    "print(\"\\n--- 모든 값이 결측치인 행 삭제 후 ---\")\n",
    "print(df_cleaned)"
   ],
   "outputs": [
    {
     "name": "stdout",
     "output_type": "stream",
     "text": [
      "--- 결측치 개수 ---\n",
      "주문번호    2\n",
      "상품명     4\n",
      "수량      4\n",
      "가격      3\n",
      "고객등급    3\n",
      "dtype: int64\n",
      "\n",
      "--- 모든 값이 결측치인 행 삭제 후 ---\n",
      "     주문번호  상품명   수량        가격    고객등급\n",
      "0   101.0  키보드  1.0   50000.0    Gold\n",
      "2   102.0  마우스  NaN   25000.0  Silver\n",
      "3   103.0  NaN  2.0   15000.0  Bronze\n",
      "4   104.0  모니터  1.0  200000.0    Gold\n",
      "5   105.0  마우스  3.0   25000.0     NaN\n",
      "6   106.0  키보드  2.0   50000.0  Silver\n",
      "7   107.0  마우스  NaN   25000.0  Silver\n",
      "8   108.0  NaN  1.0  200000.0    Gold\n",
      "9   109.0  키보드  1.0   50000.0  Bronze\n",
      "10  110.0  모니터  1.0       NaN  Silver\n"
     ]
    }
   ],
   "execution_count": 17
  },
  {
   "cell_type": "markdown",
   "metadata": {},
   "source": [
    "#### 4-2. 4-1에서 결측치 처리된 데이터프레임을 이용하여 '상품명', '수량' 열의 결측치를 처리하세요."
   ]
  },
  {
   "cell_type": "code",
   "metadata": {
    "ExecuteTime": {
     "end_time": "2025-10-20T01:26:14.681623Z",
     "start_time": "2025-10-20T01:26:14.672932Z"
    }
   },
   "source": [
    "# '상품명' 열의 결측치를 '기타'로 채우기\n",
    "df_cleaned['상품명'] = df_cleaned['상품명'].fillna('기타')\n",
    "\n",
    "# '수량' 열의 결측치를 평균값(정수형)으로 채우기\n",
    "# 평균을 계산하고 정수형으로 변환\n",
    "mean_count = int(df_cleaned['수량'].mean())\n",
    "\n",
    "# 수량 평균 출력\n",
    "print(\"수량 평균:\", mean_count)\n",
    "\n",
    "# 수량 평균 값으로 결측치 채우기\n",
    "df_cleaned['수량'] = df_cleaned['수량'].fillna(mean_count)\n",
    "\n",
    "\n",
    "# 결측치 처리된 데이터프레임 출력\n",
    "print(df_cleaned)"
   ],
   "outputs": [
    {
     "name": "stdout",
     "output_type": "stream",
     "text": [
      "수량 평균: 1\n",
      "     주문번호  상품명   수량        가격    고객등급\n",
      "0   101.0  키보드  1.0   50000.0    Gold\n",
      "2   102.0  마우스  1.0   25000.0  Silver\n",
      "3   103.0   기타  2.0   15000.0  Bronze\n",
      "4   104.0  모니터  1.0  200000.0    Gold\n",
      "5   105.0  마우스  3.0   25000.0     NaN\n",
      "6   106.0  키보드  2.0   50000.0  Silver\n",
      "7   107.0  마우스  1.0   25000.0  Silver\n",
      "8   108.0   기타  1.0  200000.0    Gold\n",
      "9   109.0  키보드  1.0   50000.0  Bronze\n",
      "10  110.0  모니터  1.0       NaN  Silver\n"
     ]
    }
   ],
   "execution_count": 18
  },
  {
   "cell_type": "markdown",
   "metadata": {},
   "source": [
    "#### 4-3. 4-2에서 결측치 처리된 데이터프레임을 이용하여 '가격', '고객등급' 열의 결측치를 처리하세요."
   ]
  },
  {
   "cell_type": "code",
   "metadata": {
    "ExecuteTime": {
     "end_time": "2025-10-20T01:26:14.698193Z",
     "start_time": "2025-10-20T01:26:14.689951Z"
    }
   },
   "source": [
    "# '가격' 열의 결측치를 중앙값으로 채우기\n",
    "# 가격의 중앙값 구하기\n",
    "median_price = df_cleaned['가격'].median()\n",
    "\n",
    "# 가격의 중앙값 출력\n",
    "print(\"가격 중앙값:\", median_price)\n",
    "\n",
    "# 가격 중앙값으로 결측치 채우기\n",
    "df_cleaned['가격'] = df_cleaned['가격'].fillna(median_price)\n",
    "\n",
    "# '고객등급' 열의 결측치를 최빈값으로 채우기\n",
    "# 최빈값 구하는 것은 DataFrame.mode() 함수 사용\n",
    "# '고객등급'의 최빈값 구하기\n",
    "mode_고객등급 = df_cleaned['고객등급'].mode()[0]\n",
    "\n",
    "# 최빈값 출력\n",
    "print(\"고객등급 최빈값:\", mode_고객등급)\n",
    "\n",
    "# 고객등급 최빈값으로 결측치 채우기\n",
    "df_cleaned['고객등급'] = df_cleaned['고객등급'].fillna(mode_고객등급)\n",
    "\n",
    "# 결측치가 모두 처리된 최종 데이터프레임 출력\n",
    "print(\"--- 최종 데이터프레임 ---\")\n",
    "print(df_cleaned)"
   ],
   "outputs": [
    {
     "name": "stdout",
     "output_type": "stream",
     "text": [
      "가격 중앙값: 50000.0\n",
      "고객등급 최빈값: Silver\n",
      "--- 최종 데이터프레임 ---\n",
      "     주문번호  상품명   수량        가격    고객등급\n",
      "0   101.0  키보드  1.0   50000.0    Gold\n",
      "2   102.0  마우스  1.0   25000.0  Silver\n",
      "3   103.0   기타  2.0   15000.0  Bronze\n",
      "4   104.0  모니터  1.0  200000.0    Gold\n",
      "5   105.0  마우스  3.0   25000.0  Silver\n",
      "6   106.0  키보드  2.0   50000.0  Silver\n",
      "7   107.0  마우스  1.0   25000.0  Silver\n",
      "8   108.0   기타  1.0  200000.0    Gold\n",
      "9   109.0  키보드  1.0   50000.0  Bronze\n",
      "10  110.0  모니터  1.0   50000.0  Silver\n"
     ]
    }
   ],
   "execution_count": 19
  },
  {
   "cell_type": "markdown",
   "metadata": {},
   "source": [
    "### 5. 자율 문제\n",
    "- 지금까지 과제에서 사용한 데이터 중 하나를 선정하여 지금까지 학습한 내용을 적용하여 데이터 처리한 결과를 보이시오.\n",
    "  - 서브 문제 3개\n",
    "\n",
    "\n",
    "*** 돌아온 타이타닉 ***"
   ]
  },
  {
   "metadata": {
    "ExecuteTime": {
     "end_time": "2025-10-20T01:26:14.757943Z",
     "start_time": "2025-10-20T01:26:14.705266Z"
    }
   },
   "cell_type": "code",
   "source": [
    "import pandas as pd\n",
    "\n",
    "df = pd.read_csv('https://raw.githubusercontent.com/datasciencedojo/datasets/master/titanic.csv')"
   ],
   "outputs": [],
   "execution_count": 20
  },
  {
   "cell_type": "markdown",
   "metadata": {},
   "source": [
    "#### 5-1. 객실 등급 정보 병합 및 요금 분석\n",
    "- Pclass 열은 1, 2, 3과 같은 숫자로만 되어 있어 직관적이지 않습니다. 각 숫자가 의미하는 등급 이름('First', 'Second', 'Third')을 가진 별도의 데이터프레임을 만들어 기존 데이터와 병합(merge)한 후, 등급별 평균 요금을 분석하세요."
   ]
  },
  {
   "cell_type": "code",
   "metadata": {
    "ExecuteTime": {
     "end_time": "2025-10-20T01:26:14.774049Z",
     "start_time": "2025-10-20T01:26:14.763790Z"
    }
   },
   "source": [
    "# Pclass와 등급 이름(Class_Name)을 포함하는 아래와 같은 새로운 데이터프레임(class_names) 생성\n",
    "class_names = pd.DataFrame({\n",
    "    'Pclass': [1, 2, 3],\n",
    "    'Class_Name': ['First', 'Second', 'Third']\n",
    "})\n",
    "\n",
    "# pd.merge() 함수를 사용하여 원본 타이타닉 데이터프레임(df)과 class_names 데이터프레임을 'Pclass' 열을 기준으로 병합\n",
    "df_merged = pd.merge(df, class_names, how='left', on='Pclass')\n",
    "\n",
    "# groupby()를 사용하여 새로 추가된 'Class_Name' 별로 평균 'Fare'(요금)를 계산\n",
    "fare_by_class = df_merged.groupby('Class_Name').agg(mean_fare=('Fare', 'mean'))\n",
    "\n",
    "# 요금이 높은 순서대로 내림차순 정렬하여 출력\n",
    "fare_by_class_sorted = fare_by_class.sort_values('mean_fare', ascending=False)\n",
    "\n",
    "print(fare_by_class_sorted)\n"
   ],
   "outputs": [
    {
     "name": "stdout",
     "output_type": "stream",
     "text": [
      "            mean_fare\n",
      "Class_Name           \n",
      "First       84.154687\n",
      "Second      20.662183\n",
      "Third       13.675550\n"
     ]
    }
   ],
   "execution_count": 21
  },
  {
   "cell_type": "markdown",
   "metadata": {},
   "source": [
    "#### 5-2. 성별에 따른 나이 결측치 처리 및 조건부 필터링\n",
    "- 'Age' 열의 결측치를 단순히 전체 평균으로 채우는 것보다, '성별'과 같은 다른 특성을 고려하여 채우는 것이 더 정확할 수 있습니다. 성별에 따른 중앙값으로 'Age' 결측치를 채운 후, 특정 조건에 맞는 승객을 loc를 사용하여 찾아보세요."
   ]
  },
  {
   "cell_type": "code",
   "metadata": {
    "ExecuteTime": {
     "end_time": "2025-10-20T01:26:14.806834Z",
     "start_time": "2025-10-20T01:26:14.797008Z"
    }
   },
   "source": [
    "# 'Sex' 그룹별 'Age'의 **중앙값(median)**을 계산, 'Age' 열의 결측치(NaN)를 채워넣기\n",
    "df['Age'] = df['Age'].fillna(df.groupby('Sex')['Age'].transform('median'))\n",
    "\n",
    "# 결측치가 처리된 데이터에서 loc 접근자를 사용하여 'Age'가 30세 이상 40세 미만이면서 'Pclass'가 1등급인 여성('female') 승객을 모두 찾아 'Name', 'Age', 'Pclass', 'Sex' 열을 출력\n",
    "filtered_passengers = df.loc[\n",
    "    (df['Age'] >= 30) & (df['Age'] < 40) &\n",
    "    (df['Pclass'] == 1) & (df['Sex'] == 'female'),\n",
    "    ['Name', 'Age', 'Pclass', 'Sex'] # 3. 특정 열 선택\n",
    "]\n",
    "\n",
    "print(filtered_passengers)\n"
   ],
   "outputs": [
    {
     "name": "stdout",
     "output_type": "stream",
     "text": [
      "                                                  Name   Age  Pclass     Sex\n",
      "1    Cumings, Mrs. John Bradley (Florence Briggs Th...  38.0       1  female\n",
      "3         Futrelle, Mrs. Jacques Heath (Lily May Peel)  35.0       1  female\n",
      "61                                 Icard, Miss. Amelie  38.0       1  female\n",
      "215                            Newell, Miss. Madeleine  31.0       1  female\n",
      "218                              Bazzani, Miss. Albina  32.0       1  female\n",
      "230       Harris, Mrs. Henry Birkhardt (Irene Wallach)  35.0       1  female\n",
      "257                               Cherry, Miss. Gladys  30.0       1  female\n",
      "258                                   Ward, Miss. Anna  35.0       1  female\n",
      "269                             Bissette, Miss. Amelia  35.0       1  female\n",
      "309                     Francatelli, Miss. Laura Mabel  30.0       1  female\n",
      "318                           Wick, Miss. Mary Natalie  31.0       1  female\n",
      "325                           Young, Miss. Marie Grice  36.0       1  female\n",
      "383  Holverson, Mrs. Alexander Oskar (Mary Aline To...  35.0       1  female\n",
      "412                             Minahan, Miss. Daisy E  33.0       1  female\n",
      "486    Hoyt, Mrs. Frederick Maxfield (Jane Anne Forby)  35.0       1  female\n",
      "520                              Perreault, Miss. Anne  30.0       1  female\n",
      "537                                LeRoy, Miss. Bertha  30.0       1  female\n",
      "540                            Crosby, Miss. Harriet R  36.0       1  female\n",
      "558             Taussig, Mrs. Emil (Tillie Mandelbaum)  39.0       1  female\n",
      "577          Silvey, Mrs. William Baird (Alice Munger)  39.0       1  female\n",
      "581  Thayer, Mrs. John Borland (Marian Longstreth M...  39.0       1  female\n",
      "716                      Endres, Miss. Caroline Louise  38.0       1  female\n",
      "759  Rothes, the Countess. of (Lucy Noel Martha Dye...  33.0       1  female\n",
      "763          Carter, Mrs. William Ernest (Lucile Polk)  36.0       1  female\n",
      "809     Chambers, Mrs. Norman Campbell (Bertha Griggs)  33.0       1  female\n",
      "835                        Compton, Miss. Sara Rebecca  39.0       1  female\n",
      "842                            Serepeca, Miss. Augusta  30.0       1  female\n"
     ]
    }
   ],
   "execution_count": 22
  },
  {
   "cell_type": "markdown",
   "metadata": {},
   "source": [
    "#### 5-3. 이름(Name)에서 호칭(Title) 추출 및 분석\n",
    "- 'Name' 열에는 'Mr.', 'Mrs.', 'Miss.' 등 사회적 신분을 나타낼 수 있는 호칭(Title) 정보가 포함되어 있습니다. 이 정보를 추출하여 'Title'이라는 파생변수를 만들고, 호칭별 생존율을 분석해 보세요."
   ]
  },
  {
   "cell_type": "code",
   "metadata": {
    "ExecuteTime": {
     "end_time": "2025-10-20T01:26:14.833249Z",
     "start_time": "2025-10-20T01:26:14.822067Z"
    }
   },
   "source": [
    "# .str.extract()와 정규표현식을 사용하여 'Name' 열에서 호칭을 추출하여 'Title'열 생성\n",
    "df['Title'] = df['Name'].str.extract('([A-Za-z]+)\\\\.')\n",
    "\n",
    "# groupby()를 사용하여 'Title' 별로 생존율('Survived'의 평균)을 계산하고, 생존율이 가장 높은 상위 5개 호칭을 출력\n",
    "survival_by_title = df.groupby('Title').agg(survival_rate=('Survived', 'mean'))\n",
    "top_5_titles = survival_by_title.sort_values('survival_rate', ascending=False).head(5)\n",
    "\n",
    "print(top_5_titles)"
   ],
   "outputs": [
    {
     "name": "stdout",
     "output_type": "stream",
     "text": [
      "          survival_rate\n",
      "Title                  \n",
      "Countess            1.0\n",
      "Ms                  1.0\n",
      "Lady                1.0\n",
      "Mme                 1.0\n",
      "Mlle                1.0\n"
     ]
    }
   ],
   "execution_count": 23
  }
 ],
 "metadata": {
  "kernelspec": {
   "display_name": "Python 3 (ipykernel)",
   "language": "python",
   "name": "python3"
  },
  "language_info": {
   "codemirror_mode": {
    "name": "ipython",
    "version": 3
   },
   "file_extension": ".py",
   "mimetype": "text/x-python",
   "name": "python",
   "nbconvert_exporter": "python",
   "pygments_lexer": "ipython3",
   "version": "3.13.5"
  }
 },
 "nbformat": 4,
 "nbformat_minor": 4
}
