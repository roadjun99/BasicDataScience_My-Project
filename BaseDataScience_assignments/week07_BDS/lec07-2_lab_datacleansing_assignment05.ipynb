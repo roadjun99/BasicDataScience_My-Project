{
 "cells": [
  {
   "cell_type": "markdown",
   "metadata": {},
   "source": [
    "## 기초데이터과학 (01분반) \n",
    "\n",
    "## Programming assignment 05"
   ]
  },
  {
   "cell_type": "markdown",
   "metadata": {},
   "source": [
    "### 1. 타이타닉 승객 정보 데이터로 아래 문제에 맞게 코드를 작성하세요."
   ]
  },
  {
   "cell_type": "code",
   "execution_count": 61,
   "metadata": {},
   "outputs": [],
   "source": [
    "import pandas as pd\n",
    "\n",
    "# 주어진 데이터 생성\n",
    "df = pd.read_csv('https://raw.githubusercontent.com/datasciencedojo/datasets/master/titanic.csv')"
   ]
  },
  {
   "cell_type": "markdown",
   "metadata": {},
   "source": [
    "#### 1-1. 타이타닉 데이터의 각 열의 정보를 출력하여 어떤 열에 결측치가 있는지 확인하세요."
   ]
  },
  {
   "cell_type": "code",
   "execution_count": 62,
   "metadata": {},
   "outputs": [
    {
     "name": "stdout",
     "output_type": "stream",
     "text": [
      "<class 'pandas.core.frame.DataFrame'>\n",
      "RangeIndex: 891 entries, 0 to 890\n",
      "Data columns (total 12 columns):\n",
      " #   Column       Non-Null Count  Dtype  \n",
      "---  ------       --------------  -----  \n",
      " 0   PassengerId  891 non-null    int64  \n",
      " 1   Survived     891 non-null    int64  \n",
      " 2   Pclass       891 non-null    int64  \n",
      " 3   Name         891 non-null    object \n",
      " 4   Sex          891 non-null    object \n",
      " 5   Age          714 non-null    float64\n",
      " 6   SibSp        891 non-null    int64  \n",
      " 7   Parch        891 non-null    int64  \n",
      " 8   Ticket       891 non-null    object \n",
      " 9   Fare         891 non-null    float64\n",
      " 10  Cabin        204 non-null    object \n",
      " 11  Embarked     889 non-null    object \n",
      "dtypes: float64(2), int64(5), object(5)\n",
      "memory usage: 83.7+ KB\n",
      "None\n"
     ]
    }
   ],
   "source": [
    "# 출력\n"
   ]
  },
  {
   "cell_type": "markdown",
   "metadata": {},
   "source": [
    "#### 1-2. 나이('Age'), 객실 번호('Cabin'), 탑승 항구('Embarked') 열의 결측치 개수를 확인하세요."
   ]
  },
  {
   "cell_type": "code",
   "execution_count": 63,
   "metadata": {},
   "outputs": [
    {
     "name": "stdout",
     "output_type": "stream",
     "text": [
      "나이 결측치 개수:  177\n",
      "객실 번호 결측치 개수:  687\n",
      "탑승 항구 결측치 개수:  2\n"
     ]
    }
   ],
   "source": [
    "# 나이 결측치 개수 출력\n",
    "\n",
    "\n",
    "# 객실 번호 결측치 개수 출력\n",
    "\n",
    "\n",
    "# 탑승 항구 결측치 개수 출력\n"
   ]
  },
  {
   "cell_type": "markdown",
   "metadata": {},
   "source": [
    "#### 1-3. 'Age' 열에 결측치가 있는 행을 제거하세요."
   ]
  },
  {
   "cell_type": "code",
   "execution_count": 64,
   "metadata": {},
   "outputs": [
    {
     "name": "stdout",
     "output_type": "stream",
     "text": [
      "나이 데이터 수: 891\n",
      "0      22.0\n",
      "1      38.0\n",
      "2      26.0\n",
      "3      35.0\n",
      "4      35.0\n",
      "       ... \n",
      "885    39.0\n",
      "886    27.0\n",
      "887    19.0\n",
      "889    26.0\n",
      "890    32.0\n",
      "Name: Age, Length: 714, dtype: float64\n"
     ]
    }
   ],
   "source": [
    "# Age 열의 데이터 수 출력 Age 열의 데이터 수 출력\n",
    "\n",
    "\n",
    "# 'Age' 열에 결측치가 있는 행을을 제거하여 새로운 dataframe으로 저장\n",
    "\n",
    "\n",
    "# dataframe 'Age' 열 출력\n"
   ]
  },
  {
   "cell_type": "markdown",
   "metadata": {},
   "source": [
    "#### 1-4. 나이('Age'), 객실 번호('Cabin'), 탑승 항구('Embarked') 열에 결측치가 있는 행을 제거하세요."
   ]
  },
  {
   "cell_type": "code",
   "execution_count": 65,
   "metadata": {},
   "outputs": [
    {
     "name": "stdout",
     "output_type": "stream",
     "text": [
      "<class 'pandas.core.frame.DataFrame'>\n",
      "Index: 183 entries, 1 to 889\n",
      "Data columns (total 12 columns):\n",
      " #   Column       Non-Null Count  Dtype  \n",
      "---  ------       --------------  -----  \n",
      " 0   PassengerId  183 non-null    int64  \n",
      " 1   Survived     183 non-null    int64  \n",
      " 2   Pclass       183 non-null    int64  \n",
      " 3   Name         183 non-null    object \n",
      " 4   Sex          183 non-null    object \n",
      " 5   Age          183 non-null    float64\n",
      " 6   SibSp        183 non-null    int64  \n",
      " 7   Parch        183 non-null    int64  \n",
      " 8   Ticket       183 non-null    object \n",
      " 9   Fare         183 non-null    float64\n",
      " 10  Cabin        183 non-null    object \n",
      " 11  Embarked     183 non-null    object \n",
      "dtypes: float64(2), int64(5), object(5)\n",
      "memory usage: 18.6+ KB\n",
      "None\n"
     ]
    }
   ],
   "source": [
    "# 'Cabin', 'Embarked' 열에 결측치가 있는 행을을 제거하여 새로운 dataframe으로 저장\n",
    "\n",
    "\n",
    "# 결측치가 제거된 dataframe의 정보 출력\n"
   ]
  },
  {
   "cell_type": "markdown",
   "metadata": {},
   "source": [
    "### 2. 타이타닉 승객 정보 데이터로 아래 문제에 맞게 코드를 작성하세요."
   ]
  },
  {
   "cell_type": "markdown",
   "metadata": {},
   "source": [
    "#### 2-1. 'Age' 열의 결측치를 0으로 대체하세요."
   ]
  },
  {
   "cell_type": "code",
   "execution_count": 66,
   "metadata": {},
   "outputs": [
    {
     "name": "stdout",
     "output_type": "stream",
     "text": [
      "0      22.0\n",
      "1      38.0\n",
      "2      26.0\n",
      "3      35.0\n",
      "4      35.0\n",
      "       ... \n",
      "886    27.0\n",
      "887    19.0\n",
      "888     0.0\n",
      "889    26.0\n",
      "890    32.0\n",
      "Name: Age, Length: 891, dtype: float64\n"
     ]
    }
   ],
   "source": [
    "df = pd.read_csv('https://raw.githubusercontent.com/datasciencedojo/datasets/master/titanic.csv')\n",
    "\n",
    "# df를 복사하여 새로운 dataframe으로 저장\n",
    "\n",
    "\n",
    "# 복사한 dataframe의 'Age'열 결측치를 0으로 대체\n",
    "\n",
    "\n",
    "# dataframe 'Age' 열 출력\n"
   ]
  },
  {
   "cell_type": "markdown",
   "metadata": {},
   "source": [
    "#### 2-2. 'Age' 열의 결측치를 이전 행의 값으로 채우세요."
   ]
  },
  {
   "cell_type": "code",
   "execution_count": 67,
   "metadata": {},
   "outputs": [
    {
     "name": "stdout",
     "output_type": "stream",
     "text": [
      "0      22.0\n",
      "1      38.0\n",
      "2      26.0\n",
      "3      35.0\n",
      "4      35.0\n",
      "       ... \n",
      "886    27.0\n",
      "887    19.0\n",
      "888    19.0\n",
      "889    26.0\n",
      "890    32.0\n",
      "Name: Age, Length: 891, dtype: float64\n"
     ]
    }
   ],
   "source": [
    "df = pd.read_csv('https://raw.githubusercontent.com/datasciencedojo/datasets/master/titanic.csv')\n",
    "\n",
    "# df를 복사하여 새로운 dataframe으로 저장\n",
    "\n",
    "\n",
    "# 복사한 dataframe의 'Age'열 결측치를 이전 행의 값으로 대체\n",
    "#pandas.DataFrame.ffill 함수 활용\n",
    "\n",
    "\n",
    "# dataframe 'Age' 열 출력\n"
   ]
  },
  {
   "cell_type": "markdown",
   "metadata": {},
   "source": [
    "#### 2-3. 'Age' 열의 결측치를 평균값으로 대체하세요."
   ]
  },
  {
   "cell_type": "code",
   "execution_count": 68,
   "metadata": {},
   "outputs": [
    {
     "name": "stdout",
     "output_type": "stream",
     "text": [
      "0      22.000000\n",
      "1      38.000000\n",
      "2      26.000000\n",
      "3      35.000000\n",
      "4      35.000000\n",
      "         ...    \n",
      "886    27.000000\n",
      "887    19.000000\n",
      "888    29.699118\n",
      "889    26.000000\n",
      "890    32.000000\n",
      "Name: Age, Length: 891, dtype: float64\n"
     ]
    }
   ],
   "source": [
    "df = pd.read_csv('https://raw.githubusercontent.com/datasciencedojo/datasets/master/titanic.csv')\n",
    "\n",
    "# df를 복사하여 새로운 dataframe으로 저장\n",
    "\n",
    "\n",
    "# 복사한 dataframe의 'Age'열 결측치를 'Age' 열의 평균값으로 대체\n",
    "\n",
    "\n",
    "# dataframe 'Age' 열 출력\n"
   ]
  },
  {
   "cell_type": "markdown",
   "metadata": {},
   "source": [
    "#### 2-4. 'Age' 열의 결측치를 선형 보간법으로 채우세요."
   ]
  },
  {
   "cell_type": "code",
   "execution_count": 69,
   "metadata": {},
   "outputs": [
    {
     "name": "stdout",
     "output_type": "stream",
     "text": [
      "0      22.0\n",
      "1      38.0\n",
      "2      26.0\n",
      "3      35.0\n",
      "4      35.0\n",
      "       ... \n",
      "886    27.0\n",
      "887    19.0\n",
      "888    22.5\n",
      "889    26.0\n",
      "890    32.0\n",
      "Name: Age, Length: 891, dtype: float64\n"
     ]
    }
   ],
   "source": [
    "df = pd.read_csv('https://raw.githubusercontent.com/datasciencedojo/datasets/master/titanic.csv')\n",
    "\n",
    "# df를 복사하여 새로운 dataframe으로 저장\n",
    "\n",
    "\n",
    "# 복사한 dataframe의 'Age'열 결측치를 선형 보간법으로 대체\n",
    "# DataFrame.interpolate() 함수 활용\n",
    "\n",
    "\n",
    "# dataframe 'Age' 열 출력\n"
   ]
  },
  {
   "cell_type": "markdown",
   "metadata": {},
   "source": [
    "#### 2-5. 2-1부터 2-4까지 결측치를 처리한 각 dataframe에서 'Age' 열의 평균과 중앙값을 출력하세요."
   ]
  },
  {
   "cell_type": "code",
   "execution_count": 70,
   "metadata": {},
   "outputs": [
    {
     "name": "stdout",
     "output_type": "stream",
     "text": [
      "평균(결측값 제거): 35.6744262295082\n",
      "평균(결측값 0): 23.79929292929293\n",
      "평균(결측값 이전값): 29.581560044893376\n",
      "평균(결측값 평균): 29.69911764705882\n",
      "평균(결측값 선형 보간): 29.726060606060603\n",
      "중앙값(결측값 제거): 36.0\n",
      "중앙값(결측값 0): 24.0\n",
      "중앙값(결측값 이전값): 28.0\n",
      "중앙값(결측값 평균): 29.69911764705882\n",
      "중앙값(결측값 선형 보간): 28.5\n"
     ]
    }
   ],
   "source": [
    "# 각 dataframe 'Age' 열 평균 출력\n",
    "\n",
    "\n",
    "\n",
    "\n",
    "# 각 dataframe 'Age' 열 중앙값 출력\n",
    "\n",
    "\n",
    "\n"
   ]
  },
  {
   "cell_type": "markdown",
   "metadata": {},
   "source": [
    "### 3. 와인 품질 데이터로 아래 문제에 맞게 코드를 작성하세요."
   ]
  },
  {
   "cell_type": "code",
   "execution_count": 71,
   "metadata": {},
   "outputs": [],
   "source": [
    "import pandas as pd\n",
    "import seaborn as sns\n",
    "import numpy as np\n",
    "\n",
    "# 주어진 데이터 생성\n",
    "df = pd.read_csv('https://archive.ics.uci.edu/ml/machine-learning-databases/wine-quality/winequality-red.csv', sep=';')"
   ]
  },
  {
   "cell_type": "markdown",
   "metadata": {},
   "source": [
    "#### 3-1. 와인 품질 데이터의 'pH' 열의 요약 통계량을 출력하세요."
   ]
  },
  {
   "cell_type": "code",
   "execution_count": 72,
   "metadata": {},
   "outputs": [
    {
     "name": "stdout",
     "output_type": "stream",
     "text": [
      "count    1599.000000\n",
      "mean        3.311113\n",
      "std         0.154386\n",
      "min         2.740000\n",
      "25%         3.210000\n",
      "50%         3.310000\n",
      "75%         3.400000\n",
      "max         4.010000\n",
      "Name: pH, dtype: float64\n"
     ]
    }
   ],
   "source": [
    "# 결과 출력\n"
   ]
  },
  {
   "cell_type": "markdown",
   "metadata": {},
   "source": [
    "#### 3-2. 와인 품질 데이터의 'pH' 열의 데이터로 상자 그림으로 그려보세요."
   ]
  },
  {
   "cell_type": "code",
   "execution_count": 73,
   "metadata": {},
   "outputs": [
    {
     "data": {
      "text/plain": [
       "<Axes: ylabel='pH'>"
      ]
     },
     "execution_count": 73,
     "metadata": {},
     "output_type": "execute_result"
    },
    {
     "data": {
      "image/png": "[encoded data removed]",
      "text/plain": [
       "<Figure size 640x480 with 1 Axes>"
      ]
     },
     "metadata": {},
     "output_type": "display_data"
    }
   ],
   "source": [
    "# 'pH' column 상자 그림 그리기\n"
   ]
  },
  {
   "cell_type": "markdown",
   "metadata": {},
   "source": [
    "#### 3-3. 'pH' 열의 IQR을 구하고 상한과 하한을 계산하세요."
   ]
  },
  {
   "cell_type": "code",
   "execution_count": 74,
   "metadata": {},
   "outputs": [
    {
     "name": "stdout",
     "output_type": "stream",
     "text": [
      "pH IQR:  0.18999999999999995\n",
      "pH upper limit:  3.6849999999999996\n",
      "pH lower limit:  2.925\n"
     ]
    }
   ],
   "source": [
    "# 'pH' 열의 IQR, 상한, 하한 계산하여 변수에 저장\n",
    "\n",
    "\n",
    "\n",
    "\n",
    "# 'pH' 열의 IQR, 상한, 하한 출력\n",
    "\n",
    "\n"
   ]
  },
  {
   "cell_type": "markdown",
   "metadata": {},
   "source": [
    "#### 3-4. 'pH' 열의 극단치를 상한값 또는 하한값으로 대체하고 상한, 하한값 개수를 출력하세요."
   ]
  },
  {
   "cell_type": "code",
   "execution_count": 75,
   "metadata": {},
   "outputs": [
    {
     "name": "stdout",
     "output_type": "stream",
     "text": [
      "상한값 개수:  21\n",
      "하한값 개수:  14\n"
     ]
    }
   ],
   "source": [
    "# 'pH' 열의 하한 극단치를 하한값으로 변경\n",
    "\n",
    "\n",
    "# 'pH' 열의 상한 극단치를 상한값으로 변경\n",
    "\n",
    "\n",
    "# 상한, 하한값 개수 확인\n",
    "\n"
   ]
  },
  {
   "cell_type": "markdown",
   "metadata": {},
   "source": [
    "### 4. 아래 주어진 데이터를 이용하여 문제에 맞게 코드를 작성하세요."
   ]
  },
  {
   "cell_type": "code",
   "execution_count": 76,
   "metadata": {},
   "outputs": [
    {
     "name": "stdout",
     "output_type": "stream",
     "text": [
      "--- 원본 데이터프레임 ---\n",
      "    주문번호  상품명   수량   가격       고객등급   \n",
      "0   101.0  키보드  1.0   50000.0    Gold\n",
      "1     NaN  NaN  NaN       NaN     NaN\n",
      "2   102.0  마우스  NaN   25000.0  Silver\n",
      "3   103.0  NaN  2.0   15000.0  Bronze\n",
      "4   104.0  모니터  1.0  200000.0    Gold\n",
      "5   105.0  마우스  3.0   25000.0     NaN\n",
      "6   106.0  키보드  2.0   50000.0  Silver\n",
      "7   107.0  마우스  NaN   25000.0  Silver\n",
      "8   108.0  NaN  1.0  200000.0    Gold\n",
      "9   109.0  키보드  1.0   50000.0  Bronze\n",
      "10  110.0  모니터  1.0       NaN  Silver\n",
      "11    NaN  NaN  NaN       NaN     NaN\n"
     ]
    }
   ],
   "source": [
    "import pandas as pd\n",
    "import numpy as np\n",
    "\n",
    "# 데이터프레임 생성\n",
    "data = {\n",
    "    '주문번호': [101, np.nan, 102, 103, 104, 105, 106, 107, 108, 109, 110, np.nan],\n",
    "    '상품명': ['키보드', np.nan, '마우스', np.nan, '모니터', '마우스', '키보드', '마우스', np.nan, '키보드', '모니터', np.nan],\n",
    "    '수량': [1, np.nan, np.nan, 2, 1, 3, 2, np.nan, 1, 1, 1, np.nan],\n",
    "    '가격': [50000, np.nan, 25000, 15000, 200000, 25000, 50000, 25000, 200000, 50000, np.nan, np.nan],\n",
    "    '고객등급': ['Gold', np.nan, 'Silver', 'Bronze', 'Gold', np.nan, 'Silver', 'Silver', 'Gold', 'Bronze', 'Silver', np.nan]\n",
    "}\n",
    "\n",
    "df = pd.DataFrame(data)\n",
    "\n",
    "print(\"--- 원본 데이터프레임 ---\")\n",
    "print(df)"
   ]
  },
  {
   "cell_type": "markdown",
   "metadata": {},
   "source": [
    "#### 4-1. 각 열에 있는 결측치 개수를 출력하고 모든 값이 결측치인 행을 삭제하세요."
   ]
  },
  {
   "cell_type": "code",
   "execution_count": 77,
   "metadata": {},
   "outputs": [
    {
     "name": "stdout",
     "output_type": "stream",
     "text": [
      "--- 결측치 개수 ---\n",
      "주문번호    2\n",
      "상품명     4\n",
      "수량      4\n",
      "가격      3\n",
      "고객등급    3\n",
      "dtype: int64\n",
      "\n",
      "\n",
      "--- 모든 값이 결측치인 행 삭제 후 ---\n",
      "    주문번호  상품명   수량   가격       고객등급   \n",
      "0   101.0  키보드  1.0   50000.0    Gold\n",
      "2   102.0  마우스  NaN   25000.0  Silver\n",
      "3   103.0  NaN  2.0   15000.0  Bronze\n",
      "4   104.0  모니터  1.0  200000.0    Gold\n",
      "5   105.0  마우스  3.0   25000.0     NaN\n",
      "6   106.0  키보드  2.0   50000.0  Silver\n",
      "7   107.0  마우스  NaN   25000.0  Silver\n",
      "8   108.0  NaN  1.0  200000.0    Gold\n",
      "9   109.0  키보드  1.0   50000.0  Bronze\n",
      "10  110.0  모니터  1.0       NaN  Silver\n"
     ]
    }
   ],
   "source": [
    "# 원본 데이터프레임의 각 열에 있는 결측치(NaN)의 개수 확인\n",
    "\n",
    "\n",
    "\n",
    "# 원본 데이터프레임의 사본 생성\n",
    "\n",
    "\n",
    "\n",
    "# 사본 데이터프레임에서 모든 값이 결측치인 행 삭제 \n",
    "# inplace 매개변수를 True로 하여 사본 데이터프레임을 직접 수정할 것\n",
    "\n",
    "\n"
   ]
  },
  {
   "cell_type": "markdown",
   "metadata": {},
   "source": [
    "#### 4-2. 4-1에서 결측치 처리된 데이터프레임을 이용하여 '상품명', '수량' 열의 결측치를 처리하세요."
   ]
  },
  {
   "cell_type": "code",
   "execution_count": 78,
   "metadata": {},
   "outputs": [
    {
     "name": "stdout",
     "output_type": "stream",
     "text": [
      "수량 평균: 1\n",
      "    주문번호  상품명   수량   가격       고객등급   \n",
      "0   101.0  키보드  1.0   50000.0    Gold\n",
      "2   102.0  마우스  1.0   25000.0  Silver\n",
      "3   103.0   기타  2.0   15000.0  Bronze\n",
      "4   104.0  모니터  1.0  200000.0    Gold\n",
      "5   105.0  마우스  3.0   25000.0     NaN\n",
      "6   106.0  키보드  2.0   50000.0  Silver\n",
      "7   107.0  마우스  1.0   25000.0  Silver\n",
      "8   108.0   기타  1.0  200000.0    Gold\n",
      "9   109.0  키보드  1.0   50000.0  Bronze\n",
      "10  110.0  모니터  1.0       NaN  Silver\n"
     ]
    }
   ],
   "source": [
    "# '상품명' 열의 결측치를 '기타'로 채우기\n",
    "\n",
    "\n",
    "# '수량' 열의 결측치를 평균값(정수형)으로 채우기\n",
    "# 평균을 계산하고 정수형으로 변환\n",
    "\n",
    "# 수량 평균 출력\n",
    "\n",
    "# 수량 평균 값으로 결측치 채우기\n",
    "\n",
    "\n",
    "# 결측치 처리된 데이터프레임 출력\n"
   ]
  },
  {
   "cell_type": "markdown",
   "metadata": {},
   "source": [
    "#### 4-3. 4-2에서 결측치 처리된 데이터프레임을 이용하여 '가격', '고객등급' 열의 결측치를 처리하세요."
   ]
  },
  {
   "cell_type": "code",
   "execution_count": 79,
   "metadata": {},
   "outputs": [
    {
     "name": "stdout",
     "output_type": "stream",
     "text": [
      "가격 중앙값: 50000.0\n",
      "고객등급 최빈값: Silver\n",
      "--- 최종 데이터프레임 ---\n",
      "    주문번호  상품명   수량   가격       고객등급   \n",
      "0   101.0  키보드  1.0   50000.0    Gold\n",
      "2   102.0  마우스  1.0   25000.0  Silver\n",
      "3   103.0   기타  2.0   15000.0  Bronze\n",
      "4   104.0  모니터  1.0  200000.0    Gold\n",
      "5   105.0  마우스  3.0   25000.0  Silver\n",
      "6   106.0  키보드  2.0   50000.0  Silver\n",
      "7   107.0  마우스  1.0   25000.0  Silver\n",
      "8   108.0   기타  1.0  200000.0    Gold\n",
      "9   109.0  키보드  1.0   50000.0  Bronze\n",
      "10  110.0  모니터  1.0   50000.0  Silver\n"
     ]
    }
   ],
   "source": [
    "# '가격' 열의 결측치를 중앙값으로 채우기\n",
    "# 가격의 중앙값 구하기\n",
    "\n",
    "# 가격의 중앙값 출력\n",
    "\n",
    "# 가격 중앙값으로 결측치 채우기\n",
    "\n",
    "\n",
    "# '고객등급' 열의 결측치를 최빈값으로 채우기\n",
    "# 최빈값 구하는 것은 DataFrame.mode() 함수 사용\n",
    "# '고객등급'의 최빈값 구하기\n",
    "\n",
    "# 최빈값 출력\n",
    "\n",
    "# 고객등급 최빈값으로 결측치 채우기\n",
    "\n",
    "\n",
    "# 결측치가 모두 처리된 최종 데이터프레임 출력\n",
    "\n"
   ]
  },
  {
   "cell_type": "markdown",
   "metadata": {},
   "source": [
    "### 5. 자율 문제\n",
    "- 지금까지 과제에서 사용한 데이터 중 하나를 선정하여 지금까지 학습한 내용을 적용하여 데이터 처리한 결과를 보이시오.\n",
    "  - 서브 문제 3개"
   ]
  },
  {
   "cell_type": "markdown",
   "metadata": {},
   "source": [
    "#### 5-1. (문제 기술)"
   ]
  },
  {
   "cell_type": "code",
   "execution_count": null,
   "metadata": {},
   "outputs": [],
   "source": []
  },
  {
   "cell_type": "markdown",
   "metadata": {},
   "source": [
    "#### 5-2. (문제 기술)"
   ]
  },
  {
   "cell_type": "code",
   "execution_count": null,
   "metadata": {},
   "outputs": [],
   "source": []
  },
  {
   "cell_type": "markdown",
   "metadata": {},
   "source": [
    "#### 5-3. (문제 기술)"
   ]
  },
  {
   "cell_type": "code",
   "execution_count": null,
   "metadata": {},
   "outputs": [],
   "source": []
  }
 ],
 "metadata": {
  "kernelspec": {
   "display_name": "Python [conda env:base] *",
   "language": "python",
   "name": "conda-base-py"
  },
  "language_info": {
   "codemirror_mode": {
    "name": "ipython",
    "version": 3
   },
   "file_extension": ".py",
   "mimetype": "text/x-python",
   "name": "python",
   "nbconvert_exporter": "python",
   "pygments_lexer": "ipython3",
   "version": "3.13.5"
  }
 },
 "nbformat": 4,
 "nbformat_minor": 4
}
